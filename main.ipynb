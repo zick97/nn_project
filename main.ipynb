{
 "cells": [
  {
   "cell_type": "code",
   "execution_count": 12,
   "metadata": {},
   "outputs": [],
   "source": [
    "from tools.game_tools import *\n",
    "import matplotlib.pyplot as plt\n",
    "%matplotlib inline"
   ]
  },
  {
   "attachments": {},
   "cell_type": "markdown",
   "metadata": {},
   "source": [
    "Inside the `game_tools.py` file, you can find the `Board()` class: one of its outputs is the game grid, created for the purpose of being able to play a game or observe its simulation. It also contains a bunch of vectors that are used to store all the useful information about the *board state*, such as the number of possible moves left, the number of valid moves and so on.\\\n",
    "All this information will later be used by the `Player()`'s children classes to make the decision about the next move."
   ]
  },
  {
   "attachments": {},
   "cell_type": "markdown",
   "metadata": {},
   "source": [
    "The `Game()` object instantiates the game itself: the most important argument is the `game_type` argument, which selects the two participants in the game, whether human or algorithmic."
   ]
  },
  {
   "cell_type": "code",
   "execution_count": 2,
   "metadata": {},
   "outputs": [
    {
     "name": "stdout",
     "output_type": "stream",
     "text": [
      "Game Type: user-user\n",
      "Player #1: Anna, Human\n",
      "Player #2: John, Human\n"
     ]
    }
   ],
   "source": [
    "user_game_try = Game(game_type='user-user', verbose=True, player1='John', player2='Anna')"
   ]
  },
  {
   "attachments": {},
   "cell_type": "markdown",
   "metadata": {},
   "source": [
    "In the cell below, you can challenge a friend in a classic game of *Connect4*."
   ]
  },
  {
   "cell_type": "code",
   "execution_count": 3,
   "metadata": {},
   "outputs": [
    {
     "name": "stdout",
     "output_type": "stream",
     "text": [
      "The WINNER is John, Human!!!\n",
      "+----------------------------------------------------------------+\n",
      "0  |     |     |     |     |     |     |     |\n",
      "   +-----+-----+-----+-----+-----+-----+-----+\n",
      "1  |     |     |     |     |     |     |     |\n",
      "   +-----+-----+-----+-----+-----+-----+-----+\n",
      "2  |     |  X  |     |     |     |     |     |\n",
      "   +-----+-----+-----+-----+-----+-----+-----+\n",
      "3  |     |  O  |  X  |     |     |     |     |\n",
      "   +-----+-----+-----+-----+-----+-----+-----+\n",
      "4  |  O  |  X  |  O  |  X  |     |     |     |\n",
      "   +-----+-----+-----+-----+-----+-----+-----+\n",
      "5  |  X  |  O  |  O  |  O  |  X  |     |     |\n",
      "   +-----+-----+-----+-----+-----+-----+-----+\n",
      "      0     1     2     3     4     5     6     \n"
     ]
    }
   ],
   "source": [
    "user_game_try.play_game()"
   ]
  },
  {
   "attachments": {},
   "cell_type": "markdown",
   "metadata": {},
   "source": [
    "By using the `save_game()` method, the whole game (sequence of the board states) is stored inside a Pandas Dataframe. As you can see, it is composed of 9 columns plus the index column, which just represents the turn number.\\\n",
    "\\\n",
    "Note that the *choice* column contains the player's choice on the board state represented along the same row, meaning that its effect on the board can be seen only in the following row.\\\n",
    "I decided to use this structure with the training of future ML models in mind: since the goal is for the model to produce a choice, we must imagine that it can only have data from the past to do so.\\\n",
    "Using as a feature a board state that has already been affected by a choice not yet made would be like looking into the future."
   ]
  },
  {
   "cell_type": "code",
   "execution_count": 4,
   "metadata": {},
   "outputs": [
    {
     "data": {
      "text/html": [
       "<div>\n",
       "<style scoped>\n",
       "    .dataframe tbody tr th:only-of-type {\n",
       "        vertical-align: middle;\n",
       "    }\n",
       "\n",
       "    .dataframe tbody tr th {\n",
       "        vertical-align: top;\n",
       "    }\n",
       "\n",
       "    .dataframe thead th {\n",
       "        text-align: right;\n",
       "    }\n",
       "</style>\n",
       "<table border=\"1\" class=\"dataframe\">\n",
       "  <thead>\n",
       "    <tr style=\"text-align: right;\">\n",
       "      <th></th>\n",
       "      <th>player</th>\n",
       "      <th>choice</th>\n",
       "      <th>col_0</th>\n",
       "      <th>col_1</th>\n",
       "      <th>col_2</th>\n",
       "      <th>col_3</th>\n",
       "      <th>col_4</th>\n",
       "      <th>col_5</th>\n",
       "      <th>col_6</th>\n",
       "    </tr>\n",
       "  </thead>\n",
       "  <tbody>\n",
       "    <tr>\n",
       "      <th>0</th>\n",
       "      <td>Anna</td>\n",
       "      <td>3</td>\n",
       "      <td>[0.0, 0.0, 0.0, 0.0, 0.0, 0.0]</td>\n",
       "      <td>[0.0, 0.0, 0.0, 0.0, 0.0, 0.0]</td>\n",
       "      <td>[0.0, 0.0, 0.0, 0.0, 0.0, 0.0]</td>\n",
       "      <td>[0.0, 0.0, 0.0, 0.0, 0.0, 0.0]</td>\n",
       "      <td>[0.0, 0.0, 0.0, 0.0, 0.0, 0.0]</td>\n",
       "      <td>[0.0, 0.0, 0.0, 0.0, 0.0, 0.0]</td>\n",
       "      <td>[0.0, 0.0, 0.0, 0.0, 0.0, 0.0]</td>\n",
       "    </tr>\n",
       "    <tr>\n",
       "      <th>1</th>\n",
       "      <td>John</td>\n",
       "      <td>0</td>\n",
       "      <td>[0.0, 0.0, 0.0, 0.0, 0.0, 0.0]</td>\n",
       "      <td>[0.0, 0.0, 0.0, 0.0, 0.0, 0.0]</td>\n",
       "      <td>[0.0, 0.0, 0.0, 0.0, 0.0, 0.0]</td>\n",
       "      <td>[0.0, 0.0, 0.0, 0.0, 0.0, -1.0]</td>\n",
       "      <td>[0.0, 0.0, 0.0, 0.0, 0.0, 0.0]</td>\n",
       "      <td>[0.0, 0.0, 0.0, 0.0, 0.0, 0.0]</td>\n",
       "      <td>[0.0, 0.0, 0.0, 0.0, 0.0, 0.0]</td>\n",
       "    </tr>\n",
       "    <tr>\n",
       "      <th>2</th>\n",
       "      <td>Anna</td>\n",
       "      <td>1</td>\n",
       "      <td>[0.0, 0.0, 0.0, 0.0, 0.0, 1.0]</td>\n",
       "      <td>[0.0, 0.0, 0.0, 0.0, 0.0, 0.0]</td>\n",
       "      <td>[0.0, 0.0, 0.0, 0.0, 0.0, 0.0]</td>\n",
       "      <td>[0.0, 0.0, 0.0, 0.0, 0.0, -1.0]</td>\n",
       "      <td>[0.0, 0.0, 0.0, 0.0, 0.0, 0.0]</td>\n",
       "      <td>[0.0, 0.0, 0.0, 0.0, 0.0, 0.0]</td>\n",
       "      <td>[0.0, 0.0, 0.0, 0.0, 0.0, 0.0]</td>\n",
       "    </tr>\n",
       "    <tr>\n",
       "      <th>3</th>\n",
       "      <td>John</td>\n",
       "      <td>1</td>\n",
       "      <td>[0.0, 0.0, 0.0, 0.0, 0.0, 1.0]</td>\n",
       "      <td>[0.0, 0.0, 0.0, 0.0, 0.0, -1.0]</td>\n",
       "      <td>[0.0, 0.0, 0.0, 0.0, 0.0, 0.0]</td>\n",
       "      <td>[0.0, 0.0, 0.0, 0.0, 0.0, -1.0]</td>\n",
       "      <td>[0.0, 0.0, 0.0, 0.0, 0.0, 0.0]</td>\n",
       "      <td>[0.0, 0.0, 0.0, 0.0, 0.0, 0.0]</td>\n",
       "      <td>[0.0, 0.0, 0.0, 0.0, 0.0, 0.0]</td>\n",
       "    </tr>\n",
       "    <tr>\n",
       "      <th>4</th>\n",
       "      <td>Anna</td>\n",
       "      <td>2</td>\n",
       "      <td>[0.0, 0.0, 0.0, 0.0, 0.0, 1.0]</td>\n",
       "      <td>[0.0, 0.0, 0.0, 0.0, 1.0, -1.0]</td>\n",
       "      <td>[0.0, 0.0, 0.0, 0.0, 0.0, 0.0]</td>\n",
       "      <td>[0.0, 0.0, 0.0, 0.0, 0.0, -1.0]</td>\n",
       "      <td>[0.0, 0.0, 0.0, 0.0, 0.0, 0.0]</td>\n",
       "      <td>[0.0, 0.0, 0.0, 0.0, 0.0, 0.0]</td>\n",
       "      <td>[0.0, 0.0, 0.0, 0.0, 0.0, 0.0]</td>\n",
       "    </tr>\n",
       "  </tbody>\n",
       "</table>\n",
       "</div>"
      ],
      "text/plain": [
       "  player  choice                           col_0   \n",
       "0   Anna       3  [0.0, 0.0, 0.0, 0.0, 0.0, 0.0]  \\\n",
       "1   John       0  [0.0, 0.0, 0.0, 0.0, 0.0, 0.0]   \n",
       "2   Anna       1  [0.0, 0.0, 0.0, 0.0, 0.0, 1.0]   \n",
       "3   John       1  [0.0, 0.0, 0.0, 0.0, 0.0, 1.0]   \n",
       "4   Anna       2  [0.0, 0.0, 0.0, 0.0, 0.0, 1.0]   \n",
       "\n",
       "                             col_1                           col_2   \n",
       "0   [0.0, 0.0, 0.0, 0.0, 0.0, 0.0]  [0.0, 0.0, 0.0, 0.0, 0.0, 0.0]  \\\n",
       "1   [0.0, 0.0, 0.0, 0.0, 0.0, 0.0]  [0.0, 0.0, 0.0, 0.0, 0.0, 0.0]   \n",
       "2   [0.0, 0.0, 0.0, 0.0, 0.0, 0.0]  [0.0, 0.0, 0.0, 0.0, 0.0, 0.0]   \n",
       "3  [0.0, 0.0, 0.0, 0.0, 0.0, -1.0]  [0.0, 0.0, 0.0, 0.0, 0.0, 0.0]   \n",
       "4  [0.0, 0.0, 0.0, 0.0, 1.0, -1.0]  [0.0, 0.0, 0.0, 0.0, 0.0, 0.0]   \n",
       "\n",
       "                             col_3                           col_4   \n",
       "0   [0.0, 0.0, 0.0, 0.0, 0.0, 0.0]  [0.0, 0.0, 0.0, 0.0, 0.0, 0.0]  \\\n",
       "1  [0.0, 0.0, 0.0, 0.0, 0.0, -1.0]  [0.0, 0.0, 0.0, 0.0, 0.0, 0.0]   \n",
       "2  [0.0, 0.0, 0.0, 0.0, 0.0, -1.0]  [0.0, 0.0, 0.0, 0.0, 0.0, 0.0]   \n",
       "3  [0.0, 0.0, 0.0, 0.0, 0.0, -1.0]  [0.0, 0.0, 0.0, 0.0, 0.0, 0.0]   \n",
       "4  [0.0, 0.0, 0.0, 0.0, 0.0, -1.0]  [0.0, 0.0, 0.0, 0.0, 0.0, 0.0]   \n",
       "\n",
       "                            col_5                           col_6  \n",
       "0  [0.0, 0.0, 0.0, 0.0, 0.0, 0.0]  [0.0, 0.0, 0.0, 0.0, 0.0, 0.0]  \n",
       "1  [0.0, 0.0, 0.0, 0.0, 0.0, 0.0]  [0.0, 0.0, 0.0, 0.0, 0.0, 0.0]  \n",
       "2  [0.0, 0.0, 0.0, 0.0, 0.0, 0.0]  [0.0, 0.0, 0.0, 0.0, 0.0, 0.0]  \n",
       "3  [0.0, 0.0, 0.0, 0.0, 0.0, 0.0]  [0.0, 0.0, 0.0, 0.0, 0.0, 0.0]  \n",
       "4  [0.0, 0.0, 0.0, 0.0, 0.0, 0.0]  [0.0, 0.0, 0.0, 0.0, 0.0, 0.0]  "
      ]
     },
     "execution_count": 4,
     "metadata": {},
     "output_type": "execute_result"
    }
   ],
   "source": [
    "df = user_game_try.save_game()\n",
    "df.head()"
   ]
  },
  {
   "attachments": {},
   "cell_type": "markdown",
   "metadata": {},
   "source": [
    "The `simulation()` function repeats the same process $n$ times. The goal is to simulate $n$ games played by autonomous systems.\\\n",
    "It also rearranges the indexing, so that each game has a unique index and the turn number as before, ending with 10 total columns.\\\n",
    "Note that the function avoids those games that end in a draw, since we are going to use only winning moves to train the algorithm."
   ]
  },
  {
   "cell_type": "code",
   "execution_count": 5,
   "metadata": {},
   "outputs": [
    {
     "name": "stderr",
     "output_type": "stream",
     "text": [
      "Simulating: 100%|███████████████| 100/100 [00:00<00:00, 146.69it/s]\n"
     ]
    }
   ],
   "source": [
    "# default save_json=False\n",
    "dataset = simulation(n=100, game_type='random-random')"
   ]
  },
  {
   "cell_type": "code",
   "execution_count": 6,
   "metadata": {},
   "outputs": [
    {
     "data": {
      "text/html": [
       "<div>\n",
       "<style scoped>\n",
       "    .dataframe tbody tr th:only-of-type {\n",
       "        vertical-align: middle;\n",
       "    }\n",
       "\n",
       "    .dataframe tbody tr th {\n",
       "        vertical-align: top;\n",
       "    }\n",
       "\n",
       "    .dataframe thead th {\n",
       "        text-align: right;\n",
       "    }\n",
       "</style>\n",
       "<table border=\"1\" class=\"dataframe\">\n",
       "  <thead>\n",
       "    <tr style=\"text-align: right;\">\n",
       "      <th></th>\n",
       "      <th>player</th>\n",
       "      <th>choice</th>\n",
       "      <th>col_0</th>\n",
       "      <th>col_1</th>\n",
       "      <th>col_2</th>\n",
       "      <th>col_3</th>\n",
       "      <th>col_4</th>\n",
       "      <th>col_5</th>\n",
       "      <th>col_6</th>\n",
       "      <th>move</th>\n",
       "    </tr>\n",
       "  </thead>\n",
       "  <tbody>\n",
       "    <tr>\n",
       "      <th>0</th>\n",
       "      <td>RandomAI_2</td>\n",
       "      <td>1</td>\n",
       "      <td>[0.0, 0.0, 0.0, 0.0, 0.0, 0.0]</td>\n",
       "      <td>[0.0, 0.0, 0.0, 0.0, 0.0, 0.0]</td>\n",
       "      <td>[0.0, 0.0, 0.0, 0.0, 0.0, 0.0]</td>\n",
       "      <td>[0.0, 0.0, 0.0, 0.0, 0.0, 0.0]</td>\n",
       "      <td>[0.0, 0.0, 0.0, 0.0, 0.0, 0.0]</td>\n",
       "      <td>[0.0, 0.0, 0.0, 0.0, 0.0, 0.0]</td>\n",
       "      <td>[0.0, 0.0, 0.0, 0.0, 0.0, 0.0]</td>\n",
       "      <td>0</td>\n",
       "    </tr>\n",
       "    <tr>\n",
       "      <th>0</th>\n",
       "      <td>RandomAI_1</td>\n",
       "      <td>0</td>\n",
       "      <td>[0.0, 0.0, 0.0, 0.0, 0.0, 0.0]</td>\n",
       "      <td>[0.0, 0.0, 0.0, 0.0, 0.0, -1.0]</td>\n",
       "      <td>[0.0, 0.0, 0.0, 0.0, 0.0, 0.0]</td>\n",
       "      <td>[0.0, 0.0, 0.0, 0.0, 0.0, 0.0]</td>\n",
       "      <td>[0.0, 0.0, 0.0, 0.0, 0.0, 0.0]</td>\n",
       "      <td>[0.0, 0.0, 0.0, 0.0, 0.0, 0.0]</td>\n",
       "      <td>[0.0, 0.0, 0.0, 0.0, 0.0, 0.0]</td>\n",
       "      <td>1</td>\n",
       "    </tr>\n",
       "    <tr>\n",
       "      <th>0</th>\n",
       "      <td>RandomAI_2</td>\n",
       "      <td>4</td>\n",
       "      <td>[0.0, 0.0, 0.0, 0.0, 0.0, 1.0]</td>\n",
       "      <td>[0.0, 0.0, 0.0, 0.0, 0.0, -1.0]</td>\n",
       "      <td>[0.0, 0.0, 0.0, 0.0, 0.0, 0.0]</td>\n",
       "      <td>[0.0, 0.0, 0.0, 0.0, 0.0, 0.0]</td>\n",
       "      <td>[0.0, 0.0, 0.0, 0.0, 0.0, 0.0]</td>\n",
       "      <td>[0.0, 0.0, 0.0, 0.0, 0.0, 0.0]</td>\n",
       "      <td>[0.0, 0.0, 0.0, 0.0, 0.0, 0.0]</td>\n",
       "      <td>2</td>\n",
       "    </tr>\n",
       "    <tr>\n",
       "      <th>0</th>\n",
       "      <td>RandomAI_1</td>\n",
       "      <td>1</td>\n",
       "      <td>[0.0, 0.0, 0.0, 0.0, 0.0, 1.0]</td>\n",
       "      <td>[0.0, 0.0, 0.0, 0.0, 0.0, -1.0]</td>\n",
       "      <td>[0.0, 0.0, 0.0, 0.0, 0.0, 0.0]</td>\n",
       "      <td>[0.0, 0.0, 0.0, 0.0, 0.0, 0.0]</td>\n",
       "      <td>[0.0, 0.0, 0.0, 0.0, 0.0, -1.0]</td>\n",
       "      <td>[0.0, 0.0, 0.0, 0.0, 0.0, 0.0]</td>\n",
       "      <td>[0.0, 0.0, 0.0, 0.0, 0.0, 0.0]</td>\n",
       "      <td>3</td>\n",
       "    </tr>\n",
       "    <tr>\n",
       "      <th>0</th>\n",
       "      <td>RandomAI_2</td>\n",
       "      <td>3</td>\n",
       "      <td>[0.0, 0.0, 0.0, 0.0, 0.0, 1.0]</td>\n",
       "      <td>[0.0, 0.0, 0.0, 0.0, 1.0, -1.0]</td>\n",
       "      <td>[0.0, 0.0, 0.0, 0.0, 0.0, 0.0]</td>\n",
       "      <td>[0.0, 0.0, 0.0, 0.0, 0.0, 0.0]</td>\n",
       "      <td>[0.0, 0.0, 0.0, 0.0, 0.0, -1.0]</td>\n",
       "      <td>[0.0, 0.0, 0.0, 0.0, 0.0, 0.0]</td>\n",
       "      <td>[0.0, 0.0, 0.0, 0.0, 0.0, 0.0]</td>\n",
       "      <td>4</td>\n",
       "    </tr>\n",
       "  </tbody>\n",
       "</table>\n",
       "</div>"
      ],
      "text/plain": [
       "       player  choice                           col_0   \n",
       "0  RandomAI_2       1  [0.0, 0.0, 0.0, 0.0, 0.0, 0.0]  \\\n",
       "0  RandomAI_1       0  [0.0, 0.0, 0.0, 0.0, 0.0, 0.0]   \n",
       "0  RandomAI_2       4  [0.0, 0.0, 0.0, 0.0, 0.0, 1.0]   \n",
       "0  RandomAI_1       1  [0.0, 0.0, 0.0, 0.0, 0.0, 1.0]   \n",
       "0  RandomAI_2       3  [0.0, 0.0, 0.0, 0.0, 0.0, 1.0]   \n",
       "\n",
       "                             col_1                           col_2   \n",
       "0   [0.0, 0.0, 0.0, 0.0, 0.0, 0.0]  [0.0, 0.0, 0.0, 0.0, 0.0, 0.0]  \\\n",
       "0  [0.0, 0.0, 0.0, 0.0, 0.0, -1.0]  [0.0, 0.0, 0.0, 0.0, 0.0, 0.0]   \n",
       "0  [0.0, 0.0, 0.0, 0.0, 0.0, -1.0]  [0.0, 0.0, 0.0, 0.0, 0.0, 0.0]   \n",
       "0  [0.0, 0.0, 0.0, 0.0, 0.0, -1.0]  [0.0, 0.0, 0.0, 0.0, 0.0, 0.0]   \n",
       "0  [0.0, 0.0, 0.0, 0.0, 1.0, -1.0]  [0.0, 0.0, 0.0, 0.0, 0.0, 0.0]   \n",
       "\n",
       "                            col_3                            col_4   \n",
       "0  [0.0, 0.0, 0.0, 0.0, 0.0, 0.0]   [0.0, 0.0, 0.0, 0.0, 0.0, 0.0]  \\\n",
       "0  [0.0, 0.0, 0.0, 0.0, 0.0, 0.0]   [0.0, 0.0, 0.0, 0.0, 0.0, 0.0]   \n",
       "0  [0.0, 0.0, 0.0, 0.0, 0.0, 0.0]   [0.0, 0.0, 0.0, 0.0, 0.0, 0.0]   \n",
       "0  [0.0, 0.0, 0.0, 0.0, 0.0, 0.0]  [0.0, 0.0, 0.0, 0.0, 0.0, -1.0]   \n",
       "0  [0.0, 0.0, 0.0, 0.0, 0.0, 0.0]  [0.0, 0.0, 0.0, 0.0, 0.0, -1.0]   \n",
       "\n",
       "                            col_5                           col_6  move  \n",
       "0  [0.0, 0.0, 0.0, 0.0, 0.0, 0.0]  [0.0, 0.0, 0.0, 0.0, 0.0, 0.0]     0  \n",
       "0  [0.0, 0.0, 0.0, 0.0, 0.0, 0.0]  [0.0, 0.0, 0.0, 0.0, 0.0, 0.0]     1  \n",
       "0  [0.0, 0.0, 0.0, 0.0, 0.0, 0.0]  [0.0, 0.0, 0.0, 0.0, 0.0, 0.0]     2  \n",
       "0  [0.0, 0.0, 0.0, 0.0, 0.0, 0.0]  [0.0, 0.0, 0.0, 0.0, 0.0, 0.0]     3  \n",
       "0  [0.0, 0.0, 0.0, 0.0, 0.0, 0.0]  [0.0, 0.0, 0.0, 0.0, 0.0, 0.0]     4  "
      ]
     },
     "execution_count": 6,
     "metadata": {},
     "output_type": "execute_result"
    }
   ],
   "source": [
    "dataset.head()"
   ]
  },
  {
   "attachments": {},
   "cell_type": "markdown",
   "metadata": {},
   "source": [
    "Now let's explore the dataset a bit.\\\n",
    "For example, let's start with plotting the distribution of the moves number."
   ]
  },
  {
   "cell_type": "code",
   "execution_count": 7,
   "metadata": {},
   "outputs": [],
   "source": [
    "# getting a bigger pre-saved dataset\n",
    "if len(dataset.index.unique()) < 10_000:\n",
    "    dataset = read_json('simulations/simulation_random-random_10000.json')"
   ]
  },
  {
   "cell_type": "code",
   "execution_count": 8,
   "metadata": {},
   "outputs": [
    {
     "data": {
      "text/plain": [
       "10000"
      ]
     },
     "execution_count": 8,
     "metadata": {},
     "output_type": "execute_result"
    }
   ],
   "source": [
    "# exactly n simulations, none of them ending in a draw\n",
    "len(dataset.index.unique())"
   ]
  },
  {
   "cell_type": "code",
   "execution_count": 9,
   "metadata": {},
   "outputs": [
    {
     "data": {
      "image/png": "[encoded data removed]",
      "text/plain": [
       "<Figure size 640x480 with 1 Axes>"
      ]
     },
     "metadata": {},
     "output_type": "display_data"
    },
    {
     "data": {
      "text/plain": [
       "array([ 7,  8,  9, 10, 11, 12, 13, 14, 15, 16, 17, 18, 19, 20, 21, 22, 23,\n",
       "       24, 25, 26, 27, 28, 29, 30, 31, 32, 33, 34, 35, 36, 37, 38, 39, 40,\n",
       "       41, 42], dtype=int64)"
      ]
     },
     "execution_count": 9,
     "metadata": {},
     "output_type": "execute_result"
    }
   ],
   "source": [
    "row_count = dataset.groupby(level=0).size()\n",
    "\n",
    "plt.hist(row_count, bins=20, alpha=0.7, edgecolor='black', linewidth=1)\n",
    "plt.title('Game Length [random-random]')\n",
    "plt.text(35, 900, f'$Mean = {row_count.mean().round(2)}$')\n",
    "plt.text(35, 850, f'$Std = {row_count.std().round(2)}$')\n",
    "plt.show()\n",
    "\n",
    "np.sort(row_count.unique())"
   ]
  },
  {
   "attachments": {},
   "cell_type": "markdown",
   "metadata": {},
   "source": [
    "As expected, the absolute frequency follows a Gaussian distribution, with the minimum value being 7.\\\n",
    "\\\n",
    "We now check whether one player won more times than the other, and also whether being the initial player may have provided an advantage on the final outcome of the match."
   ]
  },
  {
   "cell_type": "code",
   "execution_count": 10,
   "metadata": {},
   "outputs": [],
   "source": [
    "first_move = dataset.groupby(dataset.index).first() # first row of each sequence (game)\n",
    "last_move = dataset.groupby(dataset.index).last()   # last row of each sequence (game)\n",
    "player_list = first_move['player'].unique()         # players' names"
   ]
  },
  {
   "cell_type": "code",
   "execution_count": 11,
   "metadata": {},
   "outputs": [
    {
     "name": "stdout",
     "output_type": "stream",
     "text": [
      "RandomAI_1 winrate =  0.4992\n",
      "RandomAI_2 winrate =  0.5008\n",
      "Starter winrate  =  0.5603\n"
     ]
    }
   ],
   "source": [
    "for player in player_list:\n",
    "    print(f'{player} winrate = ', len(last_move[last_move['player'] == player]) / len(last_move))\n",
    "print(f'Starter winrate  = ', len(first_move[first_move['player'] == last_move['player']]) / len(last_move))"
   ]
  },
  {
   "attachments": {},
   "cell_type": "markdown",
   "metadata": {},
   "source": [
    "The random players' winrates are basically identical, while it seems that starting the game first can give a certain advantage.\\\n",
    "\\\n",
    "Now you can try to play a game against this random-playing opponent, called *Randy*. The goal is to train a neural network that ultimately provides a much more stimulating level of challenge than *Randy*.\\\n",
    "\\\n",
    "*__Note__: when playing against any autonomous player, remember to set the arguments `pause=True` and `verbose=True`, otherwise the opponent's choice won't be displayed. Just press any key to display its choice during the game.*"
   ]
  },
  {
   "cell_type": "code",
   "execution_count": 12,
   "metadata": {},
   "outputs": [
    {
     "name": "stdout",
     "output_type": "stream",
     "text": [
      "Game Type: user-random\n",
      "Player #1: Randy, RandomAI\n",
      "Player #2: John, Human\n"
     ]
    }
   ],
   "source": [
    "play_game = Game(game_type='user-random', verbose=True, pause=True, player1='John', player2='Randy')"
   ]
  },
  {
   "cell_type": "code",
   "execution_count": 13,
   "metadata": {},
   "outputs": [
    {
     "name": "stdout",
     "output_type": "stream",
     "text": [
      "The WINNER is John, Human!!!\n",
      "+----------------------------------------------------------------+\n",
      "0  |     |     |     |     |     |     |     |\n",
      "   +-----+-----+-----+-----+-----+-----+-----+\n",
      "1  |     |     |     |     |     |     |     |\n",
      "   +-----+-----+-----+-----+-----+-----+-----+\n",
      "2  |  O  |     |     |     |     |     |     |\n",
      "   +-----+-----+-----+-----+-----+-----+-----+\n",
      "3  |  X  |  O  |     |     |     |     |     |\n",
      "   +-----+-----+-----+-----+-----+-----+-----+\n",
      "4  |  X  |  O  |  O  |     |     |     |  O  |\n",
      "   +-----+-----+-----+-----+-----+-----+-----+\n",
      "5  |  X  |  O  |  X  |  X  |  X  |  X  |  O  |\n",
      "   +-----+-----+-----+-----+-----+-----+-----+\n",
      "      0     1     2     3     4     5     6     \n"
     ]
    }
   ],
   "source": [
    "play_game.play_game()"
   ]
  },
  {
   "attachments": {},
   "cell_type": "markdown",
   "metadata": {},
   "source": [
    "Now let's give a brief demonstration of the `SimplePlayer()` class, which implements the strategy described in the `player_tools.py` file inside the `tools` folder."
   ]
  },
  {
   "cell_type": "code",
   "execution_count": 14,
   "metadata": {},
   "outputs": [
    {
     "name": "stderr",
     "output_type": "stream",
     "text": [
      "Simulating:   0%|               | 0/100 [00:00<?, ?it/s]"
     ]
    },
    {
     "name": "stderr",
     "output_type": "stream",
     "text": [
      "Simulating: 100%|███████████████| 100/100 [00:00<00:00, 138.51it/s]\n"
     ]
    }
   ],
   "source": [
    "dataset = simulation(n=100, game_type='simple-random')\n",
    "# getting a bigger pre-saved dataset\n",
    "if len(dataset.index.unique()) < 10_000:\n",
    "    dataset = read_json('simulations/simulation_simple-random_10000.json')"
   ]
  },
  {
   "cell_type": "code",
   "execution_count": 16,
   "metadata": {},
   "outputs": [
    {
     "data": {
      "image/png": "[encoded data removed]",
      "text/plain": [
       "<Figure size 640x480 with 1 Axes>"
      ]
     },
     "metadata": {},
     "output_type": "display_data"
    },
    {
     "data": {
      "text/plain": [
       "array([ 7,  8,  9, 10, 11, 12, 13, 14, 15, 16, 17, 18, 19, 20, 21, 22, 23,\n",
       "       24, 25, 26, 27, 28, 29, 30, 31, 32, 33, 34, 35, 36, 37, 38, 39, 40,\n",
       "       41, 42], dtype=int64)"
      ]
     },
     "execution_count": 16,
     "metadata": {},
     "output_type": "execute_result"
    }
   ],
   "source": [
    "row_count = dataset.groupby(level=0).size()\n",
    "\n",
    "plt.hist(row_count, bins=20, alpha=0.7, edgecolor='black', linewidth=1)\n",
    "plt.title('Game Length [random-random]')\n",
    "plt.text(35, 1060, f'$Mean = {row_count.mean().round(2)}$')\n",
    "plt.text(35, 1000, f'$Std = {row_count.std().round(2)}$')\n",
    "plt.show()\n",
    "\n",
    "np.sort(row_count.unique())"
   ]
  },
  {
   "attachments": {},
   "cell_type": "markdown",
   "metadata": {},
   "source": [
    "The mean and standard deviation of the distribution are definitely smaller than before: in this simulated dataset the games last less moves in average, and the consistency is higher."
   ]
  },
  {
   "cell_type": "code",
   "execution_count": 17,
   "metadata": {},
   "outputs": [],
   "source": [
    "first_move = dataset.groupby(dataset.index).first() # first row of each sequence (game)\n",
    "last_move = dataset.groupby(dataset.index).last()   # last row of each sequence (game)\n",
    "player_list = first_move['player'].unique()         # players' names"
   ]
  },
  {
   "cell_type": "code",
   "execution_count": 18,
   "metadata": {},
   "outputs": [
    {
     "name": "stdout",
     "output_type": "stream",
     "text": [
      "SimpleAI_1 winrate =  0.9126\n",
      "RandomAI_2 winrate =  0.0874\n",
      "Starter winrate  =  0.5118\n"
     ]
    }
   ],
   "source": [
    "for player in player_list:\n",
    "    print(f'{player} winrate = ', len(last_move[last_move['player'] == player]) / len(last_move))\n",
    "print(f'Starter winrate  = ', len(first_move[first_move['player'] == last_move['player']]) / len(last_move))"
   ]
  },
  {
   "attachments": {},
   "cell_type": "markdown",
   "metadata": {},
   "source": [
    "As you can see, just by implementing a very simple strategy we have obtained an incredible player when compared to the *random* one. If you want a more challenging game, try a game against *Simply*, the `SimplePlayer()` opponent."
   ]
  },
  {
   "cell_type": "code",
   "execution_count": 19,
   "metadata": {},
   "outputs": [
    {
     "name": "stdout",
     "output_type": "stream",
     "text": [
      "The WINNER is Simply, SimpleAI!!!\n",
      "+----------------------------------------------------------------+\n",
      "0  |     |     |     |     |     |     |     |\n",
      "   +-----+-----+-----+-----+-----+-----+-----+\n",
      "1  |     |     |     |     |     |     |     |\n",
      "   +-----+-----+-----+-----+-----+-----+-----+\n",
      "2  |  O  |     |     |     |     |     |     |\n",
      "   +-----+-----+-----+-----+-----+-----+-----+\n",
      "3  |  X  |     |     |     |     |     |     |\n",
      "   +-----+-----+-----+-----+-----+-----+-----+\n",
      "4  |  X  |  X  |     |     |     |     |     |\n",
      "   +-----+-----+-----+-----+-----+-----+-----+\n",
      "5  |  X  |  X  |  O  |  O  |  O  |  O  |     |\n",
      "   +-----+-----+-----+-----+-----+-----+-----+\n",
      "      0     1     2     3     4     5     6     \n"
     ]
    }
   ],
   "source": [
    "play_game = Game(game_type='user-simple', verbose=True, pause=True, player1='John', player2='Simply')\n",
    "play_game.play_game()"
   ]
  },
  {
   "attachments": {},
   "cell_type": "markdown",
   "metadata": {},
   "source": [
    "Now it's time to get to the core of the project: training a Recurrent Neural Network to learn to play the game with a simulated dataset. We are going to use the dataset produced by two `SimplePlayer()` agents playing against each other.\\\n",
    "To make the Network learn a robust winning strategy, we want to train it using only the moves made by the winner of the game: the `prepare_dataset()` function takes care of exactly that."
   ]
  },
  {
   "cell_type": "code",
   "execution_count": 1,
   "metadata": {},
   "outputs": [],
   "source": [
    "from tools.game_tools import *"
   ]
  },
  {
   "cell_type": "code",
   "execution_count": 2,
   "metadata": {},
   "outputs": [
    {
     "name": "stderr",
     "output_type": "stream",
     "text": [
      "Simulating: 100%|███████████████| 100/100 [00:01<00:00, 87.78it/s]\n"
     ]
    }
   ],
   "source": [
    "dataset = simulation(n=100, game_type='simple-simple', save_json=False)\n",
    "if len(dataset.index.unique()) < 10_000:\n",
    "    dataset = read_json('simulations/simulation_simple-simple_10000.json')"
   ]
  },
  {
   "attachments": {},
   "cell_type": "markdown",
   "metadata": {},
   "source": [
    "Before transforming the dataset into a Tensorflow dataset, we have to fix the issue with the length difference between different games. We use sequences that are long just as the mean length of the simulated games.\\\n",
    "However, some of them are shorter and we cannot use different-sized sequences to create a Tensorflow dataset. Then, we need to implement __*0-padding*__, that is, manually filling the missing values with useless data, such as rows with an empty board and a fixed move: on an empty board, we suppose that the best choice is to put the token in column 0.\\\n",
    "For example, if a sequence is shorter by 3 elements, we then add 3 empty boards with the same choice (column 0) to the sequence itself\\\n",
    "\\\n",
    "We also batch this dataset in equally-sized batches, each of them corresponding to the last $n$ moves of a game."
   ]
  },
  {
   "cell_type": "code",
   "execution_count": 3,
   "metadata": {},
   "outputs": [],
   "source": [
    "dataset = df_to_tensor(dataset)"
   ]
  },
  {
   "attachments": {},
   "cell_type": "markdown",
   "metadata": {},
   "source": [
    "The `quickdraw_dataset()` function has the aim of quickdrawing the final dataset - to be used with the neural network - from the tensor created from the dataframe."
   ]
  },
  {
   "cell_type": "code",
   "execution_count": 4,
   "metadata": {},
   "outputs": [],
   "source": [
    "def quickdraw_dataset(dataset, batch_size=32, shuffle_buffer_size=None, cache=False):\n",
    "    if cache:\n",
    "        # cache the dataset\n",
    "        dataset = dataset.cache()\n",
    "    if shuffle_buffer_size:\n",
    "        # shuffle the dataset's batches\n",
    "        dataset = dataset.shuffle(shuffle_buffer_size)\n",
    "    # batch the games into batches of length 32, meaning that each batch will contain 32 games\n",
    "    dataset = dataset.batch(batch_size) \n",
    "    return dataset"
   ]
  },
  {
   "cell_type": "code",
   "execution_count": 5,
   "metadata": {},
   "outputs": [],
   "source": [
    "dataset = quickdraw_dataset(dataset, shuffle_buffer_size=50)"
   ]
  },
  {
   "attachments": {},
   "cell_type": "markdown",
   "metadata": {},
   "source": [
    "Before proceeding with the RNN training, I would like to emphasise the data structure we have obtained.\\\n",
    "The final dataset is a tensor of size $N_{batches}$ where $N_{batches}$ is the total number of batches. Each of these batches contains $N_{games}$ board state sequences, each of them associated to the winning move made in the simulation (called *choice* in the previous dataset). Each of these sequences contains $N_{moves}$ last winning moves for each game (this quantity corresponds to the average duration of the matches in the entire dataset).\\\n",
    "Therefore, each feature's shape can be represented as follows:\n",
    "<center>\n",
    "\n",
    "$$shape = (N_{games}, N_{moves}, N_{columns} \\times N_{rows})$$"
   ]
  },
  {
   "cell_type": "code",
   "execution_count": 6,
   "metadata": {},
   "outputs": [
    {
     "name": "stdout",
     "output_type": "stream",
     "text": [
      "(32, 21, 42)\n"
     ]
    }
   ],
   "source": [
    "# sequence of board states (for the 1st batch)\n",
    "for features, targets in dataset.take(1):\n",
    "    features = features.numpy()\n",
    "print(features.shape)"
   ]
  },
  {
   "cell_type": "code",
   "execution_count": 7,
   "metadata": {},
   "outputs": [
    {
     "name": "stdout",
     "output_type": "stream",
     "text": [
      "(32,)\n"
     ]
    }
   ],
   "source": [
    "# sequence of moves made on the previous group of board states\n",
    "for features, targets in dataset.take(1):\n",
    "    targets = targets.numpy()\n",
    "print(targets.shape)"
   ]
  },
  {
   "attachments": {},
   "cell_type": "markdown",
   "metadata": {},
   "source": [
    "Now it's time to split the dataset into a training set and a validation set. We don't need the test set since the final metric to evaluate the model's performance will be calculated from a number of simulated games between `RNNPlayer()` and `SimplePlayer()`."
   ]
  },
  {
   "cell_type": "code",
   "execution_count": 8,
   "metadata": {},
   "outputs": [],
   "source": [
    "dataset_size = dataset_size = len(list(dataset))\n",
    "\n",
    "val_size = int(0.2 * dataset_size)\n",
    "val_ds = dataset.take(val_size)\n",
    "train_ds = dataset.skip(val_size)"
   ]
  },
  {
   "cell_type": "code",
   "execution_count": 10,
   "metadata": {},
   "outputs": [
    {
     "name": "stdout",
     "output_type": "stream",
     "text": [
      "Epoch 1/10\n",
      "251/251 [==============================] - 5s 9ms/step - loss: 1.9296 - accuracy: 0.1916 - val_loss: 1.9002 - val_accuracy: 0.2198\n",
      "Epoch 2/10\n",
      "251/251 [==============================] - 2s 7ms/step - loss: 1.8439 - accuracy: 0.2539 - val_loss: 1.8650 - val_accuracy: 0.2455\n",
      "Epoch 3/10\n",
      "251/251 [==============================] - 2s 7ms/step - loss: 1.7783 - accuracy: 0.3016 - val_loss: 1.8309 - val_accuracy: 0.2747\n",
      "Epoch 4/10\n",
      "251/251 [==============================] - 2s 6ms/step - loss: 1.7153 - accuracy: 0.3333 - val_loss: 1.7977 - val_accuracy: 0.2939\n",
      "Epoch 5/10\n",
      "251/251 [==============================] - 2s 7ms/step - loss: 1.6540 - accuracy: 0.3656 - val_loss: 1.7664 - val_accuracy: 0.3115\n",
      "Epoch 6/10\n",
      "251/251 [==============================] - 2s 7ms/step - loss: 1.5999 - accuracy: 0.3851 - val_loss: 1.7378 - val_accuracy: 0.3201\n",
      "Epoch 7/10\n",
      "251/251 [==============================] - 2s 7ms/step - loss: 1.5456 - accuracy: 0.4130 - val_loss: 1.7152 - val_accuracy: 0.3402\n",
      "Epoch 8/10\n",
      "251/251 [==============================] - 2s 7ms/step - loss: 1.5004 - accuracy: 0.4313 - val_loss: 1.7049 - val_accuracy: 0.3417\n",
      "Epoch 9/10\n",
      "251/251 [==============================] - 2s 8ms/step - loss: 1.4469 - accuracy: 0.4536 - val_loss: 1.6806 - val_accuracy: 0.3432\n",
      "Epoch 10/10\n",
      "251/251 [==============================] - 2s 8ms/step - loss: 1.4014 - accuracy: 0.4794 - val_loss: 1.6548 - val_accuracy: 0.3508\n"
     ]
    }
   ],
   "source": [
    "def create_model():\n",
    "    model = tf.keras.Sequential([\n",
    "        tf.keras.layers.Conv1D(32, kernel_size=5, strides=2, activation='relu'),\n",
    "        tf.keras.layers.BatchNormalization(),\n",
    "        tf.keras.layers.Conv1D(64, kernel_size=3, activation='relu'),\n",
    "        tf.keras.layers.BatchNormalization(),\n",
    "        tf.keras.layers.LSTM(64),\n",
    "        tf.keras.layers.Dense(7, activation='softmax')\n",
    "    ])\n",
    "    return model\n",
    "\n",
    "model = create_model()\n",
    "early_stopping_cb = tf.keras.callbacks.EarlyStopping(\n",
    "    monitor='val_accuracy', patience=15, restore_best_weights=True\n",
    ")\n",
    "optimizer = tf.keras.optimizers.SGD(learning_rate=5e-2, clipnorm=1.)\n",
    "model.compile(loss='sparse_categorical_crossentropy',\n",
    "              optimizer=optimizer,\n",
    "              metrics=['accuracy'])\n",
    "\n",
    "history = model.fit(train_ds, epochs=10,\n",
    "                    validation_data=val_ds,\n",
    "                    callbacks=[early_stopping_cb])"
   ]
  },
  {
   "cell_type": "code",
   "execution_count": 13,
   "metadata": {},
   "outputs": [
    {
     "data": {
      "text/plain": [
       "<Figure size 500x300 with 0 Axes>"
      ]
     },
     "metadata": {},
     "output_type": "display_data"
    },
    {
     "data": {
      "image/png": "[encoded data removed]",
      "text/plain": [
       "<Figure size 640x480 with 2 Axes>"
      ]
     },
     "metadata": {},
     "output_type": "display_data"
    }
   ],
   "source": [
    "plt.figure(figsize=(5,3))\n",
    "fig, (ax1, ax2) = plt.subplots(2, 1, sharex=True)\n",
    "ax1.plot(history.history['loss'], marker='.')\n",
    "ax2.plot(history.history['accuracy'], marker='.', color='orange')\n",
    "\n",
    "ax1.set_ylabel('Loss')\n",
    "ax2.set_ylabel('Accuracy')\n",
    "plt.xlabel('Epochs')\n",
    "ax1.grid(True)\n",
    "ax2.grid(True)"
   ]
  },
  {
   "cell_type": "code",
   "execution_count": 14,
   "metadata": {},
   "outputs": [
    {
     "name": "stdout",
     "output_type": "stream",
     "text": [
      "1/1 [==============================] - 0s 481ms/step\n"
     ]
    },
    {
     "data": {
      "text/plain": [
       "6"
      ]
     },
     "execution_count": 14,
     "metadata": {},
     "output_type": "execute_result"
    }
   ],
   "source": [
    "# unfortunately, we always have to pass an entire batch to the model predictor\n",
    "# then, appending the desired sequence at the end of the batch, we can get the prediction's\n",
    "# result by using index slicing on the numpy array\n",
    "test = tf.convert_to_tensor(np.zeros(shape=(32, 11, 42)))\n",
    "model.predict(test)[-1:].argmax()"
   ]
  }
 ],
 "metadata": {
  "kernelspec": {
   "display_name": "Python 3",
   "language": "python",
   "name": "python3"
  },
  "language_info": {
   "codemirror_mode": {
    "name": "ipython",
    "version": 3
   },
   "file_extension": ".py",
   "mimetype": "text/x-python",
   "name": "python",
   "nbconvert_exporter": "python",
   "pygments_lexer": "ipython3",
   "version": "3.11.3"
  },
  "orig_nbformat": 4
 },
 "nbformat": 4,
 "nbformat_minor": 2
}

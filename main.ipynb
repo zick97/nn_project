{
 "cells": [
  {
   "attachments": {},
   "cell_type": "markdown",
   "metadata": {},
   "source": [
    "## Learning to play Connect4 using a Recurrent Neural Network"
   ]
  },
  {
   "cell_type": "code",
   "execution_count": 2,
   "metadata": {},
   "outputs": [],
   "source": [
    "import os\n",
    "\n",
    "import numpy as np\n",
    "import pandas as pd"
   ]
  },
  {
   "attachments": {},
   "cell_type": "markdown",
   "metadata": {},
   "source": [
    "First of all, we need to create the `Player()` class: this is a parent class for all the future *player* objects, provinding the essential information required to update the board state, to distinguish the two players and to check who has won the game.\\\n",
    "In fact, the class only contains the *constructor* function. "
   ]
  },
  {
   "cell_type": "code",
   "execution_count": 3,
   "metadata": {},
   "outputs": [],
   "source": [
    "class Player(object):\n",
    "    def __init__(self, p=1, name='Player1'):\n",
    "        self.player = p                     # number ID to produce the grid markers\n",
    "        self.name = name                    # the name is used only for displaying purposes and to avoid misunderstandings\n",
    "        if self.player == 1:\n",
    "            self.marker = 1\n",
    "        else:\n",
    "            self.marker = -1\n",
    "        self.target = int(4 * self.marker)  # +4 for player 1 and -4 for player 2"
   ]
  },
  {
   "attachments": {},
   "cell_type": "markdown",
   "metadata": {},
   "source": [
    "Every sub-class will inherit the previous features, as well as an additional function that determines the *child* player's next move. "
   ]
  },
  {
   "attachments": {},
   "cell_type": "markdown",
   "metadata": {},
   "source": [
    "Then, we need to create a `Board()` class. Its main functions are displaying the grid for the game, finding all the possible valid positions for the tokens, keeping track of the tokens positioning during the game, checking for a winner.\\\n",
    "Notice that the player's move (from the *choice* variable derived from `Player.choice` in the code cell below) is just a single integer value: it represents the column where the player is placing the token."
   ]
  },
  {
   "cell_type": "code",
   "execution_count": 4,
   "metadata": {},
   "outputs": [],
   "source": [
    "class Board(object):\n",
    "    def __init__(self, grid_size=(6,7)):\n",
    "        # winner checking: 1 for player1, -1 for player 2 and 0 for \"tie\"\n",
    "        self.winner = 0\n",
    "\n",
    "        # grid parameters\n",
    "        self.height = grid_size[0]\n",
    "        self.width = grid_size[1]\n",
    "        self.n_positions = self.height * self.width # number of initial positions\n",
    "\n",
    "        # how many positions are left for each column\n",
    "        self.column_n_pos = np.zeros(self.width, dtype=np.int16) + self.height\n",
    "        # how many total positions are left\n",
    "        self.n_pos_left = self.n_positions\n",
    "\n",
    "        # initializing functions\n",
    "        self.initialize_grids(grid_size)\n",
    "        self.initialize_vectors()\n",
    "\n",
    "    # function for initializing the grids used to keep track of the various positions\n",
    "    def initialize_grids(self, grid_size):\n",
    "        self.grid = np.zeros(shape=grid_size)                   # main grid\n",
    "        self.valid_grid = np.zeros_like(self.grid, dtype=bool)  # grid for valid moves\n",
    "        # initialize the whole first row as valid\n",
    "        self.valid_grid[-1] = True\n",
    "        # grid containing, for each column, the number of the column itself\n",
    "        self.column_grid = np.array([[i for i in range(self.width)] for j in range(self.height)])\n",
    "    \n",
    "    # function for initializing vectors that will be used later for the update process\n",
    "    # these vectors contain basically all the needed information about the grid state\n",
    "    def initialize_vectors(self):\n",
    "        self.vectors = []           # used to check if the winning condition is satisfied\n",
    "        self.valid_vectors = []     # used to let the player make a valid move during the game\n",
    "        self.column_vectors = []    # used to gather the information about the columns' state during the game\n",
    "\n",
    "        # to check for a winner, the next loop goes through the whole grid looking for a filled \"Connect4\"\n",
    "        # the view() method is only used to generate a new view of the arrays using the same data\n",
    "        for j in range(self.width - 3): # exclude the last 3 columns\n",
    "            for i, sub_row in enumerate(self.grid):\n",
    "                # view the next 4 cells \n",
    "                grid_view = self.grid[i][j:j+4].view()   \n",
    "                valid_view = self.valid_grid[i][j:j+4].view()\n",
    "                column_view = self.column_grid[i][j:j+4].view()\n",
    "        \n",
    "                self.vectors.append(grid_view)\n",
    "                self.valid_vectors.append(valid_view)\n",
    "                self.column_vectors.append(column_view)\n",
    "\n",
    "        # the column views are very similar to the previous ones, with the exception that we are using the \n",
    "        # transpose of the previous grid\n",
    "        t_grid = self.grid.transpose()\n",
    "        t_valid_grid = self.valid_grid.transpose()\n",
    "        t_column_grid = self.column_grid.transpose()\n",
    "\n",
    "        for j in range(self.height - 3): # exclude the last 3 rows\n",
    "            for i, sub_col in enumerate(t_grid):\n",
    "                # view the next 4 cells \n",
    "                grid_view = t_grid[i][j:j+4].view()   \n",
    "                valid_view = t_valid_grid[i][j:j+4].view()\n",
    "                column_view = t_column_grid[i][j:j+4].view()\n",
    "        \n",
    "                self.vectors.append(grid_view)\n",
    "                self.valid_vectors.append(valid_view)\n",
    "                self.column_vectors.append(column_view)\n",
    "\n",
    "        # diagonal views are a bit different: we firstly divide the grids into smaller 4x4 sub-grids\n",
    "        # then, using numpy's diagonal and flip methods, we take both the diagonal and the anti-diagonal\n",
    "        # of these sub-grids\n",
    "        for j in range(self.width - 3):\n",
    "            for i in range(self.height - 3):\n",
    "                sub_grid = self.grid[i:i+4, j:j+4]\n",
    "                sub_valid_grid = self.valid_grid[i:i+4, j:j+4]\n",
    "                sub_column_grid = self.column_grid[i:i+4, j:j+4]\n",
    "\n",
    "                grid_diag = np.diagonal(sub_grid).view()\n",
    "                grid_adiag = np.flipud(sub_grid).diagonal().view()\n",
    "                valid_grid_diag = np.diagonal(sub_valid_grid).view()\n",
    "                valid_grid_adiag = np.flipud(sub_valid_grid).diagonal().view()\n",
    "                column_grid_diag = np.diagonal(sub_column_grid).view()\n",
    "                column_grid_adiag = np.flipud(sub_column_grid).diagonal().view()\n",
    "\n",
    "                self.vectors.append(grid_diag)\n",
    "                self.vectors.append(grid_adiag)\n",
    "                self.valid_vectors.append(valid_grid_diag)\n",
    "                self.valid_vectors.append(valid_grid_adiag)\n",
    "                self.column_vectors.append(column_grid_diag)\n",
    "                self.column_vectors.append(column_grid_adiag)\n",
    "                \n",
    "    \n",
    "    # function used to update the grid state, based on a Player's choice (the column to place the token in)\n",
    "    def update_grid(self, Player):\n",
    "        choice = Player.choice\n",
    "        # row corresponding to the column choice \n",
    "        row = self.column_n_pos[choice] - 1 # since the enumeration starts from 0\n",
    "\n",
    "        # first check: is there place for an additional token in that column?\n",
    "        valid_columns = [i for i, v in enumerate(self.column_n_pos) if v != 0]\n",
    "        if choice not in valid_columns:\n",
    "            print(f'Error: this column number {choice} has no more valid positions!')\n",
    "            return -1\n",
    "        \n",
    "        # update values in the main grid and the boolean one, using the player's marker (-1 or +1)\n",
    "        self.grid[row,choice] = Player.marker\n",
    "        self.valid_grid[row,choice] = False\n",
    "        # the cell on top of the token becomes available\n",
    "        if (row != 0):  # the last top row \n",
    "            self.valid_grid[row-1,choice] = True\n",
    "\n",
    "        # update the number of moves left in the choice column\n",
    "        if self.column_n_pos[choice] > 0:\n",
    "            self.column_n_pos[choice] -= 1\n",
    "\n",
    "        elif self.column_n_pos[choice] == 0:\n",
    "            print(f'Error: the number of valid positions in column number {choice} is already 0!')\n",
    "            return -1\n",
    "        \n",
    "        # update the total number of moves left\n",
    "        if self.n_pos_left <= 0:\n",
    "            print('Error : there are no positions left!')\n",
    "            return -1\n",
    "        else :\n",
    "            self.n_pos_left -= 1\n",
    "\n",
    "    \n",
    "    def check_winner(self, Player):\n",
    "        win = False\n",
    "        for vector in self.vectors:\n",
    "            if sum(vector) == Player.target:\n",
    "                self.winner = Player.marker\n",
    "                win = True\n",
    "                break\n",
    "        return win\n",
    "    \n",
    "    def display_grid(self):\n",
    "        display = np.zeros_like(self.grid).astype(int).astype(str)\n",
    "        for x, row in enumerate(display):\n",
    "            for y, _ in enumerate(row):\n",
    "                if(self.grid[x][y] == -1):\n",
    "                    display[x][y] = 'O'\n",
    "                elif(self.grid[x][y] == 1):\n",
    "                     display[x][y] = 'X'\n",
    "                elif(self.grid[x][y] == 0):\n",
    "                     display[x][y] = ' '\n",
    "        count = 0\n",
    "        pattern = '   '\n",
    "        for i in range(display.shape[1]):\n",
    "            pattern += '+-----'\n",
    "        pattern += '+'\n",
    "        for row in display:\n",
    "            txt = str(count)\n",
    "            for cell in row:\n",
    "                txt += '  |  ' + cell\n",
    "            txt += '  |'\n",
    "            print(txt)\n",
    "            print(pattern)\n",
    "            count += 1\n",
    "\n",
    "        txt = '      '\n",
    "        for i in range(display.shape[1]):\n",
    "            txt += str(i) + '     '\n",
    "        print(txt)"
   ]
  },
  {
   "attachments": {},
   "cell_type": "markdown",
   "metadata": {},
   "source": [
    "Below, we display the final resulting grid, with all the columns and row numbers as they were used in the code."
   ]
  },
  {
   "cell_type": "code",
   "execution_count": 5,
   "metadata": {},
   "outputs": [
    {
     "name": "stdout",
     "output_type": "stream",
     "text": [
      "0  |     |     |     |     |     |     |     |\n",
      "   +-----+-----+-----+-----+-----+-----+-----+\n",
      "1  |     |     |     |     |     |     |     |\n",
      "   +-----+-----+-----+-----+-----+-----+-----+\n",
      "2  |     |     |     |     |     |     |     |\n",
      "   +-----+-----+-----+-----+-----+-----+-----+\n",
      "3  |     |     |     |     |     |     |     |\n",
      "   +-----+-----+-----+-----+-----+-----+-----+\n",
      "4  |     |     |     |     |     |     |     |\n",
      "   +-----+-----+-----+-----+-----+-----+-----+\n",
      "5  |     |     |     |     |     |     |     |\n",
      "   +-----+-----+-----+-----+-----+-----+-----+\n",
      "      0     1     2     3     4     5     6     \n"
     ]
    }
   ],
   "source": [
    "# empty grid\n",
    "grid = Board()\n",
    "grid.display_grid()"
   ]
  },
  {
   "attachments": {},
   "cell_type": "markdown",
   "metadata": {},
   "source": [
    "__*First Player*: Human__\\\n",
    "The `HumanPlayer()` move is decided by the user itself."
   ]
  },
  {
   "cell_type": "code",
   "execution_count": 6,
   "metadata": {},
   "outputs": [],
   "source": [
    "class HumanPlayer(Player):\n",
    "    def __init__(self, p=1, name='Human'):\n",
    "        Player.__init__(self, p, name)\n",
    "        self.player_type = 'Human'\n",
    "\n",
    "    def move(self, Board):\n",
    "        self.choice = int(input('Digit a column number to place your token.'))"
   ]
  },
  {
   "attachments": {},
   "cell_type": "markdown",
   "metadata": {},
   "source": [
    "__First Player: *Random*__\\\n",
    "The first player is a newbie and does not really know how to play. Therefore, it is playing randomly.\\\n",
    "The only constraints are provided by the conditions written inside the `Board()` class."
   ]
  },
  {
   "cell_type": "code",
   "execution_count": 7,
   "metadata": {},
   "outputs": [],
   "source": [
    "class RandomPlayer(Player):\n",
    "    def __init__(self, p=1, name='Random'):\n",
    "        Player.__init__(self, p, name)\n",
    "        self.player_type = 'RandomAI'\n",
    "\n",
    "    def move(self, Board):\n",
    "        valid_columns = [i for i, v in enumerate(Board.column_n_pos) if v != 0]\n",
    "        self.choice = np.random.choice(valid_columns)"
   ]
  },
  {
   "attachments": {},
   "cell_type": "markdown",
   "metadata": {},
   "source": [
    "Now we need to create the object able to instantiate all the other objects (`Board()` and `Player()`'s child classes) in order to get a full game of *Connect4*, being it simulated or actually played by the users.\\\n",
    "Note that this class requires a `game_type` string argument, defined as follows:\n",
    "1. *`user-user`*: classic game 1v1, played by human users to overcome the boredom of the NNs' training process,\n",
    "2. *`random-random`*: random player vs random player,\n",
    "3. *`user-random`*: user versus random player (used mainly for debugging and problem checking),\n",
    "4. *`user-simple`*: user versus simple hard-coded player,\n",
    "5. *`simple-random`*: simple hard-coded player versus random player,\n",
    "6. *`simple-simple`*: two simple hard-coded players playing against each other,\n",
    "7. *`rnn-simple`*: recurrent network against simple hard-coded player,\n",
    "8. *`rnn-rnn`*: two recurrent networks against each other (the core of the training process),\n",
    "9. *`user-rnn`*: the final goal of this project $\\rightarrow$ human player against a well-trained neural network."
   ]
  },
  {
   "cell_type": "code",
   "execution_count": 8,
   "metadata": {},
   "outputs": [],
   "source": [
    "import math\n",
    "from IPython.display import clear_output\n",
    "\n",
    "class Game(object):\n",
    "    def __init__(self, game_type=None, verbose=False, pause=False, player1=None, player2=None):\n",
    "        self.verbose = verbose              # shows the grid during the game\n",
    "        self.pause = pause                  # used when playing against AI to visualize its moves      \n",
    "        self.flag = False                   # used to break the loop at the end of the game\n",
    "        self.Board = Board()                # generate the board and all the useful vectors\n",
    "        \n",
    "        self.game_record = {'player' : [], \n",
    "                            'choice' : [],  # dictionary used to save the game\n",
    "                            'grid' : []}\n",
    "\n",
    "        if (player1 != None) & (player2 != None):\n",
    "                name1 = player1\n",
    "                name2 = player2\n",
    "        else:\n",
    "                name1 = 'Player 1'\n",
    "                name2 = 'Player 2'\n",
    "\n",
    "        if game_type=='user-user':\n",
    "            p1 = HumanPlayer(name=name1, p=1)\n",
    "            p2 = HumanPlayer(name=name2, p=-1)\n",
    "        \n",
    "        if game_type=='user-random':\n",
    "            p1 = HumanPlayer(name=name1, p=1)\n",
    "            p2 = RandomPlayer(name=name2, p=2)\n",
    "\n",
    "        if game_type=='random-random':\n",
    "            p1 = RandomPlayer(name=name1, p=1)\n",
    "            p2 = RandomPlayer(name=name2, p=2)\n",
    "\n",
    "        # the starting player is always chosen at random \n",
    "        self.player_list = [p1, p2]\n",
    "        np.random.shuffle(self.player_list)\n",
    "\n",
    "        if self.verbose:\n",
    "            print(f'Game Type: {game_type}')\n",
    "            print(f'Player #1: {self.player_list[0].name}, {self.player_list[0].player_type}')\n",
    "            print(f'Player #2: {self.player_list[1].name}, {self.player_list[1].player_type}')\n",
    "    \n",
    "    # this function runs through a game of Connect4 by first asking the player for a move, then updating the grid and,\n",
    "    # finally, checking for a winner (eventually, it stops when reaching the total number of possible moves)\n",
    "    def play_game(self, record=True):\n",
    "        self.move_counter = 0\n",
    "        for _ in range(math.ceil(self.Board.n_positions / 2)):   # main loop, one iteration per move by both players\n",
    "            for player in self.player_list:            \n",
    "                self.move_counter += 1\n",
    "                # we save the grid before the grid update, so that the choice in the final dataset will\n",
    "                # correspond to the choice made on that particular grid\n",
    "                if record:\n",
    "                    self.game_record['grid'].append((self.Board.grid.transpose()).tolist())\n",
    "                    self.game_record['player'].append(player.name)\n",
    "                # the board state (from the Board.update_grid() function) returns -1 if the player\n",
    "                # makes an invalid move\n",
    "                board_state = -1\n",
    "                while board_state == -1:\n",
    "                    if self.verbose:\n",
    "                        print(f'Turn #{self.move_counter}: rock to {player.name}!')\n",
    "                        print('+----------------------------------------------------------------+')\n",
    "                        self.Board.display_grid()\n",
    "                        clear_output(wait=True)\n",
    "                        if (self.pause) & (player.player_type != 'Human') : input()\n",
    "                    player.move(self.Board)\n",
    "                    board_state = self.Board.update_grid(player)\n",
    "                if record:\n",
    "                    self.game_record['choice'].append(player.choice)\n",
    "                self.win = self.Board.check_winner(player)      # check if the game has a winner\n",
    "                if self.win:\n",
    "                    if self.verbose:\n",
    "                        print(f'The WINNER is {player.name}, {player.player_type}!!!')\n",
    "                        print('+----------------------------------------------------------------+')\n",
    "                        self.Board.display_grid()\n",
    "                        if (self.pause) & (player.player_type != 'Human') : input()\n",
    "                    self.Board.winner = player.player\n",
    "                    break\n",
    "            # check if there are no positions left\n",
    "            if (self.win) | (self.Board.n_pos_left == 0):\n",
    "                break\n",
    "        \n",
    "    def save_game(self):\n",
    "        df = pd.DataFrame(self.game_record)\n",
    "        columns = [f'col_{i}' for i in range(self.Board.width)]\n",
    "        df[columns] = pd.DataFrame(df['grid'].tolist(), index=df.index)\n",
    "        df.drop(columns='grid', inplace=True)\n",
    "        return df"
   ]
  },
  {
   "cell_type": "code",
   "execution_count": 9,
   "metadata": {},
   "outputs": [
    {
     "name": "stdout",
     "output_type": "stream",
     "text": [
      "Game Type: user-user\n",
      "Player #1: John, Human\n",
      "Player #2: Anna, Human\n"
     ]
    }
   ],
   "source": [
    "user_game_try = Game(game_type='user-user', verbose=True, player1='John', player2='Anna')"
   ]
  },
  {
   "cell_type": "code",
   "execution_count": 10,
   "metadata": {},
   "outputs": [
    {
     "name": "stdout",
     "output_type": "stream",
     "text": [
      "The WINNER is John, Human!!!\n",
      "+----------------------------------------------------------------+\n",
      "0  |     |     |     |     |     |     |     |\n",
      "   +-----+-----+-----+-----+-----+-----+-----+\n",
      "1  |     |     |     |     |     |     |     |\n",
      "   +-----+-----+-----+-----+-----+-----+-----+\n",
      "2  |     |     |     |     |     |     |     |\n",
      "   +-----+-----+-----+-----+-----+-----+-----+\n",
      "3  |     |     |     |     |     |     |     |\n",
      "   +-----+-----+-----+-----+-----+-----+-----+\n",
      "4  |     |     |     |  O  |  O  |     |     |\n",
      "   +-----+-----+-----+-----+-----+-----+-----+\n",
      "5  |  X  |  X  |  X  |  X  |  O  |     |     |\n",
      "   +-----+-----+-----+-----+-----+-----+-----+\n",
      "      0     1     2     3     4     5     6     \n"
     ]
    }
   ],
   "source": [
    "user_game_try.play_game()"
   ]
  },
  {
   "cell_type": "code",
   "execution_count": 11,
   "metadata": {},
   "outputs": [],
   "source": [
    "df = user_game_try.save_game()"
   ]
  },
  {
   "cell_type": "code",
   "execution_count": 12,
   "metadata": {},
   "outputs": [
    {
     "data": {
      "text/html": [
       "<div>\n",
       "<style scoped>\n",
       "    .dataframe tbody tr th:only-of-type {\n",
       "        vertical-align: middle;\n",
       "    }\n",
       "\n",
       "    .dataframe tbody tr th {\n",
       "        vertical-align: top;\n",
       "    }\n",
       "\n",
       "    .dataframe thead th {\n",
       "        text-align: right;\n",
       "    }\n",
       "</style>\n",
       "<table border=\"1\" class=\"dataframe\">\n",
       "  <thead>\n",
       "    <tr style=\"text-align: right;\">\n",
       "      <th></th>\n",
       "      <th>player</th>\n",
       "      <th>choice</th>\n",
       "      <th>col_0</th>\n",
       "      <th>col_1</th>\n",
       "      <th>col_2</th>\n",
       "      <th>col_3</th>\n",
       "      <th>col_4</th>\n",
       "      <th>col_5</th>\n",
       "      <th>col_6</th>\n",
       "    </tr>\n",
       "  </thead>\n",
       "  <tbody>\n",
       "    <tr>\n",
       "      <th>0</th>\n",
       "      <td>John</td>\n",
       "      <td>2</td>\n",
       "      <td>[0.0, 0.0, 0.0, 0.0, 0.0, 0.0]</td>\n",
       "      <td>[0.0, 0.0, 0.0, 0.0, 0.0, 0.0]</td>\n",
       "      <td>[0.0, 0.0, 0.0, 0.0, 0.0, 0.0]</td>\n",
       "      <td>[0.0, 0.0, 0.0, 0.0, 0.0, 0.0]</td>\n",
       "      <td>[0.0, 0.0, 0.0, 0.0, 0.0, 0.0]</td>\n",
       "      <td>[0.0, 0.0, 0.0, 0.0, 0.0, 0.0]</td>\n",
       "      <td>[0.0, 0.0, 0.0, 0.0, 0.0, 0.0]</td>\n",
       "    </tr>\n",
       "    <tr>\n",
       "      <th>1</th>\n",
       "      <td>Anna</td>\n",
       "      <td>4</td>\n",
       "      <td>[0.0, 0.0, 0.0, 0.0, 0.0, 0.0]</td>\n",
       "      <td>[0.0, 0.0, 0.0, 0.0, 0.0, 0.0]</td>\n",
       "      <td>[0.0, 0.0, 0.0, 0.0, 0.0, 1.0]</td>\n",
       "      <td>[0.0, 0.0, 0.0, 0.0, 0.0, 0.0]</td>\n",
       "      <td>[0.0, 0.0, 0.0, 0.0, 0.0, 0.0]</td>\n",
       "      <td>[0.0, 0.0, 0.0, 0.0, 0.0, 0.0]</td>\n",
       "      <td>[0.0, 0.0, 0.0, 0.0, 0.0, 0.0]</td>\n",
       "    </tr>\n",
       "    <tr>\n",
       "      <th>2</th>\n",
       "      <td>John</td>\n",
       "      <td>3</td>\n",
       "      <td>[0.0, 0.0, 0.0, 0.0, 0.0, 0.0]</td>\n",
       "      <td>[0.0, 0.0, 0.0, 0.0, 0.0, 0.0]</td>\n",
       "      <td>[0.0, 0.0, 0.0, 0.0, 0.0, 1.0]</td>\n",
       "      <td>[0.0, 0.0, 0.0, 0.0, 0.0, 0.0]</td>\n",
       "      <td>[0.0, 0.0, 0.0, 0.0, 0.0, -1.0]</td>\n",
       "      <td>[0.0, 0.0, 0.0, 0.0, 0.0, 0.0]</td>\n",
       "      <td>[0.0, 0.0, 0.0, 0.0, 0.0, 0.0]</td>\n",
       "    </tr>\n",
       "    <tr>\n",
       "      <th>3</th>\n",
       "      <td>Anna</td>\n",
       "      <td>4</td>\n",
       "      <td>[0.0, 0.0, 0.0, 0.0, 0.0, 0.0]</td>\n",
       "      <td>[0.0, 0.0, 0.0, 0.0, 0.0, 0.0]</td>\n",
       "      <td>[0.0, 0.0, 0.0, 0.0, 0.0, 1.0]</td>\n",
       "      <td>[0.0, 0.0, 0.0, 0.0, 0.0, 1.0]</td>\n",
       "      <td>[0.0, 0.0, 0.0, 0.0, 0.0, -1.0]</td>\n",
       "      <td>[0.0, 0.0, 0.0, 0.0, 0.0, 0.0]</td>\n",
       "      <td>[0.0, 0.0, 0.0, 0.0, 0.0, 0.0]</td>\n",
       "    </tr>\n",
       "    <tr>\n",
       "      <th>4</th>\n",
       "      <td>John</td>\n",
       "      <td>1</td>\n",
       "      <td>[0.0, 0.0, 0.0, 0.0, 0.0, 0.0]</td>\n",
       "      <td>[0.0, 0.0, 0.0, 0.0, 0.0, 0.0]</td>\n",
       "      <td>[0.0, 0.0, 0.0, 0.0, 0.0, 1.0]</td>\n",
       "      <td>[0.0, 0.0, 0.0, 0.0, 0.0, 1.0]</td>\n",
       "      <td>[0.0, 0.0, 0.0, 0.0, -1.0, -1.0]</td>\n",
       "      <td>[0.0, 0.0, 0.0, 0.0, 0.0, 0.0]</td>\n",
       "      <td>[0.0, 0.0, 0.0, 0.0, 0.0, 0.0]</td>\n",
       "    </tr>\n",
       "  </tbody>\n",
       "</table>\n",
       "</div>"
      ],
      "text/plain": [
       "  player  choice                           col_0   \n",
       "0   John       2  [0.0, 0.0, 0.0, 0.0, 0.0, 0.0]  \\\n",
       "1   Anna       4  [0.0, 0.0, 0.0, 0.0, 0.0, 0.0]   \n",
       "2   John       3  [0.0, 0.0, 0.0, 0.0, 0.0, 0.0]   \n",
       "3   Anna       4  [0.0, 0.0, 0.0, 0.0, 0.0, 0.0]   \n",
       "4   John       1  [0.0, 0.0, 0.0, 0.0, 0.0, 0.0]   \n",
       "\n",
       "                            col_1                           col_2   \n",
       "0  [0.0, 0.0, 0.0, 0.0, 0.0, 0.0]  [0.0, 0.0, 0.0, 0.0, 0.0, 0.0]  \\\n",
       "1  [0.0, 0.0, 0.0, 0.0, 0.0, 0.0]  [0.0, 0.0, 0.0, 0.0, 0.0, 1.0]   \n",
       "2  [0.0, 0.0, 0.0, 0.0, 0.0, 0.0]  [0.0, 0.0, 0.0, 0.0, 0.0, 1.0]   \n",
       "3  [0.0, 0.0, 0.0, 0.0, 0.0, 0.0]  [0.0, 0.0, 0.0, 0.0, 0.0, 1.0]   \n",
       "4  [0.0, 0.0, 0.0, 0.0, 0.0, 0.0]  [0.0, 0.0, 0.0, 0.0, 0.0, 1.0]   \n",
       "\n",
       "                            col_3                             col_4   \n",
       "0  [0.0, 0.0, 0.0, 0.0, 0.0, 0.0]    [0.0, 0.0, 0.0, 0.0, 0.0, 0.0]  \\\n",
       "1  [0.0, 0.0, 0.0, 0.0, 0.0, 0.0]    [0.0, 0.0, 0.0, 0.0, 0.0, 0.0]   \n",
       "2  [0.0, 0.0, 0.0, 0.0, 0.0, 0.0]   [0.0, 0.0, 0.0, 0.0, 0.0, -1.0]   \n",
       "3  [0.0, 0.0, 0.0, 0.0, 0.0, 1.0]   [0.0, 0.0, 0.0, 0.0, 0.0, -1.0]   \n",
       "4  [0.0, 0.0, 0.0, 0.0, 0.0, 1.0]  [0.0, 0.0, 0.0, 0.0, -1.0, -1.0]   \n",
       "\n",
       "                            col_5                           col_6  \n",
       "0  [0.0, 0.0, 0.0, 0.0, 0.0, 0.0]  [0.0, 0.0, 0.0, 0.0, 0.0, 0.0]  \n",
       "1  [0.0, 0.0, 0.0, 0.0, 0.0, 0.0]  [0.0, 0.0, 0.0, 0.0, 0.0, 0.0]  \n",
       "2  [0.0, 0.0, 0.0, 0.0, 0.0, 0.0]  [0.0, 0.0, 0.0, 0.0, 0.0, 0.0]  \n",
       "3  [0.0, 0.0, 0.0, 0.0, 0.0, 0.0]  [0.0, 0.0, 0.0, 0.0, 0.0, 0.0]  \n",
       "4  [0.0, 0.0, 0.0, 0.0, 0.0, 0.0]  [0.0, 0.0, 0.0, 0.0, 0.0, 0.0]  "
      ]
     },
     "execution_count": 12,
     "metadata": {},
     "output_type": "execute_result"
    }
   ],
   "source": [
    "df.head()"
   ]
  },
  {
   "attachments": {},
   "cell_type": "markdown",
   "metadata": {},
   "source": [
    "To generate our training datasets, we only have to simulate the games multiple times, saving the results into a bigger `DataFrame()` object."
   ]
  },
  {
   "cell_type": "code",
   "execution_count": 70,
   "metadata": {},
   "outputs": [],
   "source": [
    "from tqdm import tqdm\n",
    "# simulating N AI-AI games\n",
    "def simulation(n=100, game_type='random-random'):\n",
    "    # we are going to build a MultiIndex dataframe from a multi-index array, so we need to instantiate\n",
    "    # 2 arrays, one for the outer index (game index) and one for the inner one (move index)\n",
    "    outer_index_array = np.array([])\n",
    "    inner_index_array = np.array([])\n",
    "    dataset = pd.DataFrame()\n",
    "    for i in tqdm(range(n), desc='Simulating', bar_format='{l_bar}{bar:15}{r_bar}{bar:-10b}'):\n",
    "        random_random = Game(game_type=game_type)   # initialize the game environment\n",
    "        random_random.play_game()                   # play the game\n",
    "        game = random_random.save_game()            # save the game as a dataframe\n",
    "        # update the index arrays: the game index is just an array repeating the index of the game M times,\n",
    "        # where M is the number of moves (length of the game)\n",
    "        outer_index_array = np.append(outer_index_array, [str(i)] * len(game)).astype(int)\n",
    "        # the move index is just a sequnce from 0 to M\n",
    "        inner_index_array = np.append(inner_index_array, [j for j in range(len(game))]).astype(int)\n",
    "        dataset = pd.concat([dataset, game])\n",
    "        \n",
    "    print('Saving: ...')\n",
    "    # need to flatten the arrays\n",
    "    index_array = np.concatenate([[outer_index_array.flatten()], [inner_index_array.flatten()]])\n",
    "    multi_index = pd.MultiIndex.from_arrays(index_array.tolist(), names=['game', 'move'])\n",
    "    dataset = pd.DataFrame(data=dataset.values, columns=dataset.columns, index=multi_index)\n",
    "    dataset.to_csv(f'simulations/simulation_{game_type}_{n}.csv')\n",
    "    return dataset"
   ]
  },
  {
   "cell_type": "code",
   "execution_count": 71,
   "metadata": {},
   "outputs": [
    {
     "name": "stderr",
     "output_type": "stream",
     "text": [
      "Simulating: 100%|███████████████| 1000/1000 [00:17<00:00, 56.79it/s]\n"
     ]
    },
    {
     "name": "stdout",
     "output_type": "stream",
     "text": [
      "Saving: ...\n"
     ]
    }
   ],
   "source": [
    "dataset = simulation(n=1000, game_type='random-random')"
   ]
  },
  {
   "attachments": {},
   "cell_type": "markdown",
   "metadata": {},
   "source": [
    "Now let's explore this dataset a bit. For example, let's start to plot the distribution of the moves number."
   ]
  },
  {
   "cell_type": "code",
   "execution_count": 98,
   "metadata": {},
   "outputs": [],
   "source": [
    "import matplotlib.pyplot as plt\n",
    "%matplotlib inline"
   ]
  },
  {
   "cell_type": "code",
   "execution_count": 102,
   "metadata": {},
   "outputs": [
    {
     "data": {
      "image/png": "[encoded data removed]",
      "text/plain": [
       "<Figure size 640x480 with 1 Axes>"
      ]
     },
     "metadata": {},
     "output_type": "display_data"
    }
   ],
   "source": [
    "row_count = dataset.groupby(level=0).size()\n",
    "plt.hist(row_count, bins=20, edgecolor='black', linewidth=1)\n",
    "plt.title('Game Length [random-random]')\n",
    "plt.show()"
   ]
  }
 ],
 "metadata": {
  "kernelspec": {
   "display_name": "Python 3",
   "language": "python",
   "name": "python3"
  },
  "language_info": {
   "codemirror_mode": {
    "name": "ipython",
    "version": 3
   },
   "file_extension": ".py",
   "mimetype": "text/x-python",
   "name": "python",
   "nbconvert_exporter": "python",
   "pygments_lexer": "ipython3",
   "version": "3.11.3"
  },
  "orig_nbformat": 4
 },
 "nbformat": 4,
 "nbformat_minor": 2
}

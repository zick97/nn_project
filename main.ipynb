{
 "cells": [
  {
   "cell_type": "code",
   "execution_count": 172,
   "metadata": {},
   "outputs": [],
   "source": [
    "from tools.game_tools import *"
   ]
  },
  {
   "attachments": {},
   "cell_type": "markdown",
   "metadata": {},
   "source": [
    "Inside the `game_tools.py` file, you can find the `Board()` class: one of its outputs is the game grid, created for the purpose of being able to play a game or observe its simulation. It also contains a bunch of vectors that are used to store all the useful information about the *board state*, such as the number of possible moves left, the number of valid moves and so on.\\\n",
    "All this information will later be used by the `Player()`'s children classes to make the decision about the next move."
   ]
  },
  {
   "attachments": {},
   "cell_type": "markdown",
   "metadata": {},
   "source": [
    "The `Game()` object instantiates the game itself: the most important argument is the `game_type` argument, which selects the two participants in the game, whether human or algorithmic."
   ]
  },
  {
   "cell_type": "code",
   "execution_count": 2,
   "metadata": {},
   "outputs": [
    {
     "name": "stdout",
     "output_type": "stream",
     "text": [
      "Game Type: user-user\n",
      "Player #1: John, Human\n",
      "Player #2: Anna, Human\n"
     ]
    }
   ],
   "source": [
    "user_game_try = Game(game_type='user-user', verbose=True, player1='John', player2='Anna')"
   ]
  },
  {
   "attachments": {},
   "cell_type": "markdown",
   "metadata": {},
   "source": [
    "In the cell below, you can challenge a friend in a classic game of *Connect4*."
   ]
  },
  {
   "cell_type": "code",
   "execution_count": 3,
   "metadata": {},
   "outputs": [
    {
     "name": "stdout",
     "output_type": "stream",
     "text": [
      "The WINNER is Anna, Human!!!\n",
      "+----------------------------------------------------------------+\n",
      "0  |     |     |     |     |     |     |     |\n",
      "   +-----+-----+-----+-----+-----+-----+-----+\n",
      "1  |     |     |     |     |     |     |     |\n",
      "   +-----+-----+-----+-----+-----+-----+-----+\n",
      "2  |     |  O  |     |     |     |     |     |\n",
      "   +-----+-----+-----+-----+-----+-----+-----+\n",
      "3  |     |  X  |  O  |     |     |     |     |\n",
      "   +-----+-----+-----+-----+-----+-----+-----+\n",
      "4  |     |  X  |  X  |  O  |     |     |     |\n",
      "   +-----+-----+-----+-----+-----+-----+-----+\n",
      "5  |     |  X  |  O  |  X  |  O  |     |     |\n",
      "   +-----+-----+-----+-----+-----+-----+-----+\n",
      "      0     1     2     3     4     5     6     \n"
     ]
    }
   ],
   "source": [
    "user_game_try.play_game()"
   ]
  },
  {
   "attachments": {},
   "cell_type": "markdown",
   "metadata": {},
   "source": [
    "By using the `save_game()` method, the whole game (sequence of the board states) is stored inside a Pandas Dataframe. As you can see, it is composed of 9 columns plus the index column, which just represents the turn number.\\\n",
    "\\\n",
    "Note that the *choice* column contains the player's choice on the board state represented along the same row, meaning that its effect on the board can be seen only in the following row.\\\n",
    "I decided to use this structure with the training of future ML models in mind: since the goal is for the model to produce a choice, we must imagine that it can only have data from the past to do so.\\\n",
    "Using as a feature a board state that has already been affected by a choice not yet made would be like looking into the future."
   ]
  },
  {
   "cell_type": "code",
   "execution_count": 4,
   "metadata": {},
   "outputs": [
    {
     "data": {
      "text/html": [
       "<div>\n",
       "<style scoped>\n",
       "    .dataframe tbody tr th:only-of-type {\n",
       "        vertical-align: middle;\n",
       "    }\n",
       "\n",
       "    .dataframe tbody tr th {\n",
       "        vertical-align: top;\n",
       "    }\n",
       "\n",
       "    .dataframe thead th {\n",
       "        text-align: right;\n",
       "    }\n",
       "</style>\n",
       "<table border=\"1\" class=\"dataframe\">\n",
       "  <thead>\n",
       "    <tr style=\"text-align: right;\">\n",
       "      <th></th>\n",
       "      <th>player</th>\n",
       "      <th>choice</th>\n",
       "      <th>col_0</th>\n",
       "      <th>col_1</th>\n",
       "      <th>col_2</th>\n",
       "      <th>col_3</th>\n",
       "      <th>col_4</th>\n",
       "      <th>col_5</th>\n",
       "      <th>col_6</th>\n",
       "    </tr>\n",
       "  </thead>\n",
       "  <tbody>\n",
       "    <tr>\n",
       "      <th>0</th>\n",
       "      <td>John</td>\n",
       "      <td>1</td>\n",
       "      <td>[0.0, 0.0, 0.0, 0.0, 0.0, 0.0]</td>\n",
       "      <td>[0.0, 0.0, 0.0, 0.0, 0.0, 0.0]</td>\n",
       "      <td>[0.0, 0.0, 0.0, 0.0, 0.0, 0.0]</td>\n",
       "      <td>[0.0, 0.0, 0.0, 0.0, 0.0, 0.0]</td>\n",
       "      <td>[0.0, 0.0, 0.0, 0.0, 0.0, 0.0]</td>\n",
       "      <td>[0.0, 0.0, 0.0, 0.0, 0.0, 0.0]</td>\n",
       "      <td>[0.0, 0.0, 0.0, 0.0, 0.0, 0.0]</td>\n",
       "    </tr>\n",
       "    <tr>\n",
       "      <th>1</th>\n",
       "      <td>Anna</td>\n",
       "      <td>2</td>\n",
       "      <td>[0.0, 0.0, 0.0, 0.0, 0.0, 0.0]</td>\n",
       "      <td>[0.0, 0.0, 0.0, 0.0, 0.0, 1.0]</td>\n",
       "      <td>[0.0, 0.0, 0.0, 0.0, 0.0, 0.0]</td>\n",
       "      <td>[0.0, 0.0, 0.0, 0.0, 0.0, 0.0]</td>\n",
       "      <td>[0.0, 0.0, 0.0, 0.0, 0.0, 0.0]</td>\n",
       "      <td>[0.0, 0.0, 0.0, 0.0, 0.0, 0.0]</td>\n",
       "      <td>[0.0, 0.0, 0.0, 0.0, 0.0, 0.0]</td>\n",
       "    </tr>\n",
       "    <tr>\n",
       "      <th>2</th>\n",
       "      <td>John</td>\n",
       "      <td>1</td>\n",
       "      <td>[0.0, 0.0, 0.0, 0.0, 0.0, 0.0]</td>\n",
       "      <td>[0.0, 0.0, 0.0, 0.0, 0.0, 1.0]</td>\n",
       "      <td>[0.0, 0.0, 0.0, 0.0, 0.0, -1.0]</td>\n",
       "      <td>[0.0, 0.0, 0.0, 0.0, 0.0, 0.0]</td>\n",
       "      <td>[0.0, 0.0, 0.0, 0.0, 0.0, 0.0]</td>\n",
       "      <td>[0.0, 0.0, 0.0, 0.0, 0.0, 0.0]</td>\n",
       "      <td>[0.0, 0.0, 0.0, 0.0, 0.0, 0.0]</td>\n",
       "    </tr>\n",
       "    <tr>\n",
       "      <th>3</th>\n",
       "      <td>Anna</td>\n",
       "      <td>4</td>\n",
       "      <td>[0.0, 0.0, 0.0, 0.0, 0.0, 0.0]</td>\n",
       "      <td>[0.0, 0.0, 0.0, 0.0, 1.0, 1.0]</td>\n",
       "      <td>[0.0, 0.0, 0.0, 0.0, 0.0, -1.0]</td>\n",
       "      <td>[0.0, 0.0, 0.0, 0.0, 0.0, 0.0]</td>\n",
       "      <td>[0.0, 0.0, 0.0, 0.0, 0.0, 0.0]</td>\n",
       "      <td>[0.0, 0.0, 0.0, 0.0, 0.0, 0.0]</td>\n",
       "      <td>[0.0, 0.0, 0.0, 0.0, 0.0, 0.0]</td>\n",
       "    </tr>\n",
       "    <tr>\n",
       "      <th>4</th>\n",
       "      <td>John</td>\n",
       "      <td>3</td>\n",
       "      <td>[0.0, 0.0, 0.0, 0.0, 0.0, 0.0]</td>\n",
       "      <td>[0.0, 0.0, 0.0, 0.0, 1.0, 1.0]</td>\n",
       "      <td>[0.0, 0.0, 0.0, 0.0, 0.0, -1.0]</td>\n",
       "      <td>[0.0, 0.0, 0.0, 0.0, 0.0, 0.0]</td>\n",
       "      <td>[0.0, 0.0, 0.0, 0.0, 0.0, -1.0]</td>\n",
       "      <td>[0.0, 0.0, 0.0, 0.0, 0.0, 0.0]</td>\n",
       "      <td>[0.0, 0.0, 0.0, 0.0, 0.0, 0.0]</td>\n",
       "    </tr>\n",
       "  </tbody>\n",
       "</table>\n",
       "</div>"
      ],
      "text/plain": [
       "  player  choice                           col_0   \n",
       "0   John       1  [0.0, 0.0, 0.0, 0.0, 0.0, 0.0]  \\\n",
       "1   Anna       2  [0.0, 0.0, 0.0, 0.0, 0.0, 0.0]   \n",
       "2   John       1  [0.0, 0.0, 0.0, 0.0, 0.0, 0.0]   \n",
       "3   Anna       4  [0.0, 0.0, 0.0, 0.0, 0.0, 0.0]   \n",
       "4   John       3  [0.0, 0.0, 0.0, 0.0, 0.0, 0.0]   \n",
       "\n",
       "                            col_1                            col_2   \n",
       "0  [0.0, 0.0, 0.0, 0.0, 0.0, 0.0]   [0.0, 0.0, 0.0, 0.0, 0.0, 0.0]  \\\n",
       "1  [0.0, 0.0, 0.0, 0.0, 0.0, 1.0]   [0.0, 0.0, 0.0, 0.0, 0.0, 0.0]   \n",
       "2  [0.0, 0.0, 0.0, 0.0, 0.0, 1.0]  [0.0, 0.0, 0.0, 0.0, 0.0, -1.0]   \n",
       "3  [0.0, 0.0, 0.0, 0.0, 1.0, 1.0]  [0.0, 0.0, 0.0, 0.0, 0.0, -1.0]   \n",
       "4  [0.0, 0.0, 0.0, 0.0, 1.0, 1.0]  [0.0, 0.0, 0.0, 0.0, 0.0, -1.0]   \n",
       "\n",
       "                            col_3                            col_4   \n",
       "0  [0.0, 0.0, 0.0, 0.0, 0.0, 0.0]   [0.0, 0.0, 0.0, 0.0, 0.0, 0.0]  \\\n",
       "1  [0.0, 0.0, 0.0, 0.0, 0.0, 0.0]   [0.0, 0.0, 0.0, 0.0, 0.0, 0.0]   \n",
       "2  [0.0, 0.0, 0.0, 0.0, 0.0, 0.0]   [0.0, 0.0, 0.0, 0.0, 0.0, 0.0]   \n",
       "3  [0.0, 0.0, 0.0, 0.0, 0.0, 0.0]   [0.0, 0.0, 0.0, 0.0, 0.0, 0.0]   \n",
       "4  [0.0, 0.0, 0.0, 0.0, 0.0, 0.0]  [0.0, 0.0, 0.0, 0.0, 0.0, -1.0]   \n",
       "\n",
       "                            col_5                           col_6  \n",
       "0  [0.0, 0.0, 0.0, 0.0, 0.0, 0.0]  [0.0, 0.0, 0.0, 0.0, 0.0, 0.0]  \n",
       "1  [0.0, 0.0, 0.0, 0.0, 0.0, 0.0]  [0.0, 0.0, 0.0, 0.0, 0.0, 0.0]  \n",
       "2  [0.0, 0.0, 0.0, 0.0, 0.0, 0.0]  [0.0, 0.0, 0.0, 0.0, 0.0, 0.0]  \n",
       "3  [0.0, 0.0, 0.0, 0.0, 0.0, 0.0]  [0.0, 0.0, 0.0, 0.0, 0.0, 0.0]  \n",
       "4  [0.0, 0.0, 0.0, 0.0, 0.0, 0.0]  [0.0, 0.0, 0.0, 0.0, 0.0, 0.0]  "
      ]
     },
     "execution_count": 4,
     "metadata": {},
     "output_type": "execute_result"
    }
   ],
   "source": [
    "df = user_game_try.save_game()\n",
    "df.head()"
   ]
  },
  {
   "attachments": {},
   "cell_type": "markdown",
   "metadata": {},
   "source": [
    "The `simulation()` function repeats the same process $n$ times. The goal is to simulate $n$ games played by autonomous systems.\\\n",
    "It also rearranges the indexing, so that each game has a unique index and the turn number as before, ending with 10 total columns.\\\n",
    "Note that the function avoids those games that end in a draw, since we are going to use only winning moves to train the algorithm."
   ]
  },
  {
   "cell_type": "code",
   "execution_count": 5,
   "metadata": {},
   "outputs": [
    {
     "name": "stderr",
     "output_type": "stream",
     "text": [
      "Simulating:   0%|               | 0/100 [00:00<?, ?it/s]"
     ]
    },
    {
     "name": "stderr",
     "output_type": "stream",
     "text": [
      "Simulating: 100%|███████████████| 100/100 [00:00<00:00, 143.75it/s]"
     ]
    },
    {
     "name": "stdout",
     "output_type": "stream",
     "text": [
      "Saving: ...\n"
     ]
    },
    {
     "name": "stderr",
     "output_type": "stream",
     "text": [
      "\n"
     ]
    }
   ],
   "source": [
    "dataset = simulation(n=100, game_type='random-random')"
   ]
  },
  {
   "cell_type": "code",
   "execution_count": 6,
   "metadata": {},
   "outputs": [
    {
     "data": {
      "text/html": [
       "<div>\n",
       "<style scoped>\n",
       "    .dataframe tbody tr th:only-of-type {\n",
       "        vertical-align: middle;\n",
       "    }\n",
       "\n",
       "    .dataframe tbody tr th {\n",
       "        vertical-align: top;\n",
       "    }\n",
       "\n",
       "    .dataframe thead th {\n",
       "        text-align: right;\n",
       "    }\n",
       "</style>\n",
       "<table border=\"1\" class=\"dataframe\">\n",
       "  <thead>\n",
       "    <tr style=\"text-align: right;\">\n",
       "      <th></th>\n",
       "      <th>player</th>\n",
       "      <th>move</th>\n",
       "      <th>choice</th>\n",
       "      <th>col_0</th>\n",
       "      <th>col_1</th>\n",
       "      <th>col_2</th>\n",
       "      <th>col_3</th>\n",
       "      <th>col_4</th>\n",
       "      <th>col_5</th>\n",
       "      <th>col_6</th>\n",
       "    </tr>\n",
       "  </thead>\n",
       "  <tbody>\n",
       "    <tr>\n",
       "      <th>0</th>\n",
       "      <td>RandomAI_1</td>\n",
       "      <td>0</td>\n",
       "      <td>1</td>\n",
       "      <td>[0.0, 0.0, 0.0, 0.0, 0.0, 0.0]</td>\n",
       "      <td>[0.0, 0.0, 0.0, 0.0, 0.0, 0.0]</td>\n",
       "      <td>[0.0, 0.0, 0.0, 0.0, 0.0, 0.0]</td>\n",
       "      <td>[0.0, 0.0, 0.0, 0.0, 0.0, 0.0]</td>\n",
       "      <td>[0.0, 0.0, 0.0, 0.0, 0.0, 0.0]</td>\n",
       "      <td>[0.0, 0.0, 0.0, 0.0, 0.0, 0.0]</td>\n",
       "      <td>[0.0, 0.0, 0.0, 0.0, 0.0, 0.0]</td>\n",
       "    </tr>\n",
       "    <tr>\n",
       "      <th>0</th>\n",
       "      <td>RandomAI_2</td>\n",
       "      <td>1</td>\n",
       "      <td>2</td>\n",
       "      <td>[0.0, 0.0, 0.0, 0.0, 0.0, 0.0]</td>\n",
       "      <td>[0.0, 0.0, 0.0, 0.0, 0.0, 1.0]</td>\n",
       "      <td>[0.0, 0.0, 0.0, 0.0, 0.0, 0.0]</td>\n",
       "      <td>[0.0, 0.0, 0.0, 0.0, 0.0, 0.0]</td>\n",
       "      <td>[0.0, 0.0, 0.0, 0.0, 0.0, 0.0]</td>\n",
       "      <td>[0.0, 0.0, 0.0, 0.0, 0.0, 0.0]</td>\n",
       "      <td>[0.0, 0.0, 0.0, 0.0, 0.0, 0.0]</td>\n",
       "    </tr>\n",
       "    <tr>\n",
       "      <th>0</th>\n",
       "      <td>RandomAI_1</td>\n",
       "      <td>2</td>\n",
       "      <td>1</td>\n",
       "      <td>[0.0, 0.0, 0.0, 0.0, 0.0, 0.0]</td>\n",
       "      <td>[0.0, 0.0, 0.0, 0.0, 0.0, 1.0]</td>\n",
       "      <td>[0.0, 0.0, 0.0, 0.0, 0.0, -1.0]</td>\n",
       "      <td>[0.0, 0.0, 0.0, 0.0, 0.0, 0.0]</td>\n",
       "      <td>[0.0, 0.0, 0.0, 0.0, 0.0, 0.0]</td>\n",
       "      <td>[0.0, 0.0, 0.0, 0.0, 0.0, 0.0]</td>\n",
       "      <td>[0.0, 0.0, 0.0, 0.0, 0.0, 0.0]</td>\n",
       "    </tr>\n",
       "    <tr>\n",
       "      <th>0</th>\n",
       "      <td>RandomAI_2</td>\n",
       "      <td>3</td>\n",
       "      <td>0</td>\n",
       "      <td>[0.0, 0.0, 0.0, 0.0, 0.0, 0.0]</td>\n",
       "      <td>[0.0, 0.0, 0.0, 0.0, 1.0, 1.0]</td>\n",
       "      <td>[0.0, 0.0, 0.0, 0.0, 0.0, -1.0]</td>\n",
       "      <td>[0.0, 0.0, 0.0, 0.0, 0.0, 0.0]</td>\n",
       "      <td>[0.0, 0.0, 0.0, 0.0, 0.0, 0.0]</td>\n",
       "      <td>[0.0, 0.0, 0.0, 0.0, 0.0, 0.0]</td>\n",
       "      <td>[0.0, 0.0, 0.0, 0.0, 0.0, 0.0]</td>\n",
       "    </tr>\n",
       "    <tr>\n",
       "      <th>0</th>\n",
       "      <td>RandomAI_1</td>\n",
       "      <td>4</td>\n",
       "      <td>6</td>\n",
       "      <td>[0.0, 0.0, 0.0, 0.0, 0.0, -1.0]</td>\n",
       "      <td>[0.0, 0.0, 0.0, 0.0, 1.0, 1.0]</td>\n",
       "      <td>[0.0, 0.0, 0.0, 0.0, 0.0, -1.0]</td>\n",
       "      <td>[0.0, 0.0, 0.0, 0.0, 0.0, 0.0]</td>\n",
       "      <td>[0.0, 0.0, 0.0, 0.0, 0.0, 0.0]</td>\n",
       "      <td>[0.0, 0.0, 0.0, 0.0, 0.0, 0.0]</td>\n",
       "      <td>[0.0, 0.0, 0.0, 0.0, 0.0, 0.0]</td>\n",
       "    </tr>\n",
       "  </tbody>\n",
       "</table>\n",
       "</div>"
      ],
      "text/plain": [
       "       player  move  choice                            col_0   \n",
       "0  RandomAI_1     0       1   [0.0, 0.0, 0.0, 0.0, 0.0, 0.0]  \\\n",
       "0  RandomAI_2     1       2   [0.0, 0.0, 0.0, 0.0, 0.0, 0.0]   \n",
       "0  RandomAI_1     2       1   [0.0, 0.0, 0.0, 0.0, 0.0, 0.0]   \n",
       "0  RandomAI_2     3       0   [0.0, 0.0, 0.0, 0.0, 0.0, 0.0]   \n",
       "0  RandomAI_1     4       6  [0.0, 0.0, 0.0, 0.0, 0.0, -1.0]   \n",
       "\n",
       "                            col_1                            col_2   \n",
       "0  [0.0, 0.0, 0.0, 0.0, 0.0, 0.0]   [0.0, 0.0, 0.0, 0.0, 0.0, 0.0]  \\\n",
       "0  [0.0, 0.0, 0.0, 0.0, 0.0, 1.0]   [0.0, 0.0, 0.0, 0.0, 0.0, 0.0]   \n",
       "0  [0.0, 0.0, 0.0, 0.0, 0.0, 1.0]  [0.0, 0.0, 0.0, 0.0, 0.0, -1.0]   \n",
       "0  [0.0, 0.0, 0.0, 0.0, 1.0, 1.0]  [0.0, 0.0, 0.0, 0.0, 0.0, -1.0]   \n",
       "0  [0.0, 0.0, 0.0, 0.0, 1.0, 1.0]  [0.0, 0.0, 0.0, 0.0, 0.0, -1.0]   \n",
       "\n",
       "                            col_3                           col_4   \n",
       "0  [0.0, 0.0, 0.0, 0.0, 0.0, 0.0]  [0.0, 0.0, 0.0, 0.0, 0.0, 0.0]  \\\n",
       "0  [0.0, 0.0, 0.0, 0.0, 0.0, 0.0]  [0.0, 0.0, 0.0, 0.0, 0.0, 0.0]   \n",
       "0  [0.0, 0.0, 0.0, 0.0, 0.0, 0.0]  [0.0, 0.0, 0.0, 0.0, 0.0, 0.0]   \n",
       "0  [0.0, 0.0, 0.0, 0.0, 0.0, 0.0]  [0.0, 0.0, 0.0, 0.0, 0.0, 0.0]   \n",
       "0  [0.0, 0.0, 0.0, 0.0, 0.0, 0.0]  [0.0, 0.0, 0.0, 0.0, 0.0, 0.0]   \n",
       "\n",
       "                            col_5                           col_6  \n",
       "0  [0.0, 0.0, 0.0, 0.0, 0.0, 0.0]  [0.0, 0.0, 0.0, 0.0, 0.0, 0.0]  \n",
       "0  [0.0, 0.0, 0.0, 0.0, 0.0, 0.0]  [0.0, 0.0, 0.0, 0.0, 0.0, 0.0]  \n",
       "0  [0.0, 0.0, 0.0, 0.0, 0.0, 0.0]  [0.0, 0.0, 0.0, 0.0, 0.0, 0.0]  \n",
       "0  [0.0, 0.0, 0.0, 0.0, 0.0, 0.0]  [0.0, 0.0, 0.0, 0.0, 0.0, 0.0]  \n",
       "0  [0.0, 0.0, 0.0, 0.0, 0.0, 0.0]  [0.0, 0.0, 0.0, 0.0, 0.0, 0.0]  "
      ]
     },
     "execution_count": 6,
     "metadata": {},
     "output_type": "execute_result"
    }
   ],
   "source": [
    "dataset.head()"
   ]
  },
  {
   "attachments": {},
   "cell_type": "markdown",
   "metadata": {},
   "source": [
    "Now let's explore the dataset a bit.\\\n",
    "For example, let's start with plotting the distribution of the moves number."
   ]
  },
  {
   "cell_type": "code",
   "execution_count": 7,
   "metadata": {},
   "outputs": [],
   "source": [
    "import matplotlib.pyplot as plt\n",
    "%matplotlib inline\n",
    "\n",
    "# getting a bigger pre-saved dataset\n",
    "if len(dataset.index.unique()) < 10_000:\n",
    "    dataset = pd.read_csv('simulations/simulation_random-random_10000.csv', index_col=0)"
   ]
  },
  {
   "cell_type": "code",
   "execution_count": 8,
   "metadata": {},
   "outputs": [
    {
     "data": {
      "text/plain": [
       "10000"
      ]
     },
     "execution_count": 8,
     "metadata": {},
     "output_type": "execute_result"
    }
   ],
   "source": [
    "# exactly n simulations, none of them ending in a draw\n",
    "len(dataset.index.unique())"
   ]
  },
  {
   "cell_type": "code",
   "execution_count": 9,
   "metadata": {},
   "outputs": [
    {
     "data": {
      "image/png": "[encoded data removed]",
      "text/plain": [
       "<Figure size 640x480 with 1 Axes>"
      ]
     },
     "metadata": {},
     "output_type": "display_data"
    },
    {
     "data": {
      "text/plain": [
       "array([ 7,  8,  9, 10, 11, 12, 13, 14, 15, 16, 17, 18, 19, 20, 21, 22, 23,\n",
       "       24, 25, 26, 27, 28, 29, 30, 31, 32, 33, 34, 35, 36, 37, 38, 39, 40,\n",
       "       41, 42], dtype=int64)"
      ]
     },
     "execution_count": 9,
     "metadata": {},
     "output_type": "execute_result"
    }
   ],
   "source": [
    "row_count = dataset.groupby(level=0).size()\n",
    "\n",
    "plt.hist(row_count, bins=20, alpha=0.7, edgecolor='black', linewidth=1)\n",
    "plt.title('Game Length [random-random]')\n",
    "plt.text(35, 900, f'$Mean = {row_count.mean().round(2)}$')\n",
    "plt.text(35, 850, f'$Std = {row_count.std().round(2)}$')\n",
    "plt.show()\n",
    "\n",
    "np.sort(row_count.unique())"
   ]
  },
  {
   "attachments": {},
   "cell_type": "markdown",
   "metadata": {},
   "source": [
    "As expected, the absolute frequency follows a Gaussian distribution, with the minimum value being 7.\\\n",
    "\\\n",
    "We now check whether one player won more times than the other, and also whether being the initial player may have provided an advantage on the final outcome of the match."
   ]
  },
  {
   "cell_type": "code",
   "execution_count": 10,
   "metadata": {},
   "outputs": [],
   "source": [
    "first_move = dataset.groupby(dataset.index).first() # first row of each sequence (game)\n",
    "last_move = dataset.groupby(dataset.index).last()   # last row of each sequence (game)\n",
    "player_list = first_move['player'].unique()         # players' names"
   ]
  },
  {
   "cell_type": "code",
   "execution_count": 11,
   "metadata": {},
   "outputs": [
    {
     "name": "stdout",
     "output_type": "stream",
     "text": [
      "Player 1 winrate =  0.5041\n",
      "Player 2 winrate =  0.4959\n",
      "Starter winrate  =  0.5615\n"
     ]
    }
   ],
   "source": [
    "for player in player_list:\n",
    "    print(f'{player} winrate = ', len(last_move[last_move['player'] == player]) / len(last_move))\n",
    "print(f'Starter winrate  = ', len(first_move[first_move['player'] == last_move['player']]) / len(last_move))"
   ]
  },
  {
   "attachments": {},
   "cell_type": "markdown",
   "metadata": {},
   "source": [
    "The random players' winrates are basically identical, while it seems that starting the game first can give a certain advantage.\\\n",
    "\\\n",
    "Now you can try to play a game against this random-playing opponent, called *Randy*. The goal is to train a neural network that ultimately provides a much more stimulating level of challenge than *Randy*.\\\n",
    "\\\n",
    "*__Note__: when playing against any autonomous player, remember to set the arguments `pause=True` and `verbose=True`, otherwise the opponent's choice won't be displayed. Just press any key to display its choice during the game.*"
   ]
  },
  {
   "cell_type": "code",
   "execution_count": 12,
   "metadata": {},
   "outputs": [
    {
     "name": "stdout",
     "output_type": "stream",
     "text": [
      "Game Type: user-random\n",
      "Player #1: John, Human\n",
      "Player #2: Randy, RandomAI\n"
     ]
    }
   ],
   "source": [
    "play_game = Game(game_type='user-random', verbose=True, pause=True, player1='John', player2='Randy')"
   ]
  },
  {
   "cell_type": "code",
   "execution_count": 13,
   "metadata": {},
   "outputs": [
    {
     "name": "stdout",
     "output_type": "stream",
     "text": [
      "The WINNER is John, Human!!!\n",
      "+----------------------------------------------------------------+\n",
      "0  |     |     |     |     |     |     |     |\n",
      "   +-----+-----+-----+-----+-----+-----+-----+\n",
      "1  |     |     |     |     |     |     |     |\n",
      "   +-----+-----+-----+-----+-----+-----+-----+\n",
      "2  |     |     |     |     |     |     |     |\n",
      "   +-----+-----+-----+-----+-----+-----+-----+\n",
      "3  |     |     |     |     |     |     |  O  |\n",
      "   +-----+-----+-----+-----+-----+-----+-----+\n",
      "4  |  O  |  X  |  X  |  X  |  X  |  O  |  O  |\n",
      "   +-----+-----+-----+-----+-----+-----+-----+\n",
      "5  |  X  |  X  |  X  |  O  |  O  |  O  |  X  |\n",
      "   +-----+-----+-----+-----+-----+-----+-----+\n",
      "      0     1     2     3     4     5     6     \n"
     ]
    }
   ],
   "source": [
    "play_game.play_game()"
   ]
  },
  {
   "attachments": {},
   "cell_type": "markdown",
   "metadata": {},
   "source": [
    "Now let's give a brief demonstration of the `SimplePlayer()` class, which implements the strategy described in the `player_tools.py` file inside the `tools` folder."
   ]
  },
  {
   "cell_type": "code",
   "execution_count": 14,
   "metadata": {},
   "outputs": [
    {
     "name": "stderr",
     "output_type": "stream",
     "text": [
      "Simulating: 100%|███████████████| 100/100 [00:00<00:00, 128.42it/s]\n"
     ]
    },
    {
     "name": "stdout",
     "output_type": "stream",
     "text": [
      "Saving: ...\n"
     ]
    }
   ],
   "source": [
    "dataset = simulation(n=100, game_type='simple-random')\n",
    "# getting a bigger pre-saved dataset\n",
    "if len(dataset.index.unique()) < 10_000:\n",
    "    dataset = pd.read_csv('simulations/simulation_simple-random_10000.csv', index_col=0)"
   ]
  },
  {
   "cell_type": "code",
   "execution_count": 15,
   "metadata": {},
   "outputs": [
    {
     "data": {
      "image/png": "[encoded data removed]",
      "text/plain": [
       "<Figure size 640x480 with 1 Axes>"
      ]
     },
     "metadata": {},
     "output_type": "display_data"
    },
    {
     "data": {
      "text/plain": [
       "array([ 7,  8,  9, 10, 11, 12, 13, 14, 15, 16, 17, 18, 19, 20, 21, 22, 23,\n",
       "       24, 25, 26, 27, 28, 29, 30, 31, 32, 33, 34, 35, 36, 37, 38, 39, 40,\n",
       "       41], dtype=int64)"
      ]
     },
     "execution_count": 15,
     "metadata": {},
     "output_type": "execute_result"
    }
   ],
   "source": [
    "row_count = dataset.groupby(level=0).size()\n",
    "\n",
    "plt.hist(row_count, bins=20, alpha=0.7, edgecolor='black', linewidth=1)\n",
    "plt.title('Game Length [random-random]')\n",
    "plt.text(35, 1060, f'$Mean = {row_count.mean().round(2)}$')\n",
    "plt.text(35, 1000, f'$Std = {row_count.std().round(2)}$')\n",
    "plt.show()\n",
    "\n",
    "np.sort(row_count.unique())"
   ]
  },
  {
   "attachments": {},
   "cell_type": "markdown",
   "metadata": {},
   "source": [
    "The mean and standard deviation of the distribution are definitely smaller than before: in this simulated dataset the games last less moves in average, and the consistency is higher."
   ]
  },
  {
   "cell_type": "code",
   "execution_count": 16,
   "metadata": {},
   "outputs": [],
   "source": [
    "first_move = dataset.groupby(dataset.index).first() # first row of each sequence (game)\n",
    "last_move = dataset.groupby(dataset.index).last()   # last row of each sequence (game)\n",
    "player_list = first_move['player'].unique()         # players' names"
   ]
  },
  {
   "cell_type": "code",
   "execution_count": 17,
   "metadata": {},
   "outputs": [
    {
     "name": "stdout",
     "output_type": "stream",
     "text": [
      "RandomAI winrate =  0.0877\n",
      "SimpleAI winrate =  0.9123\n",
      "Starter winrate  =  0.5208\n"
     ]
    }
   ],
   "source": [
    "for player in player_list:\n",
    "    print(f'{player} winrate = ', len(last_move[last_move['player'] == player]) / len(last_move))\n",
    "print(f'Starter winrate  = ', len(first_move[first_move['player'] == last_move['player']]) / len(last_move))"
   ]
  },
  {
   "attachments": {},
   "cell_type": "markdown",
   "metadata": {},
   "source": [
    "As you can see, just by implementing a very simple strategy we have obtained an incredible player when compared to the *random* one. If you want a more challenging game, try a game against *Simply*, the `SimplePlayer()` opponent."
   ]
  },
  {
   "cell_type": "code",
   "execution_count": 18,
   "metadata": {},
   "outputs": [
    {
     "name": "stdout",
     "output_type": "stream",
     "text": [
      "The WINNER is Simply, SimpleAI!!!\n",
      "+----------------------------------------------------------------+\n",
      "0  |     |     |     |     |     |     |     |\n",
      "   +-----+-----+-----+-----+-----+-----+-----+\n",
      "1  |     |     |     |     |     |     |     |\n",
      "   +-----+-----+-----+-----+-----+-----+-----+\n",
      "2  |     |     |     |     |     |     |     |\n",
      "   +-----+-----+-----+-----+-----+-----+-----+\n",
      "3  |     |     |     |     |     |     |     |\n",
      "   +-----+-----+-----+-----+-----+-----+-----+\n",
      "4  |     |  O  |  X  |     |     |     |     |\n",
      "   +-----+-----+-----+-----+-----+-----+-----+\n",
      "5  |  X  |  X  |  X  |  O  |  O  |  O  |  O  |\n",
      "   +-----+-----+-----+-----+-----+-----+-----+\n",
      "      0     1     2     3     4     5     6     \n"
     ]
    }
   ],
   "source": [
    "play_game = Game(game_type='user-simple', verbose=True, pause=True, player1='John', player2='Simply')\n",
    "play_game.play_game()"
   ]
  },
  {
   "attachments": {},
   "cell_type": "markdown",
   "metadata": {},
   "source": [
    "Now it's time to get to the core of the project: training a Recurrent Neural Network to learn to play the game with a simulated dataset. We are going to use the dataset produced by two `SimplePlayer()` agents playing against each other.\\\n",
    "To make the Network learn a robust winning strategy, we want to train it using only the moves made by the winner of the game: the `prepare_dataset()` function takes care of exactly that."
   ]
  },
  {
   "cell_type": "code",
   "execution_count": 30,
   "metadata": {},
   "outputs": [],
   "source": [
    "from tools.game_tools import *"
   ]
  },
  {
   "cell_type": "code",
   "execution_count": 31,
   "metadata": {},
   "outputs": [
    {
     "name": "stderr",
     "output_type": "stream",
     "text": [
      "Simulating: 100%|███████████████| 100/100 [00:01<00:00, 73.70it/s]\n"
     ]
    }
   ],
   "source": [
    "dataset = simulation(n=1000, game_type='simple-simple', save_json=False)\n",
    "if len(dataset.index.unique()) < 10_000:\n",
    "    dataset = read_json('simulations/simulation_simple-simple_10000.json')"
   ]
  },
  {
   "cell_type": "code",
   "execution_count": 33,
   "metadata": {},
   "outputs": [
    {
     "data": {
      "text/html": [
       "<div>\n",
       "<style scoped>\n",
       "    .dataframe tbody tr th:only-of-type {\n",
       "        vertical-align: middle;\n",
       "    }\n",
       "\n",
       "    .dataframe tbody tr th {\n",
       "        vertical-align: top;\n",
       "    }\n",
       "\n",
       "    .dataframe thead th {\n",
       "        text-align: right;\n",
       "    }\n",
       "</style>\n",
       "<table border=\"1\" class=\"dataframe\">\n",
       "  <thead>\n",
       "    <tr style=\"text-align: right;\">\n",
       "      <th></th>\n",
       "      <th>player</th>\n",
       "      <th>choice</th>\n",
       "      <th>col_0</th>\n",
       "      <th>col_1</th>\n",
       "      <th>col_2</th>\n",
       "      <th>col_3</th>\n",
       "      <th>col_4</th>\n",
       "      <th>col_5</th>\n",
       "      <th>col_6</th>\n",
       "      <th>move</th>\n",
       "    </tr>\n",
       "    <tr>\n",
       "      <th>index</th>\n",
       "      <th></th>\n",
       "      <th></th>\n",
       "      <th></th>\n",
       "      <th></th>\n",
       "      <th></th>\n",
       "      <th></th>\n",
       "      <th></th>\n",
       "      <th></th>\n",
       "      <th></th>\n",
       "      <th></th>\n",
       "    </tr>\n",
       "  </thead>\n",
       "  <tbody>\n",
       "    <tr>\n",
       "      <th>0</th>\n",
       "      <td>SimpleAI_2</td>\n",
       "      <td>0</td>\n",
       "      <td>[0.0, 0.0, 0.0, 0.0, 0.0, 0.0]</td>\n",
       "      <td>[0.0, 0.0, 0.0, 0.0, 0.0, 0.0]</td>\n",
       "      <td>[0.0, 0.0, 0.0, 0.0, 0.0, 0.0]</td>\n",
       "      <td>[0.0, 0.0, 0.0, 0.0, 0.0, 0.0]</td>\n",
       "      <td>[0.0, 0.0, 0.0, 0.0, 0.0, 0.0]</td>\n",
       "      <td>[0.0, 0.0, 0.0, 0.0, 0.0, 0.0]</td>\n",
       "      <td>[0.0, 0.0, 0.0, 0.0, 0.0, 0.0]</td>\n",
       "      <td>0</td>\n",
       "    </tr>\n",
       "    <tr>\n",
       "      <th>0</th>\n",
       "      <td>SimpleAI_1</td>\n",
       "      <td>6</td>\n",
       "      <td>[0.0, 0.0, 0.0, 0.0, 0.0, -1.0]</td>\n",
       "      <td>[0.0, 0.0, 0.0, 0.0, 0.0, 0.0]</td>\n",
       "      <td>[0.0, 0.0, 0.0, 0.0, 0.0, 0.0]</td>\n",
       "      <td>[0.0, 0.0, 0.0, 0.0, 0.0, 0.0]</td>\n",
       "      <td>[0.0, 0.0, 0.0, 0.0, 0.0, 0.0]</td>\n",
       "      <td>[0.0, 0.0, 0.0, 0.0, 0.0, 0.0]</td>\n",
       "      <td>[0.0, 0.0, 0.0, 0.0, 0.0, 0.0]</td>\n",
       "      <td>1</td>\n",
       "    </tr>\n",
       "    <tr>\n",
       "      <th>0</th>\n",
       "      <td>SimpleAI_2</td>\n",
       "      <td>2</td>\n",
       "      <td>[0.0, 0.0, 0.0, 0.0, 0.0, -1.0]</td>\n",
       "      <td>[0.0, 0.0, 0.0, 0.0, 0.0, 0.0]</td>\n",
       "      <td>[0.0, 0.0, 0.0, 0.0, 0.0, 0.0]</td>\n",
       "      <td>[0.0, 0.0, 0.0, 0.0, 0.0, 0.0]</td>\n",
       "      <td>[0.0, 0.0, 0.0, 0.0, 0.0, 0.0]</td>\n",
       "      <td>[0.0, 0.0, 0.0, 0.0, 0.0, 0.0]</td>\n",
       "      <td>[0.0, 0.0, 0.0, 0.0, 0.0, 1.0]</td>\n",
       "      <td>2</td>\n",
       "    </tr>\n",
       "    <tr>\n",
       "      <th>0</th>\n",
       "      <td>SimpleAI_1</td>\n",
       "      <td>5</td>\n",
       "      <td>[0.0, 0.0, 0.0, 0.0, 0.0, -1.0]</td>\n",
       "      <td>[0.0, 0.0, 0.0, 0.0, 0.0, 0.0]</td>\n",
       "      <td>[0.0, 0.0, 0.0, 0.0, 0.0, -1.0]</td>\n",
       "      <td>[0.0, 0.0, 0.0, 0.0, 0.0, 0.0]</td>\n",
       "      <td>[0.0, 0.0, 0.0, 0.0, 0.0, 0.0]</td>\n",
       "      <td>[0.0, 0.0, 0.0, 0.0, 0.0, 0.0]</td>\n",
       "      <td>[0.0, 0.0, 0.0, 0.0, 0.0, 1.0]</td>\n",
       "      <td>3</td>\n",
       "    </tr>\n",
       "    <tr>\n",
       "      <th>0</th>\n",
       "      <td>SimpleAI_2</td>\n",
       "      <td>6</td>\n",
       "      <td>[0.0, 0.0, 0.0, 0.0, 0.0, -1.0]</td>\n",
       "      <td>[0.0, 0.0, 0.0, 0.0, 0.0, 0.0]</td>\n",
       "      <td>[0.0, 0.0, 0.0, 0.0, 0.0, -1.0]</td>\n",
       "      <td>[0.0, 0.0, 0.0, 0.0, 0.0, 0.0]</td>\n",
       "      <td>[0.0, 0.0, 0.0, 0.0, 0.0, 0.0]</td>\n",
       "      <td>[0.0, 0.0, 0.0, 0.0, 0.0, 1.0]</td>\n",
       "      <td>[0.0, 0.0, 0.0, 0.0, 0.0, 1.0]</td>\n",
       "      <td>4</td>\n",
       "    </tr>\n",
       "    <tr>\n",
       "      <th>...</th>\n",
       "      <td>...</td>\n",
       "      <td>...</td>\n",
       "      <td>...</td>\n",
       "      <td>...</td>\n",
       "      <td>...</td>\n",
       "      <td>...</td>\n",
       "      <td>...</td>\n",
       "      <td>...</td>\n",
       "      <td>...</td>\n",
       "      <td>...</td>\n",
       "    </tr>\n",
       "    <tr>\n",
       "      <th>99</th>\n",
       "      <td>SimpleAI_2</td>\n",
       "      <td>0</td>\n",
       "      <td>[0.0, 0.0, 0.0, 1.0, 1.0, 1.0]</td>\n",
       "      <td>[0.0, 0.0, 0.0, 0.0, 0.0, 0.0]</td>\n",
       "      <td>[0.0, 0.0, 0.0, 0.0, 0.0, 1.0]</td>\n",
       "      <td>[0.0, 0.0, 0.0, 0.0, 0.0, -1.0]</td>\n",
       "      <td>[0.0, 0.0, 0.0, 0.0, 1.0, -1.0]</td>\n",
       "      <td>[0.0, 0.0, 0.0, 0.0, -1.0, 1.0]</td>\n",
       "      <td>[0.0, 0.0, 0.0, 0.0, -1.0, -1.0]</td>\n",
       "      <td>11</td>\n",
       "    </tr>\n",
       "    <tr>\n",
       "      <th>99</th>\n",
       "      <td>SimpleAI_1</td>\n",
       "      <td>1</td>\n",
       "      <td>[0.0, 0.0, -1.0, 1.0, 1.0, 1.0]</td>\n",
       "      <td>[0.0, 0.0, 0.0, 0.0, 0.0, 0.0]</td>\n",
       "      <td>[0.0, 0.0, 0.0, 0.0, 0.0, 1.0]</td>\n",
       "      <td>[0.0, 0.0, 0.0, 0.0, 0.0, -1.0]</td>\n",
       "      <td>[0.0, 0.0, 0.0, 0.0, 1.0, -1.0]</td>\n",
       "      <td>[0.0, 0.0, 0.0, 0.0, -1.0, 1.0]</td>\n",
       "      <td>[0.0, 0.0, 0.0, 0.0, -1.0, -1.0]</td>\n",
       "      <td>12</td>\n",
       "    </tr>\n",
       "    <tr>\n",
       "      <th>99</th>\n",
       "      <td>SimpleAI_2</td>\n",
       "      <td>2</td>\n",
       "      <td>[0.0, 0.0, -1.0, 1.0, 1.0, 1.0]</td>\n",
       "      <td>[0.0, 0.0, 0.0, 0.0, 0.0, 1.0]</td>\n",
       "      <td>[0.0, 0.0, 0.0, 0.0, 0.0, 1.0]</td>\n",
       "      <td>[0.0, 0.0, 0.0, 0.0, 0.0, -1.0]</td>\n",
       "      <td>[0.0, 0.0, 0.0, 0.0, 1.0, -1.0]</td>\n",
       "      <td>[0.0, 0.0, 0.0, 0.0, -1.0, 1.0]</td>\n",
       "      <td>[0.0, 0.0, 0.0, 0.0, -1.0, -1.0]</td>\n",
       "      <td>13</td>\n",
       "    </tr>\n",
       "    <tr>\n",
       "      <th>99</th>\n",
       "      <td>SimpleAI_1</td>\n",
       "      <td>1</td>\n",
       "      <td>[0.0, 0.0, -1.0, 1.0, 1.0, 1.0]</td>\n",
       "      <td>[0.0, 0.0, 0.0, 0.0, 0.0, 1.0]</td>\n",
       "      <td>[0.0, 0.0, 0.0, 0.0, -1.0, 1.0]</td>\n",
       "      <td>[0.0, 0.0, 0.0, 0.0, 0.0, -1.0]</td>\n",
       "      <td>[0.0, 0.0, 0.0, 0.0, 1.0, -1.0]</td>\n",
       "      <td>[0.0, 0.0, 0.0, 0.0, -1.0, 1.0]</td>\n",
       "      <td>[0.0, 0.0, 0.0, 0.0, -1.0, -1.0]</td>\n",
       "      <td>14</td>\n",
       "    </tr>\n",
       "    <tr>\n",
       "      <th>99</th>\n",
       "      <td>SimpleAI_2</td>\n",
       "      <td>1</td>\n",
       "      <td>[0.0, 0.0, -1.0, 1.0, 1.0, 1.0]</td>\n",
       "      <td>[0.0, 0.0, 0.0, 0.0, 1.0, 1.0]</td>\n",
       "      <td>[0.0, 0.0, 0.0, 0.0, -1.0, 1.0]</td>\n",
       "      <td>[0.0, 0.0, 0.0, 0.0, 0.0, -1.0]</td>\n",
       "      <td>[0.0, 0.0, 0.0, 0.0, 1.0, -1.0]</td>\n",
       "      <td>[0.0, 0.0, 0.0, 0.0, -1.0, 1.0]</td>\n",
       "      <td>[0.0, 0.0, 0.0, 0.0, -1.0, -1.0]</td>\n",
       "      <td>15</td>\n",
       "    </tr>\n",
       "  </tbody>\n",
       "</table>\n",
       "<p>2133 rows × 10 columns</p>\n",
       "</div>"
      ],
      "text/plain": [
       "           player  choice                            col_0   \n",
       "index                                                        \n",
       "0      SimpleAI_2       0   [0.0, 0.0, 0.0, 0.0, 0.0, 0.0]  \\\n",
       "0      SimpleAI_1       6  [0.0, 0.0, 0.0, 0.0, 0.0, -1.0]   \n",
       "0      SimpleAI_2       2  [0.0, 0.0, 0.0, 0.0, 0.0, -1.0]   \n",
       "0      SimpleAI_1       5  [0.0, 0.0, 0.0, 0.0, 0.0, -1.0]   \n",
       "0      SimpleAI_2       6  [0.0, 0.0, 0.0, 0.0, 0.0, -1.0]   \n",
       "...           ...     ...                              ...   \n",
       "99     SimpleAI_2       0   [0.0, 0.0, 0.0, 1.0, 1.0, 1.0]   \n",
       "99     SimpleAI_1       1  [0.0, 0.0, -1.0, 1.0, 1.0, 1.0]   \n",
       "99     SimpleAI_2       2  [0.0, 0.0, -1.0, 1.0, 1.0, 1.0]   \n",
       "99     SimpleAI_1       1  [0.0, 0.0, -1.0, 1.0, 1.0, 1.0]   \n",
       "99     SimpleAI_2       1  [0.0, 0.0, -1.0, 1.0, 1.0, 1.0]   \n",
       "\n",
       "                                col_1                            col_2   \n",
       "index                                                                    \n",
       "0      [0.0, 0.0, 0.0, 0.0, 0.0, 0.0]   [0.0, 0.0, 0.0, 0.0, 0.0, 0.0]  \\\n",
       "0      [0.0, 0.0, 0.0, 0.0, 0.0, 0.0]   [0.0, 0.0, 0.0, 0.0, 0.0, 0.0]   \n",
       "0      [0.0, 0.0, 0.0, 0.0, 0.0, 0.0]   [0.0, 0.0, 0.0, 0.0, 0.0, 0.0]   \n",
       "0      [0.0, 0.0, 0.0, 0.0, 0.0, 0.0]  [0.0, 0.0, 0.0, 0.0, 0.0, -1.0]   \n",
       "0      [0.0, 0.0, 0.0, 0.0, 0.0, 0.0]  [0.0, 0.0, 0.0, 0.0, 0.0, -1.0]   \n",
       "...                               ...                              ...   \n",
       "99     [0.0, 0.0, 0.0, 0.0, 0.0, 0.0]   [0.0, 0.0, 0.0, 0.0, 0.0, 1.0]   \n",
       "99     [0.0, 0.0, 0.0, 0.0, 0.0, 0.0]   [0.0, 0.0, 0.0, 0.0, 0.0, 1.0]   \n",
       "99     [0.0, 0.0, 0.0, 0.0, 0.0, 1.0]   [0.0, 0.0, 0.0, 0.0, 0.0, 1.0]   \n",
       "99     [0.0, 0.0, 0.0, 0.0, 0.0, 1.0]  [0.0, 0.0, 0.0, 0.0, -1.0, 1.0]   \n",
       "99     [0.0, 0.0, 0.0, 0.0, 1.0, 1.0]  [0.0, 0.0, 0.0, 0.0, -1.0, 1.0]   \n",
       "\n",
       "                                 col_3                            col_4   \n",
       "index                                                                     \n",
       "0       [0.0, 0.0, 0.0, 0.0, 0.0, 0.0]   [0.0, 0.0, 0.0, 0.0, 0.0, 0.0]  \\\n",
       "0       [0.0, 0.0, 0.0, 0.0, 0.0, 0.0]   [0.0, 0.0, 0.0, 0.0, 0.0, 0.0]   \n",
       "0       [0.0, 0.0, 0.0, 0.0, 0.0, 0.0]   [0.0, 0.0, 0.0, 0.0, 0.0, 0.0]   \n",
       "0       [0.0, 0.0, 0.0, 0.0, 0.0, 0.0]   [0.0, 0.0, 0.0, 0.0, 0.0, 0.0]   \n",
       "0       [0.0, 0.0, 0.0, 0.0, 0.0, 0.0]   [0.0, 0.0, 0.0, 0.0, 0.0, 0.0]   \n",
       "...                                ...                              ...   \n",
       "99     [0.0, 0.0, 0.0, 0.0, 0.0, -1.0]  [0.0, 0.0, 0.0, 0.0, 1.0, -1.0]   \n",
       "99     [0.0, 0.0, 0.0, 0.0, 0.0, -1.0]  [0.0, 0.0, 0.0, 0.0, 1.0, -1.0]   \n",
       "99     [0.0, 0.0, 0.0, 0.0, 0.0, -1.0]  [0.0, 0.0, 0.0, 0.0, 1.0, -1.0]   \n",
       "99     [0.0, 0.0, 0.0, 0.0, 0.0, -1.0]  [0.0, 0.0, 0.0, 0.0, 1.0, -1.0]   \n",
       "99     [0.0, 0.0, 0.0, 0.0, 0.0, -1.0]  [0.0, 0.0, 0.0, 0.0, 1.0, -1.0]   \n",
       "\n",
       "                                 col_5                             col_6  move  \n",
       "index                                                                           \n",
       "0       [0.0, 0.0, 0.0, 0.0, 0.0, 0.0]    [0.0, 0.0, 0.0, 0.0, 0.0, 0.0]     0  \n",
       "0       [0.0, 0.0, 0.0, 0.0, 0.0, 0.0]    [0.0, 0.0, 0.0, 0.0, 0.0, 0.0]     1  \n",
       "0       [0.0, 0.0, 0.0, 0.0, 0.0, 0.0]    [0.0, 0.0, 0.0, 0.0, 0.0, 1.0]     2  \n",
       "0       [0.0, 0.0, 0.0, 0.0, 0.0, 0.0]    [0.0, 0.0, 0.0, 0.0, 0.0, 1.0]     3  \n",
       "0       [0.0, 0.0, 0.0, 0.0, 0.0, 1.0]    [0.0, 0.0, 0.0, 0.0, 0.0, 1.0]     4  \n",
       "...                                ...                               ...   ...  \n",
       "99     [0.0, 0.0, 0.0, 0.0, -1.0, 1.0]  [0.0, 0.0, 0.0, 0.0, -1.0, -1.0]    11  \n",
       "99     [0.0, 0.0, 0.0, 0.0, -1.0, 1.0]  [0.0, 0.0, 0.0, 0.0, -1.0, -1.0]    12  \n",
       "99     [0.0, 0.0, 0.0, 0.0, -1.0, 1.0]  [0.0, 0.0, 0.0, 0.0, -1.0, -1.0]    13  \n",
       "99     [0.0, 0.0, 0.0, 0.0, -1.0, 1.0]  [0.0, 0.0, 0.0, 0.0, -1.0, -1.0]    14  \n",
       "99     [0.0, 0.0, 0.0, 0.0, -1.0, 1.0]  [0.0, 0.0, 0.0, 0.0, -1.0, -1.0]    15  \n",
       "\n",
       "[2133 rows x 10 columns]"
      ]
     },
     "execution_count": 33,
     "metadata": {},
     "output_type": "execute_result"
    }
   ],
   "source": [
    "dataset"
   ]
  },
  {
   "attachments": {},
   "cell_type": "markdown",
   "metadata": {},
   "source": [
    "Before transforming the dataset into a Tensorflow dataset, we have to fix the issue with the length difference between different games. We use sequences that are long just as the mean length of the simulated games.\\\n",
    "However, some of them are shorter and we cannot use different-sized sequences to create a Tensorflow dataset. Then, we need to implement __*0-padding*__, that is, manually filling the missing values with useless data, such as rows with an empty board and a fixed move: on an empty board, we suppose that the best choice is to put the token in column 0.\\\n",
    "For example, if a sequence is shorter by 3 elements, we then add 3 empty boards with the same choice (column 0) to the sequence itself\\\n",
    "\\\n",
    "We also batch this dataset in equally-sized batches, each of them corresponding to the last $n$ moves of a game."
   ]
  },
  {
   "cell_type": "code",
   "execution_count": 35,
   "metadata": {},
   "outputs": [],
   "source": [
    "dataset = df_to_tensor(dataset)"
   ]
  },
  {
   "attachments": {},
   "cell_type": "markdown",
   "metadata": {},
   "source": [
    "The `quickdraw_dataset()` function has the aim of quickdrawing the final dataset - to be used with the neural network - from the tensor created from the dataframe."
   ]
  },
  {
   "cell_type": "code",
   "execution_count": 37,
   "metadata": {},
   "outputs": [],
   "source": [
    "def quickdraw_dataset(dataset, batch_size=32, shuffle_buffer_size=None, cache=False):\n",
    "    if cache:\n",
    "        # cache the dataset\n",
    "        dataset = dataset.cache()\n",
    "    if shuffle_buffer_size:\n",
    "        # shuffle the dataset's batches\n",
    "        dataset = dataset.shuffle(shuffle_buffer_size)\n",
    "    # batch the games into batches of length 32, meaning that each batch will contain 32 games\n",
    "    dataset = dataset.batch(batch_size) \n",
    "    return dataset"
   ]
  },
  {
   "cell_type": "code",
   "execution_count": 38,
   "metadata": {},
   "outputs": [],
   "source": [
    "dataset = quickdraw_dataset(dataset, shuffle_buffer_size=20)"
   ]
  },
  {
   "attachments": {},
   "cell_type": "markdown",
   "metadata": {},
   "source": [
    "Before proceeding with the RNN training, I would like to emphasise the data structure we have obtained.\\\n",
    "The final dataset is a tensor of size $N_{batches}$ where $N_{batches}$ is the total number of batches. Each of these batches contains $N_{games}$ board state sequences, each of them associated to the winning move made in the simulation (called *choice* in the previous dataset). Each of these sequences contains $N_{moves}$ last winning moves for each game (this quantity corresponds to the average duration of the matches in the entire dataset).\\\n",
    "Therefore, each feature's shape can be represented as follows:\n",
    "<center>\n",
    "\n",
    "$$shape = (N_{games}, N_{moves}, N_{columns} \\times N_{rows})$$"
   ]
  },
  {
   "cell_type": "code",
   "execution_count": 39,
   "metadata": {},
   "outputs": [
    {
     "name": "stdout",
     "output_type": "stream",
     "text": [
      "(32, 10, 42)\n"
     ]
    }
   ],
   "source": [
    "# sequence of board states (for the 1st batch)\n",
    "for features, targets in dataset.take(1):\n",
    "    features = features.numpy()\n",
    "print(features.shape)"
   ]
  },
  {
   "cell_type": "code",
   "execution_count": 40,
   "metadata": {},
   "outputs": [
    {
     "name": "stdout",
     "output_type": "stream",
     "text": [
      "(32,)\n"
     ]
    }
   ],
   "source": [
    "# sequence of moves made on the previous group of board states\n",
    "for features, targets in dataset.take(1):\n",
    "    targets = targets.numpy()\n",
    "print(targets.shape)"
   ]
  },
  {
   "attachments": {},
   "cell_type": "markdown",
   "metadata": {},
   "source": [
    "Now it's time to split the dataset into a training set and a validation set. We don't need the test set since the final metric to evaluate the model's performance will be calculated from a number of simulated games between `RNNPlayer()` and `SimplePlayer()`."
   ]
  },
  {
   "cell_type": "code",
   "execution_count": 41,
   "metadata": {},
   "outputs": [],
   "source": [
    "dataset_size = dataset_size = len(list(dataset))\n",
    "\n",
    "val_size = int(0.2 * dataset_size)\n",
    "val_ds = dataset.take(val_size)\n",
    "train_ds = dataset.skip(val_size)"
   ]
  },
  {
   "cell_type": "code",
   "execution_count": 45,
   "metadata": {},
   "outputs": [
    {
     "name": "stdout",
     "output_type": "stream",
     "text": [
      "Epoch 1/20\n"
     ]
    },
    {
     "name": "stdout",
     "output_type": "stream",
     "text": [
      "1/4 [======>.......................] - ETA: 7s - loss: 1.8995 - accuracy: 0.2812WARNING:tensorflow:Early stopping conditioned on metric `val_accuracy` which is not available. Available metrics are: loss,accuracy\n",
      "4/4 [==============================] - 3s 8ms/step - loss: 1.9432 - accuracy: 0.1600\n",
      "Epoch 2/20\n",
      "1/4 [======>.......................] - ETA: 0s - loss: 1.8604 - accuracy: 0.2500WARNING:tensorflow:Early stopping conditioned on metric `val_accuracy` which is not available. Available metrics are: loss,accuracy\n",
      "4/4 [==============================] - 0s 9ms/step - loss: 1.9066 - accuracy: 0.2000\n",
      "Epoch 3/20\n",
      "1/4 [======>.......................] - ETA: 0s - loss: 1.8157 - accuracy: 0.3438WARNING:tensorflow:Early stopping conditioned on metric `val_accuracy` which is not available. Available metrics are: loss,accuracy\n",
      "4/4 [==============================] - 0s 9ms/step - loss: 1.8611 - accuracy: 0.2600\n",
      "Epoch 4/20\n",
      "1/4 [======>.......................] - ETA: 0s - loss: 1.7441 - accuracy: 0.4062WARNING:tensorflow:Early stopping conditioned on metric `val_accuracy` which is not available. Available metrics are: loss,accuracy\n",
      "4/4 [==============================] - 0s 9ms/step - loss: 1.8177 - accuracy: 0.2900\n",
      "Epoch 5/20\n",
      "1/4 [======>.......................] - ETA: 0s - loss: 1.7123 - accuracy: 0.4688WARNING:tensorflow:Early stopping conditioned on metric `val_accuracy` which is not available. Available metrics are: loss,accuracy\n",
      "4/4 [==============================] - 0s 9ms/step - loss: 1.7785 - accuracy: 0.3600\n",
      "Epoch 6/20\n",
      "1/4 [======>.......................] - ETA: 0s - loss: 1.6708 - accuracy: 0.5312WARNING:tensorflow:Early stopping conditioned on metric `val_accuracy` which is not available. Available metrics are: loss,accuracy\n",
      "4/4 [==============================] - 0s 9ms/step - loss: 1.7373 - accuracy: 0.3900\n",
      "Epoch 7/20\n",
      "1/4 [======>.......................] - ETA: 0s - loss: 1.6438 - accuracy: 0.5000WARNING:tensorflow:Early stopping conditioned on metric `val_accuracy` which is not available. Available metrics are: loss,accuracy\n",
      "4/4 [==============================] - 0s 10ms/step - loss: 1.7197 - accuracy: 0.3900\n",
      "Epoch 8/20\n",
      "1/4 [======>.......................] - ETA: 0s - loss: 1.5901 - accuracy: 0.5312WARNING:tensorflow:Early stopping conditioned on metric `val_accuracy` which is not available. Available metrics are: loss,accuracy\n",
      "4/4 [==============================] - 0s 9ms/step - loss: 1.6812 - accuracy: 0.4100\n",
      "Epoch 9/20\n",
      "1/4 [======>.......................] - ETA: 0s - loss: 1.5668 - accuracy: 0.5938WARNING:tensorflow:Early stopping conditioned on metric `val_accuracy` which is not available. Available metrics are: loss,accuracy\n",
      "4/4 [==============================] - 0s 9ms/step - loss: 1.6384 - accuracy: 0.4300\n",
      "Epoch 10/20\n",
      "1/4 [======>.......................] - ETA: 0s - loss: 1.5571 - accuracy: 0.6562WARNING:tensorflow:Early stopping conditioned on metric `val_accuracy` which is not available. Available metrics are: loss,accuracy\n",
      "4/4 [==============================] - 0s 9ms/step - loss: 1.6210 - accuracy: 0.4800\n",
      "Epoch 11/20\n",
      "1/4 [======>.......................] - ETA: 0s - loss: 1.4886 - accuracy: 0.6875WARNING:tensorflow:Early stopping conditioned on metric `val_accuracy` which is not available. Available metrics are: loss,accuracy\n",
      "4/4 [==============================] - 0s 10ms/step - loss: 1.5891 - accuracy: 0.5200\n",
      "Epoch 12/20\n",
      "1/4 [======>.......................] - ETA: 0s - loss: 1.5187 - accuracy: 0.6562WARNING:tensorflow:Early stopping conditioned on metric `val_accuracy` which is not available. Available metrics are: loss,accuracy\n",
      "4/4 [==============================] - 0s 9ms/step - loss: 1.5627 - accuracy: 0.5900\n",
      "Epoch 13/20\n",
      "1/4 [======>.......................] - ETA: 0s - loss: 1.4693 - accuracy: 0.6562WARNING:tensorflow:Early stopping conditioned on metric `val_accuracy` which is not available. Available metrics are: loss,accuracy\n",
      "4/4 [==============================] - 0s 10ms/step - loss: 1.5242 - accuracy: 0.6200\n",
      "Epoch 14/20\n",
      "1/4 [======>.......................] - ETA: 0s - loss: 1.4720 - accuracy: 0.6562WARNING:tensorflow:Early stopping conditioned on metric `val_accuracy` which is not available. Available metrics are: loss,accuracy\n",
      "4/4 [==============================] - 0s 25ms/step - loss: 1.4985 - accuracy: 0.6100\n",
      "Epoch 15/20\n",
      "1/4 [======>.......................] - ETA: 0s - loss: 1.4062 - accuracy: 0.6250WARNING:tensorflow:Early stopping conditioned on metric `val_accuracy` which is not available. Available metrics are: loss,accuracy\n",
      "4/4 [==============================] - 0s 9ms/step - loss: 1.4781 - accuracy: 0.6300\n",
      "Epoch 16/20\n",
      "1/4 [======>.......................] - ETA: 0s - loss: 1.3883 - accuracy: 0.7812WARNING:tensorflow:Early stopping conditioned on metric `val_accuracy` which is not available. Available metrics are: loss,accuracy\n",
      "4/4 [==============================] - 0s 10ms/step - loss: 1.4506 - accuracy: 0.6900\n",
      "Epoch 17/20\n",
      "1/4 [======>.......................] - ETA: 0s - loss: 1.3997 - accuracy: 0.6875WARNING:tensorflow:Early stopping conditioned on metric `val_accuracy` which is not available. Available metrics are: loss,accuracy\n",
      "4/4 [==============================] - 0s 9ms/step - loss: 1.4268 - accuracy: 0.6900\n",
      "Epoch 18/20\n",
      "1/4 [======>.......................] - ETA: 0s - loss: 1.3300 - accuracy: 0.7500WARNING:tensorflow:Early stopping conditioned on metric `val_accuracy` which is not available. Available metrics are: loss,accuracy\n",
      "4/4 [==============================] - 0s 10ms/step - loss: 1.3930 - accuracy: 0.7100\n",
      "Epoch 19/20\n",
      "1/4 [======>.......................] - ETA: 0s - loss: 1.3823 - accuracy: 0.6562WARNING:tensorflow:Early stopping conditioned on metric `val_accuracy` which is not available. Available metrics are: loss,accuracy\n",
      "4/4 [==============================] - 0s 11ms/step - loss: 1.3877 - accuracy: 0.6600\n",
      "Epoch 20/20\n",
      "1/4 [======>.......................] - ETA: 0s - loss: 1.3123 - accuracy: 0.7500WARNING:tensorflow:Early stopping conditioned on metric `val_accuracy` which is not available. Available metrics are: loss,accuracy\n",
      "4/4 [==============================] - 0s 11ms/step - loss: 1.3476 - accuracy: 0.6800\n"
     ]
    }
   ],
   "source": [
    "model = tf.keras.Sequential([\n",
    "    tf.keras.layers.Conv1D(32, kernel_size=5, strides=2, activation='relu'),\n",
    "    tf.keras.layers.BatchNormalization(),\n",
    "    tf.keras.layers.LSTM(32),\n",
    "    tf.keras.layers.Dense(7, activation='softmax')\n",
    "])\n",
    "early_stopping_cb = tf.keras.callbacks.EarlyStopping(\n",
    "    monitor='val_accuracy', patience=50, restore_best_weights=True\n",
    ")\n",
    "optimizer = tf.keras.optimizers.SGD(learning_rate=5e-2, clipnorm=1.)\n",
    "model.compile(loss='sparse_categorical_crossentropy',\n",
    "              optimizer=optimizer,\n",
    "              metrics=['accuracy'])\n",
    "\n",
    "history = model.fit(train_ds, epochs=20,\n",
    "                    validation_data=val_ds,\n",
    "                    callbacks=[early_stopping_cb])"
   ]
  },
  {
   "cell_type": "code",
   "execution_count": null,
   "metadata": {},
   "outputs": [],
   "source": []
  }
 ],
 "metadata": {
  "kernelspec": {
   "display_name": "Python 3",
   "language": "python",
   "name": "python3"
  },
  "language_info": {
   "codemirror_mode": {
    "name": "ipython",
    "version": 3
   },
   "file_extension": ".py",
   "mimetype": "text/x-python",
   "name": "python",
   "nbconvert_exporter": "python",
   "pygments_lexer": "ipython3",
   "version": "3.11.3"
  },
  "orig_nbformat": 4
 },
 "nbformat": 4,
 "nbformat_minor": 2
}

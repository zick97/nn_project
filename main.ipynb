{
 "cells": [
  {
   "cell_type": "code",
   "execution_count": 1,
   "metadata": {},
   "outputs": [],
   "source": [
    "from tools.game_tools import *\n",
    "import matplotlib.pyplot as plt\n",
    "%matplotlib inline\n",
    "import gdown\n",
    "import os.path"
   ]
  },
  {
   "attachments": {},
   "cell_type": "markdown",
   "metadata": {},
   "source": [
    "Inside the `game_tools.py` file, you can find the `Board()` class: one of its outputs is the game grid, created for the purpose of being able to play a game or observe its simulation. It also contains a bunch of vectors that are used to store all the useful information about the *board state*, such as the number of possible moves left, the number of valid moves and so on.\\\n",
    "All this information will later be used by the `Player()`'s children classes to make the decision about the next move."
   ]
  },
  {
   "attachments": {},
   "cell_type": "markdown",
   "metadata": {},
   "source": [
    "The `Game()` object instantiates the game itself: the most important argument is the `game_type` argument, which selects the two participants in the game, whether human or algorithmic."
   ]
  },
  {
   "cell_type": "code",
   "execution_count": 2,
   "metadata": {},
   "outputs": [
    {
     "name": "stdout",
     "output_type": "stream",
     "text": [
      "Game Type: user-user\n",
      "Player #1: John, Human\n",
      "Player #2: Anna, Human\n"
     ]
    }
   ],
   "source": [
    "user_game_try = Game(game_type='user-user', verbose=True, player1='John', player2='Anna')"
   ]
  },
  {
   "attachments": {},
   "cell_type": "markdown",
   "metadata": {},
   "source": [
    "In the cell below, you can challenge a friend in a classic game of *Connect4*."
   ]
  },
  {
   "cell_type": "code",
   "execution_count": 3,
   "metadata": {},
   "outputs": [
    {
     "name": "stdout",
     "output_type": "stream",
     "text": [
      "The WINNER is John, Human!!!\n",
      "+----------------------------------------------------------------+\n",
      "0  |     |     |     |     |     |     |     |\n",
      "   +-----+-----+-----+-----+-----+-----+-----+\n",
      "1  |     |     |     |     |     |     |     |\n",
      "   +-----+-----+-----+-----+-----+-----+-----+\n",
      "2  |     |     |     |  X  |     |     |     |\n",
      "   +-----+-----+-----+-----+-----+-----+-----+\n",
      "3  |  O  |  O  |  X  |  O  |     |     |     |\n",
      "   +-----+-----+-----+-----+-----+-----+-----+\n",
      "4  |  O  |  X  |  X  |  X  |  O  |     |     |\n",
      "   +-----+-----+-----+-----+-----+-----+-----+\n",
      "5  |  X  |  O  |  O  |  X  |  X  |     |     |\n",
      "   +-----+-----+-----+-----+-----+-----+-----+\n",
      "      0     1     2     3     4     5     6     \n"
     ]
    }
   ],
   "source": [
    "user_game_try.play_game()"
   ]
  },
  {
   "attachments": {},
   "cell_type": "markdown",
   "metadata": {},
   "source": [
    "By using the `save_game()` method, the whole game (sequence of the board states) is stored inside a Pandas Dataframe. As you can see, it is composed of 9 columns plus the index column, which just represents the turn number.\\\n",
    "\\\n",
    "Note that the *choice* column contains the player's choice on the board state represented along the same row, meaning that its effect on the board can be seen only in the following row.\\\n",
    "I decided to use this structure with the training of future ML models in mind: since the goal is for the model to produce a choice, we must imagine that it can only have data from the past to do so.\\\n",
    "Using as a feature a board state that has already been affected by a choice not yet made would be like looking into the future."
   ]
  },
  {
   "cell_type": "code",
   "execution_count": 4,
   "metadata": {},
   "outputs": [
    {
     "data": {
      "text/html": [
       "<div>\n",
       "<style scoped>\n",
       "    .dataframe tbody tr th:only-of-type {\n",
       "        vertical-align: middle;\n",
       "    }\n",
       "\n",
       "    .dataframe tbody tr th {\n",
       "        vertical-align: top;\n",
       "    }\n",
       "\n",
       "    .dataframe thead th {\n",
       "        text-align: right;\n",
       "    }\n",
       "</style>\n",
       "<table border=\"1\" class=\"dataframe\">\n",
       "  <thead>\n",
       "    <tr style=\"text-align: right;\">\n",
       "      <th></th>\n",
       "      <th>player</th>\n",
       "      <th>choice</th>\n",
       "      <th>col_0</th>\n",
       "      <th>col_1</th>\n",
       "      <th>col_2</th>\n",
       "      <th>col_3</th>\n",
       "      <th>col_4</th>\n",
       "      <th>col_5</th>\n",
       "      <th>col_6</th>\n",
       "    </tr>\n",
       "  </thead>\n",
       "  <tbody>\n",
       "    <tr>\n",
       "      <th>0</th>\n",
       "      <td>John</td>\n",
       "      <td>3</td>\n",
       "      <td>[0.0, 0.0, 0.0, 0.0, 0.0, 0.0]</td>\n",
       "      <td>[0.0, 0.0, 0.0, 0.0, 0.0, 0.0]</td>\n",
       "      <td>[0.0, 0.0, 0.0, 0.0, 0.0, 0.0]</td>\n",
       "      <td>[0.0, 0.0, 0.0, 0.0, 0.0, 0.0]</td>\n",
       "      <td>[0.0, 0.0, 0.0, 0.0, 0.0, 0.0]</td>\n",
       "      <td>[0.0, 0.0, 0.0, 0.0, 0.0, 0.0]</td>\n",
       "      <td>[0.0, 0.0, 0.0, 0.0, 0.0, 0.0]</td>\n",
       "    </tr>\n",
       "    <tr>\n",
       "      <th>1</th>\n",
       "      <td>Anna</td>\n",
       "      <td>2</td>\n",
       "      <td>[0.0, 0.0, 0.0, 0.0, 0.0, 0.0]</td>\n",
       "      <td>[0.0, 0.0, 0.0, 0.0, 0.0, 0.0]</td>\n",
       "      <td>[0.0, 0.0, 0.0, 0.0, 0.0, 0.0]</td>\n",
       "      <td>[0.0, 0.0, 0.0, 0.0, 0.0, 1.0]</td>\n",
       "      <td>[0.0, 0.0, 0.0, 0.0, 0.0, 0.0]</td>\n",
       "      <td>[0.0, 0.0, 0.0, 0.0, 0.0, 0.0]</td>\n",
       "      <td>[0.0, 0.0, 0.0, 0.0, 0.0, 0.0]</td>\n",
       "    </tr>\n",
       "    <tr>\n",
       "      <th>2</th>\n",
       "      <td>John</td>\n",
       "      <td>2</td>\n",
       "      <td>[0.0, 0.0, 0.0, 0.0, 0.0, 0.0]</td>\n",
       "      <td>[0.0, 0.0, 0.0, 0.0, 0.0, 0.0]</td>\n",
       "      <td>[0.0, 0.0, 0.0, 0.0, 0.0, -1.0]</td>\n",
       "      <td>[0.0, 0.0, 0.0, 0.0, 0.0, 1.0]</td>\n",
       "      <td>[0.0, 0.0, 0.0, 0.0, 0.0, 0.0]</td>\n",
       "      <td>[0.0, 0.0, 0.0, 0.0, 0.0, 0.0]</td>\n",
       "      <td>[0.0, 0.0, 0.0, 0.0, 0.0, 0.0]</td>\n",
       "    </tr>\n",
       "    <tr>\n",
       "      <th>3</th>\n",
       "      <td>Anna</td>\n",
       "      <td>1</td>\n",
       "      <td>[0.0, 0.0, 0.0, 0.0, 0.0, 0.0]</td>\n",
       "      <td>[0.0, 0.0, 0.0, 0.0, 0.0, 0.0]</td>\n",
       "      <td>[0.0, 0.0, 0.0, 0.0, 1.0, -1.0]</td>\n",
       "      <td>[0.0, 0.0, 0.0, 0.0, 0.0, 1.0]</td>\n",
       "      <td>[0.0, 0.0, 0.0, 0.0, 0.0, 0.0]</td>\n",
       "      <td>[0.0, 0.0, 0.0, 0.0, 0.0, 0.0]</td>\n",
       "      <td>[0.0, 0.0, 0.0, 0.0, 0.0, 0.0]</td>\n",
       "    </tr>\n",
       "    <tr>\n",
       "      <th>4</th>\n",
       "      <td>John</td>\n",
       "      <td>1</td>\n",
       "      <td>[0.0, 0.0, 0.0, 0.0, 0.0, 0.0]</td>\n",
       "      <td>[0.0, 0.0, 0.0, 0.0, 0.0, -1.0]</td>\n",
       "      <td>[0.0, 0.0, 0.0, 0.0, 1.0, -1.0]</td>\n",
       "      <td>[0.0, 0.0, 0.0, 0.0, 0.0, 1.0]</td>\n",
       "      <td>[0.0, 0.0, 0.0, 0.0, 0.0, 0.0]</td>\n",
       "      <td>[0.0, 0.0, 0.0, 0.0, 0.0, 0.0]</td>\n",
       "      <td>[0.0, 0.0, 0.0, 0.0, 0.0, 0.0]</td>\n",
       "    </tr>\n",
       "  </tbody>\n",
       "</table>\n",
       "</div>"
      ],
      "text/plain": [
       "  player  choice                           col_0   \n",
       "0   John       3  [0.0, 0.0, 0.0, 0.0, 0.0, 0.0]  \\\n",
       "1   Anna       2  [0.0, 0.0, 0.0, 0.0, 0.0, 0.0]   \n",
       "2   John       2  [0.0, 0.0, 0.0, 0.0, 0.0, 0.0]   \n",
       "3   Anna       1  [0.0, 0.0, 0.0, 0.0, 0.0, 0.0]   \n",
       "4   John       1  [0.0, 0.0, 0.0, 0.0, 0.0, 0.0]   \n",
       "\n",
       "                             col_1                            col_2   \n",
       "0   [0.0, 0.0, 0.0, 0.0, 0.0, 0.0]   [0.0, 0.0, 0.0, 0.0, 0.0, 0.0]  \\\n",
       "1   [0.0, 0.0, 0.0, 0.0, 0.0, 0.0]   [0.0, 0.0, 0.0, 0.0, 0.0, 0.0]   \n",
       "2   [0.0, 0.0, 0.0, 0.0, 0.0, 0.0]  [0.0, 0.0, 0.0, 0.0, 0.0, -1.0]   \n",
       "3   [0.0, 0.0, 0.0, 0.0, 0.0, 0.0]  [0.0, 0.0, 0.0, 0.0, 1.0, -1.0]   \n",
       "4  [0.0, 0.0, 0.0, 0.0, 0.0, -1.0]  [0.0, 0.0, 0.0, 0.0, 1.0, -1.0]   \n",
       "\n",
       "                            col_3                           col_4   \n",
       "0  [0.0, 0.0, 0.0, 0.0, 0.0, 0.0]  [0.0, 0.0, 0.0, 0.0, 0.0, 0.0]  \\\n",
       "1  [0.0, 0.0, 0.0, 0.0, 0.0, 1.0]  [0.0, 0.0, 0.0, 0.0, 0.0, 0.0]   \n",
       "2  [0.0, 0.0, 0.0, 0.0, 0.0, 1.0]  [0.0, 0.0, 0.0, 0.0, 0.0, 0.0]   \n",
       "3  [0.0, 0.0, 0.0, 0.0, 0.0, 1.0]  [0.0, 0.0, 0.0, 0.0, 0.0, 0.0]   \n",
       "4  [0.0, 0.0, 0.0, 0.0, 0.0, 1.0]  [0.0, 0.0, 0.0, 0.0, 0.0, 0.0]   \n",
       "\n",
       "                            col_5                           col_6  \n",
       "0  [0.0, 0.0, 0.0, 0.0, 0.0, 0.0]  [0.0, 0.0, 0.0, 0.0, 0.0, 0.0]  \n",
       "1  [0.0, 0.0, 0.0, 0.0, 0.0, 0.0]  [0.0, 0.0, 0.0, 0.0, 0.0, 0.0]  \n",
       "2  [0.0, 0.0, 0.0, 0.0, 0.0, 0.0]  [0.0, 0.0, 0.0, 0.0, 0.0, 0.0]  \n",
       "3  [0.0, 0.0, 0.0, 0.0, 0.0, 0.0]  [0.0, 0.0, 0.0, 0.0, 0.0, 0.0]  \n",
       "4  [0.0, 0.0, 0.0, 0.0, 0.0, 0.0]  [0.0, 0.0, 0.0, 0.0, 0.0, 0.0]  "
      ]
     },
     "execution_count": 4,
     "metadata": {},
     "output_type": "execute_result"
    }
   ],
   "source": [
    "df = user_game_try.save_game()\n",
    "df.head()"
   ]
  },
  {
   "attachments": {},
   "cell_type": "markdown",
   "metadata": {},
   "source": [
    "The `simulation()` function repeats the same process $n$ times. The goal is to simulate $n$ games played by autonomous systems.\\\n",
    "It also rearranges the indexing, so that each game has a unique index and the turn number as before, ending with 10 total columns.\\\n",
    "Note that the function avoids those games that end in a draw, since we are going to use only winning moves to train the algorithm."
   ]
  },
  {
   "cell_type": "code",
   "execution_count": 5,
   "metadata": {},
   "outputs": [
    {
     "name": "stderr",
     "output_type": "stream",
     "text": [
      "Simulating:   0%|               | 0/100 [00:00<?, ?it/s]"
     ]
    },
    {
     "name": "stderr",
     "output_type": "stream",
     "text": [
      "Simulating: 100%|███████████████| 100/100 [00:00<00:00, 132.74it/s]\n"
     ]
    }
   ],
   "source": [
    "# default save_json=False\n",
    "dataset = simulation(n=100, game_type='random-random')"
   ]
  },
  {
   "cell_type": "code",
   "execution_count": 6,
   "metadata": {},
   "outputs": [
    {
     "data": {
      "text/html": [
       "<div>\n",
       "<style scoped>\n",
       "    .dataframe tbody tr th:only-of-type {\n",
       "        vertical-align: middle;\n",
       "    }\n",
       "\n",
       "    .dataframe tbody tr th {\n",
       "        vertical-align: top;\n",
       "    }\n",
       "\n",
       "    .dataframe thead th {\n",
       "        text-align: right;\n",
       "    }\n",
       "</style>\n",
       "<table border=\"1\" class=\"dataframe\">\n",
       "  <thead>\n",
       "    <tr style=\"text-align: right;\">\n",
       "      <th></th>\n",
       "      <th>player</th>\n",
       "      <th>move</th>\n",
       "      <th>choice</th>\n",
       "      <th>col_0</th>\n",
       "      <th>col_1</th>\n",
       "      <th>col_2</th>\n",
       "      <th>col_3</th>\n",
       "      <th>col_4</th>\n",
       "      <th>col_5</th>\n",
       "      <th>col_6</th>\n",
       "    </tr>\n",
       "  </thead>\n",
       "  <tbody>\n",
       "    <tr>\n",
       "      <th>0</th>\n",
       "      <td>RandomAI_1</td>\n",
       "      <td>0</td>\n",
       "      <td>5</td>\n",
       "      <td>[0.0, 0.0, 0.0, 0.0, 0.0, 0.0]</td>\n",
       "      <td>[0.0, 0.0, 0.0, 0.0, 0.0, 0.0]</td>\n",
       "      <td>[0.0, 0.0, 0.0, 0.0, 0.0, 0.0]</td>\n",
       "      <td>[0.0, 0.0, 0.0, 0.0, 0.0, 0.0]</td>\n",
       "      <td>[0.0, 0.0, 0.0, 0.0, 0.0, 0.0]</td>\n",
       "      <td>[0.0, 0.0, 0.0, 0.0, 0.0, 0.0]</td>\n",
       "      <td>[0.0, 0.0, 0.0, 0.0, 0.0, 0.0]</td>\n",
       "    </tr>\n",
       "    <tr>\n",
       "      <th>0</th>\n",
       "      <td>RandomAI_2</td>\n",
       "      <td>1</td>\n",
       "      <td>2</td>\n",
       "      <td>[0.0, 0.0, 0.0, 0.0, 0.0, 0.0]</td>\n",
       "      <td>[0.0, 0.0, 0.0, 0.0, 0.0, 0.0]</td>\n",
       "      <td>[0.0, 0.0, 0.0, 0.0, 0.0, 0.0]</td>\n",
       "      <td>[0.0, 0.0, 0.0, 0.0, 0.0, 0.0]</td>\n",
       "      <td>[0.0, 0.0, 0.0, 0.0, 0.0, 0.0]</td>\n",
       "      <td>[0.0, 0.0, 0.0, 0.0, 0.0, 1.0]</td>\n",
       "      <td>[0.0, 0.0, 0.0, 0.0, 0.0, 0.0]</td>\n",
       "    </tr>\n",
       "    <tr>\n",
       "      <th>0</th>\n",
       "      <td>RandomAI_1</td>\n",
       "      <td>2</td>\n",
       "      <td>1</td>\n",
       "      <td>[0.0, 0.0, 0.0, 0.0, 0.0, 0.0]</td>\n",
       "      <td>[0.0, 0.0, 0.0, 0.0, 0.0, 0.0]</td>\n",
       "      <td>[0.0, 0.0, 0.0, 0.0, 0.0, -1.0]</td>\n",
       "      <td>[0.0, 0.0, 0.0, 0.0, 0.0, 0.0]</td>\n",
       "      <td>[0.0, 0.0, 0.0, 0.0, 0.0, 0.0]</td>\n",
       "      <td>[0.0, 0.0, 0.0, 0.0, 0.0, 1.0]</td>\n",
       "      <td>[0.0, 0.0, 0.0, 0.0, 0.0, 0.0]</td>\n",
       "    </tr>\n",
       "    <tr>\n",
       "      <th>0</th>\n",
       "      <td>RandomAI_2</td>\n",
       "      <td>3</td>\n",
       "      <td>2</td>\n",
       "      <td>[0.0, 0.0, 0.0, 0.0, 0.0, 0.0]</td>\n",
       "      <td>[0.0, 0.0, 0.0, 0.0, 0.0, 1.0]</td>\n",
       "      <td>[0.0, 0.0, 0.0, 0.0, 0.0, -1.0]</td>\n",
       "      <td>[0.0, 0.0, 0.0, 0.0, 0.0, 0.0]</td>\n",
       "      <td>[0.0, 0.0, 0.0, 0.0, 0.0, 0.0]</td>\n",
       "      <td>[0.0, 0.0, 0.0, 0.0, 0.0, 1.0]</td>\n",
       "      <td>[0.0, 0.0, 0.0, 0.0, 0.0, 0.0]</td>\n",
       "    </tr>\n",
       "    <tr>\n",
       "      <th>0</th>\n",
       "      <td>RandomAI_1</td>\n",
       "      <td>4</td>\n",
       "      <td>6</td>\n",
       "      <td>[0.0, 0.0, 0.0, 0.0, 0.0, 0.0]</td>\n",
       "      <td>[0.0, 0.0, 0.0, 0.0, 0.0, 1.0]</td>\n",
       "      <td>[0.0, 0.0, 0.0, 0.0, -1.0, -1.0]</td>\n",
       "      <td>[0.0, 0.0, 0.0, 0.0, 0.0, 0.0]</td>\n",
       "      <td>[0.0, 0.0, 0.0, 0.0, 0.0, 0.0]</td>\n",
       "      <td>[0.0, 0.0, 0.0, 0.0, 0.0, 1.0]</td>\n",
       "      <td>[0.0, 0.0, 0.0, 0.0, 0.0, 0.0]</td>\n",
       "    </tr>\n",
       "  </tbody>\n",
       "</table>\n",
       "</div>"
      ],
      "text/plain": [
       "       player  move  choice                           col_0   \n",
       "0  RandomAI_1     0       5  [0.0, 0.0, 0.0, 0.0, 0.0, 0.0]  \\\n",
       "0  RandomAI_2     1       2  [0.0, 0.0, 0.0, 0.0, 0.0, 0.0]   \n",
       "0  RandomAI_1     2       1  [0.0, 0.0, 0.0, 0.0, 0.0, 0.0]   \n",
       "0  RandomAI_2     3       2  [0.0, 0.0, 0.0, 0.0, 0.0, 0.0]   \n",
       "0  RandomAI_1     4       6  [0.0, 0.0, 0.0, 0.0, 0.0, 0.0]   \n",
       "\n",
       "                            col_1                             col_2   \n",
       "0  [0.0, 0.0, 0.0, 0.0, 0.0, 0.0]    [0.0, 0.0, 0.0, 0.0, 0.0, 0.0]  \\\n",
       "0  [0.0, 0.0, 0.0, 0.0, 0.0, 0.0]    [0.0, 0.0, 0.0, 0.0, 0.0, 0.0]   \n",
       "0  [0.0, 0.0, 0.0, 0.0, 0.0, 0.0]   [0.0, 0.0, 0.0, 0.0, 0.0, -1.0]   \n",
       "0  [0.0, 0.0, 0.0, 0.0, 0.0, 1.0]   [0.0, 0.0, 0.0, 0.0, 0.0, -1.0]   \n",
       "0  [0.0, 0.0, 0.0, 0.0, 0.0, 1.0]  [0.0, 0.0, 0.0, 0.0, -1.0, -1.0]   \n",
       "\n",
       "                            col_3                           col_4   \n",
       "0  [0.0, 0.0, 0.0, 0.0, 0.0, 0.0]  [0.0, 0.0, 0.0, 0.0, 0.0, 0.0]  \\\n",
       "0  [0.0, 0.0, 0.0, 0.0, 0.0, 0.0]  [0.0, 0.0, 0.0, 0.0, 0.0, 0.0]   \n",
       "0  [0.0, 0.0, 0.0, 0.0, 0.0, 0.0]  [0.0, 0.0, 0.0, 0.0, 0.0, 0.0]   \n",
       "0  [0.0, 0.0, 0.0, 0.0, 0.0, 0.0]  [0.0, 0.0, 0.0, 0.0, 0.0, 0.0]   \n",
       "0  [0.0, 0.0, 0.0, 0.0, 0.0, 0.0]  [0.0, 0.0, 0.0, 0.0, 0.0, 0.0]   \n",
       "\n",
       "                            col_5                           col_6  \n",
       "0  [0.0, 0.0, 0.0, 0.0, 0.0, 0.0]  [0.0, 0.0, 0.0, 0.0, 0.0, 0.0]  \n",
       "0  [0.0, 0.0, 0.0, 0.0, 0.0, 1.0]  [0.0, 0.0, 0.0, 0.0, 0.0, 0.0]  \n",
       "0  [0.0, 0.0, 0.0, 0.0, 0.0, 1.0]  [0.0, 0.0, 0.0, 0.0, 0.0, 0.0]  \n",
       "0  [0.0, 0.0, 0.0, 0.0, 0.0, 1.0]  [0.0, 0.0, 0.0, 0.0, 0.0, 0.0]  \n",
       "0  [0.0, 0.0, 0.0, 0.0, 0.0, 1.0]  [0.0, 0.0, 0.0, 0.0, 0.0, 0.0]  "
      ]
     },
     "execution_count": 6,
     "metadata": {},
     "output_type": "execute_result"
    }
   ],
   "source": [
    "dataset.head()"
   ]
  },
  {
   "attachments": {},
   "cell_type": "markdown",
   "metadata": {},
   "source": [
    "Now let's explore the dataset (actually, a larger dataset simulated earlier) a bit.\\\n",
    "For example, let's start with plotting the distribution of the moves number."
   ]
  },
  {
   "cell_type": "code",
   "execution_count": 7,
   "metadata": {},
   "outputs": [],
   "source": [
    "# getting a bigger pre-saved dataset\n",
    "if len(dataset.index.unique()) < 10_000:\n",
    "    dataset = read_json('simulations/simulation_random-random_10000.json')"
   ]
  },
  {
   "cell_type": "code",
   "execution_count": 8,
   "metadata": {},
   "outputs": [
    {
     "data": {
      "text/plain": [
       "10000"
      ]
     },
     "execution_count": 8,
     "metadata": {},
     "output_type": "execute_result"
    }
   ],
   "source": [
    "# exactly n simulations, none of them ending in a draw\n",
    "len(dataset.index.unique())"
   ]
  },
  {
   "cell_type": "code",
   "execution_count": 13,
   "metadata": {},
   "outputs": [
    {
     "data": {
      "image/png": "[encoded data removed]",
      "text/plain": [
       "<Figure size 640x480 with 1 Axes>"
      ]
     },
     "metadata": {},
     "output_type": "display_data"
    },
    {
     "data": {
      "text/plain": [
       "array([ 7,  8,  9, 10, 11, 12, 13, 14, 15, 16, 17, 18, 19, 20, 21, 22, 23,\n",
       "       24, 25, 26, 27, 28, 29, 30, 31, 32, 33, 34, 35, 36, 37, 38, 39, 40,\n",
       "       41, 42], dtype=int64)"
      ]
     },
     "execution_count": 13,
     "metadata": {},
     "output_type": "execute_result"
    }
   ],
   "source": [
    "row_count = dataset.groupby(level=0).size()\n",
    "\n",
    "plt.hist(row_count, bins=20, alpha=0.7, edgecolor='black', linewidth=1)\n",
    "plt.title('Game Length [random-random]')\n",
    "plt.text(35, 900, f'$Mean = {row_count.mean().round(2)}$')\n",
    "plt.text(35, 850, f'$Std = {row_count.std().round(2)}$')\n",
    "plt.show()\n",
    "\n",
    "np.sort(row_count.unique())"
   ]
  },
  {
   "attachments": {},
   "cell_type": "markdown",
   "metadata": {},
   "source": [
    "As expected, the absolute frequency follows a Poisson distribution, with the minimum value being 7.\\\n",
    "\\\n",
    "We now check whether one player won more times than the other, and also whether being the initial player may have provided an advantage on the final outcome of the match."
   ]
  },
  {
   "cell_type": "code",
   "execution_count": 14,
   "metadata": {},
   "outputs": [],
   "source": [
    "first_move = dataset.groupby(dataset.index).first() # first row of each sequence (game)\n",
    "last_move = dataset.groupby(dataset.index).last()   # last row of each sequence (game)\n",
    "player_list = first_move['player'].unique()         # players' names"
   ]
  },
  {
   "cell_type": "code",
   "execution_count": 15,
   "metadata": {},
   "outputs": [
    {
     "name": "stdout",
     "output_type": "stream",
     "text": [
      "RandomAI_1 winrate =  0.5094\n",
      "RandomAI_2 winrate =  0.4906\n",
      "Starter winrate  =  0.5562\n"
     ]
    }
   ],
   "source": [
    "for player in player_list:\n",
    "    print(f'{player} winrate = ', len(last_move[last_move['player'] == player]) / len(last_move))\n",
    "print(f'Starter winrate  = ', len(first_move[first_move['player'] == last_move['player']]) / len(last_move))"
   ]
  },
  {
   "attachments": {},
   "cell_type": "markdown",
   "metadata": {},
   "source": [
    "The random players' winrates are basically identical, while it seems that starting the game first can give a certain advantage.\\\n",
    "\\\n",
    "Now you can try to play a game against this random-playing opponent, called *Randy*. The goal is to train a neural network that ultimately provides a much more stimulating level of challenge than *Randy*.\\\n",
    "\\\n",
    "*__Note__: when playing against any autonomous player, remember to set the arguments `pause=True` and `verbose=True`, otherwise the opponent's choice won't be displayed. Just press any key to display its choice during the game.*"
   ]
  },
  {
   "cell_type": "code",
   "execution_count": 10,
   "metadata": {},
   "outputs": [
    {
     "name": "stdout",
     "output_type": "stream",
     "text": [
      "Game Type: user-random\n",
      "Player #1: John, Human\n",
      "Player #2: Randy, RandomAI\n"
     ]
    }
   ],
   "source": [
    "play_game = Game(game_type='user-random', verbose=True, pause=True, player1='John', player2='Randy')"
   ]
  },
  {
   "cell_type": "code",
   "execution_count": 11,
   "metadata": {},
   "outputs": [
    {
     "name": "stdout",
     "output_type": "stream",
     "text": [
      "The WINNER is John, Human!!!\n",
      "+----------------------------------------------------------------+\n",
      "0  |     |     |     |     |     |     |     |\n",
      "   +-----+-----+-----+-----+-----+-----+-----+\n",
      "1  |     |     |     |     |     |     |     |\n",
      "   +-----+-----+-----+-----+-----+-----+-----+\n",
      "2  |     |     |  X  |     |     |     |     |\n",
      "   +-----+-----+-----+-----+-----+-----+-----+\n",
      "3  |     |  O  |  X  |     |     |     |     |\n",
      "   +-----+-----+-----+-----+-----+-----+-----+\n",
      "4  |  O  |  X  |  X  |  O  |     |     |     |\n",
      "   +-----+-----+-----+-----+-----+-----+-----+\n",
      "5  |  X  |  X  |  X  |  O  |  O  |     |  O  |\n",
      "   +-----+-----+-----+-----+-----+-----+-----+\n",
      "      0     1     2     3     4     5     6     \n"
     ]
    }
   ],
   "source": [
    "play_game.play_game()"
   ]
  },
  {
   "attachments": {},
   "cell_type": "markdown",
   "metadata": {},
   "source": [
    "Now let's give a brief demonstration of the `SimplePlayer()` class, which implements the strategy described in the `player_tools.py` file inside the `tools` folder."
   ]
  },
  {
   "cell_type": "code",
   "execution_count": 18,
   "metadata": {},
   "outputs": [
    {
     "name": "stderr",
     "output_type": "stream",
     "text": [
      "Simulating:   0%|               | 0/100 [00:00<?, ?it/s]"
     ]
    },
    {
     "name": "stderr",
     "output_type": "stream",
     "text": [
      "Simulating: 100%|███████████████| 100/100 [00:00<00:00, 145.47it/s]\n"
     ]
    }
   ],
   "source": [
    "dataset = simulation(n=100, game_type='simple-random')\n",
    "# getting a bigger pre-saved dataset\n",
    "if len(dataset.index.unique()) < 10_000:\n",
    "    dataset = read_json('simulations/simulation_simple-random_10000.json')"
   ]
  },
  {
   "cell_type": "code",
   "execution_count": 19,
   "metadata": {},
   "outputs": [
    {
     "data": {
      "image/png": "[encoded data removed]",
      "text/plain": [
       "<Figure size 640x480 with 1 Axes>"
      ]
     },
     "metadata": {},
     "output_type": "display_data"
    },
    {
     "data": {
      "text/plain": [
       "array([ 7,  8,  9, 10, 11, 12, 13, 14, 15, 16, 17, 18, 19, 20, 21, 22, 23,\n",
       "       24, 25, 26, 27, 28, 29, 30, 31, 32, 33, 34, 35, 36, 37, 38, 39, 40,\n",
       "       41, 42], dtype=int64)"
      ]
     },
     "execution_count": 19,
     "metadata": {},
     "output_type": "execute_result"
    }
   ],
   "source": [
    "row_count = dataset.groupby(level=0).size()\n",
    "\n",
    "plt.hist(row_count, bins=20, alpha=0.7, edgecolor='black', linewidth=1)\n",
    "plt.title('Game Length [random-random]')\n",
    "plt.text(35, 1060, f'$Mean = {row_count.mean().round(2)}$')\n",
    "plt.text(35, 1000, f'$Std = {row_count.std().round(2)}$')\n",
    "plt.show()\n",
    "\n",
    "np.sort(row_count.unique())"
   ]
  },
  {
   "attachments": {},
   "cell_type": "markdown",
   "metadata": {},
   "source": [
    "The mean and standard deviation of the distribution are definitely smaller than before: in this simulated dataset the games last less moves in average, and the consistency is higher."
   ]
  },
  {
   "cell_type": "code",
   "execution_count": 20,
   "metadata": {},
   "outputs": [],
   "source": [
    "first_move = dataset.groupby(dataset.index).first() # first row of each sequence (game)\n",
    "last_move = dataset.groupby(dataset.index).last()   # last row of each sequence (game)\n",
    "player_list = first_move['player'].unique()         # players' names"
   ]
  },
  {
   "cell_type": "code",
   "execution_count": 21,
   "metadata": {},
   "outputs": [
    {
     "name": "stdout",
     "output_type": "stream",
     "text": [
      "SimpleAI_1 winrate =  0.9126\n",
      "RandomAI_2 winrate =  0.0874\n",
      "Starter winrate  =  0.5118\n"
     ]
    }
   ],
   "source": [
    "for player in player_list:\n",
    "    print(f'{player} winrate = ', len(last_move[last_move['player'] == player]) / len(last_move))\n",
    "print(f'Starter winrate  = ', len(first_move[first_move['player'] == last_move['player']]) / len(last_move))"
   ]
  },
  {
   "attachments": {},
   "cell_type": "markdown",
   "metadata": {},
   "source": [
    "As you can see, just by implementing a very simple strategy we have obtained an incredible player when compared to the *random* one. If you want a more challenging game, try a game against *Simply*, the `SimplePlayer()` opponent."
   ]
  },
  {
   "cell_type": "code",
   "execution_count": 12,
   "metadata": {},
   "outputs": [
    {
     "name": "stdout",
     "output_type": "stream",
     "text": [
      "The WINNER is Simply, SimpleAI!!!\n",
      "+----------------------------------------------------------------+\n",
      "0  |     |     |     |     |     |     |     |\n",
      "   +-----+-----+-----+-----+-----+-----+-----+\n",
      "1  |  O  |  X  |     |     |     |     |     |\n",
      "   +-----+-----+-----+-----+-----+-----+-----+\n",
      "2  |  O  |  O  |  X  |     |     |     |     |\n",
      "   +-----+-----+-----+-----+-----+-----+-----+\n",
      "3  |  X  |  X  |  X  |  O  |     |     |     |\n",
      "   +-----+-----+-----+-----+-----+-----+-----+\n",
      "4  |  X  |  X  |  X  |  O  |     |     |  O  |\n",
      "   +-----+-----+-----+-----+-----+-----+-----+\n",
      "5  |  X  |  X  |  O  |  O  |  O  |  O  |  O  |\n",
      "   +-----+-----+-----+-----+-----+-----+-----+\n",
      "      0     1     2     3     4     5     6     \n"
     ]
    }
   ],
   "source": [
    "play_game = Game(game_type='user-simple', verbose=True, pause=True, player1='John', player2='Simply')\n",
    "play_game.play_game()"
   ]
  },
  {
   "attachments": {},
   "cell_type": "markdown",
   "metadata": {},
   "source": [
    "Now it's time to get to the core of the project: training a Recurrent Neural Network to learn to play the game with a simulated dataset. We are going to use the dataset produced by two `SimplePlayer()` agents playing against each other.\\\n",
    "To make the Network learn a robust winning strategy, we want to train it using only the moves made by the winner of the game: the `prepare_dataset()` function takes care of exactly that."
   ]
  },
  {
   "cell_type": "code",
   "execution_count": 24,
   "metadata": {},
   "outputs": [
    {
     "name": "stderr",
     "output_type": "stream",
     "text": [
      "Simulating: 100%|███████████████| 100/100 [00:00<00:00, 107.80it/s]\n"
     ]
    }
   ],
   "source": [
    "if not os.path.isfile('simulations/simulation_simple-simple_100000.json'):\n",
    "    url = 'https://drive.google.com/uc?id=1zjc7yvPHA03PpUx9RZ_HHSXPOIMk_jVh'\n",
    "    output = 'simulations/simulation_simple-simple_100000.json'\n",
    "    gdown.download(url, output, quiet=False)\n",
    "\n",
    "    dataset = read_json(output)"
   ]
  },
  {
   "attachments": {},
   "cell_type": "markdown",
   "metadata": {},
   "source": [
    "Before transforming the dataset into a Tensorflow dataset, we have to fix the issue with the length difference between different games. We use sequences that are long just as the mean length of the simulated games.\\\n",
    "However, some of them are shorter and we cannot use different-sized sequences to create a Tensorflow dataset. Then, we need to implement __*0-padding*__, that is, manually filling the missing values with useless data, such as rows with an empty board and a fixed move: on an empty board, we suppose that the best choice is to put the token in column 0.\\\n",
    "For example, if a sequence is shorter by 3 elements, we then add 3 empty boards with the same choice (column 0) to the sequence itself\\\n",
    "\\\n",
    "We also batch this dataset in equally-sized batches, each of them corresponding to the last $n$ moves of a game."
   ]
  },
  {
   "cell_type": "code",
   "execution_count": 25,
   "metadata": {},
   "outputs": [],
   "source": [
    "dataset = df_to_tensor(dataset)"
   ]
  },
  {
   "attachments": {},
   "cell_type": "markdown",
   "metadata": {},
   "source": [
    "The `quickdraw_dataset()` function has the aim of quickdrawing the final dataset - to be used with the neural network - from the tensor created from the dataframe."
   ]
  },
  {
   "cell_type": "code",
   "execution_count": 33,
   "metadata": {},
   "outputs": [],
   "source": [
    "dataset = quickdraw_dataset(dataset, shuffle_buffer_size=50)"
   ]
  },
  {
   "attachments": {},
   "cell_type": "markdown",
   "metadata": {},
   "source": [
    "Before proceeding with the RNN training, I would like to emphasise the data structure we have obtained.\\\n",
    "The final dataset is a tensor of size $N_{batches}$ where $N_{batches}$ is the total number of batches. Each of these batches contains $N_{games}$ board state sequences, each of them associated to the winning move made in the simulation (called *choice* in the previous dataset). Each of these sequences contains $N_{moves}$ last winning moves for each game (this quantity corresponds to the average duration of the matches in the entire dataset).\\\n",
    "Therefore, each feature's shape can be represented as follows:\n",
    "<center>\n",
    "\n",
    "$$shape = (N_{games}, N_{moves}, N_{columns} \\times N_{rows})$$"
   ]
  },
  {
   "cell_type": "code",
   "execution_count": 34,
   "metadata": {},
   "outputs": [
    {
     "name": "stdout",
     "output_type": "stream",
     "text": [
      "(32, 21, 42)\n"
     ]
    }
   ],
   "source": [
    "# sequence of board states (for the 1st batch)\n",
    "for features, targets in dataset.take(1):\n",
    "    features = features.numpy()\n",
    "    shape = features.shape\n",
    "print(shape)"
   ]
  },
  {
   "cell_type": "code",
   "execution_count": 35,
   "metadata": {},
   "outputs": [
    {
     "name": "stdout",
     "output_type": "stream",
     "text": [
      "Mean duration of the games the RNN will be trained on:  21\n"
     ]
    }
   ],
   "source": [
    "# will be useful later for playing with the RNN\n",
    "mean_duration = shape[1]\n",
    "print('Mean duration of the games the RNN will be trained on: ', mean_duration)"
   ]
  },
  {
   "cell_type": "code",
   "execution_count": 36,
   "metadata": {},
   "outputs": [
    {
     "name": "stdout",
     "output_type": "stream",
     "text": [
      "(32,)\n"
     ]
    }
   ],
   "source": [
    "# sequence of moves made on the previous group of board states\n",
    "for features, targets in dataset.take(1):\n",
    "    targets = targets.numpy()\n",
    "print(targets.shape)"
   ]
  },
  {
   "attachments": {},
   "cell_type": "markdown",
   "metadata": {},
   "source": [
    "Now it's time to split the dataset into a training set and a validation set. We don't need the test set since the final metric to evaluate the model's performance will be calculated from a number of simulated games between `RNNPlayer()` and `SimplePlayer()`."
   ]
  },
  {
   "cell_type": "code",
   "execution_count": 37,
   "metadata": {},
   "outputs": [],
   "source": [
    "dataset_size = len(list(dataset))\n",
    "\n",
    "val_size = int(0.2 * dataset_size)\n",
    "val_ds = dataset.take(val_size)\n",
    "train_ds = dataset.skip(val_size)"
   ]
  },
  {
   "cell_type": "code",
   "execution_count": 38,
   "metadata": {},
   "outputs": [],
   "source": [
    "def create_model():\n",
    "    model = tf.keras.Sequential([\n",
    "        tf.keras.layers.Conv1D(32, kernel_size=6, strides=2, activation='relu'),\n",
    "        tf.keras.layers.BatchNormalization(),\n",
    "        tf.keras.layers.Conv1D(64, kernel_size=3, activation='relu'),\n",
    "        tf.keras.layers.BatchNormalization(),\n",
    "        tf.keras.layers.LSTM(64),\n",
    "        tf.keras.layers.Dense(7, activation='softmax')\n",
    "    ])\n",
    "    return model\n",
    "\n",
    "model = create_model()\n",
    "early_stopping_cb = tf.keras.callbacks.EarlyStopping(\n",
    "    monitor='val_accuracy', patience=5, restore_best_weights=True\n",
    ")\n",
    "optimizer = tf.keras.optimizers.SGD(learning_rate=5e-2, clipnorm=1.)\n",
    "model.compile(loss='sparse_categorical_crossentropy',\n",
    "              optimizer=optimizer,\n",
    "              metrics=['accuracy'])"
   ]
  },
  {
   "cell_type": "code",
   "execution_count": null,
   "metadata": {},
   "outputs": [
    {
     "name": "stdout",
     "output_type": "stream",
     "text": [
      "Model: \"sequential_6\"\n",
      "_________________________________________________________________\n",
      " Layer (type)                Output Shape              Param #   \n",
      "=================================================================\n",
      " conv1d_6 (Conv1D)           (None, None, 32)          6752      \n",
      "                                                                 \n",
      " batch_normalization_6 (Batc  (None, None, 32)         128       \n",
      " hNormalization)                                                 \n",
      "                                                                 \n",
      " conv1d_7 (Conv1D)           (None, None, 64)          6208      \n",
      "                                                                 \n",
      " batch_normalization_7 (Batc  (None, None, 64)         256       \n",
      " hNormalization)                                                 \n",
      "                                                                 \n",
      " lstm_3 (LSTM)               (None, 64)                33024     \n",
      "                                                                 \n",
      " dense_3 (Dense)             (None, 7)                 455       \n",
      "                                                                 \n",
      "=================================================================\n",
      "Total params: 46,823\n",
      "Trainable params: 46,631\n",
      "Non-trainable params: 192\n",
      "_________________________________________________________________\n"
     ]
    }
   ],
   "source": [
    "# model's architecture\n",
    "model.summary()"
   ]
  },
  {
   "cell_type": "code",
   "execution_count": 39,
   "metadata": {},
   "outputs": [
    {
     "name": "stdout",
     "output_type": "stream",
     "text": [
      "Epoch 1/20\n",
      "2500/2500 [==============================] - 24s 8ms/step - loss: 1.7051 - accuracy: 0.3204 - val_loss: 1.4169 - val_accuracy: 0.4564\n",
      "Epoch 2/20\n",
      "2500/2500 [==============================] - 23s 9ms/step - loss: 1.1925 - accuracy: 0.5543 - val_loss: 0.9348 - val_accuracy: 0.6610\n",
      "Epoch 3/20\n",
      "2500/2500 [==============================] - 26s 10ms/step - loss: 0.8692 - accuracy: 0.6868 - val_loss: 0.7504 - val_accuracy: 0.7305\n",
      "Epoch 4/20\n",
      "2500/2500 [==============================] - 23s 9ms/step - loss: 0.7223 - accuracy: 0.7436 - val_loss: 0.6535 - val_accuracy: 0.7680\n",
      "Epoch 5/20\n",
      "2500/2500 [==============================] - 22s 9ms/step - loss: 0.6367 - accuracy: 0.7757 - val_loss: 0.6014 - val_accuracy: 0.7919\n",
      "Epoch 6/20\n",
      "2500/2500 [==============================] - 22s 9ms/step - loss: 0.5795 - accuracy: 0.7975 - val_loss: 0.5634 - val_accuracy: 0.8048\n",
      "Epoch 7/20\n",
      "2500/2500 [==============================] - 23s 9ms/step - loss: 0.5393 - accuracy: 0.8117 - val_loss: 0.5216 - val_accuracy: 0.8220\n",
      "Epoch 8/20\n",
      "2500/2500 [==============================] - 22s 9ms/step - loss: 0.4999 - accuracy: 0.8258 - val_loss: 0.4981 - val_accuracy: 0.8274\n",
      "Epoch 9/20\n",
      "2500/2500 [==============================] - 22s 9ms/step - loss: 0.4738 - accuracy: 0.8351 - val_loss: 0.4774 - val_accuracy: 0.8367\n",
      "Epoch 10/20\n",
      "2500/2500 [==============================] - 22s 9ms/step - loss: 0.4476 - accuracy: 0.8444 - val_loss: 0.4678 - val_accuracy: 0.8412\n",
      "Epoch 11/20\n",
      "2500/2500 [==============================] - 22s 8ms/step - loss: 0.4277 - accuracy: 0.8518 - val_loss: 0.4461 - val_accuracy: 0.8480\n",
      "Epoch 12/20\n",
      "2500/2500 [==============================] - 22s 9ms/step - loss: 0.4101 - accuracy: 0.8595 - val_loss: 0.4334 - val_accuracy: 0.8536\n",
      "Epoch 13/20\n",
      "2500/2500 [==============================] - 23s 9ms/step - loss: 0.3939 - accuracy: 0.8648 - val_loss: 0.4313 - val_accuracy: 0.8561\n",
      "Epoch 14/20\n",
      "2500/2500 [==============================] - 22s 9ms/step - loss: 0.3808 - accuracy: 0.8687 - val_loss: 0.4236 - val_accuracy: 0.8592\n",
      "Epoch 15/20\n",
      "2500/2500 [==============================] - 22s 9ms/step - loss: 0.3673 - accuracy: 0.8734 - val_loss: 0.4238 - val_accuracy: 0.8602\n",
      "Epoch 16/20\n",
      "2500/2500 [==============================] - 22s 9ms/step - loss: 0.3556 - accuracy: 0.8787 - val_loss: 0.4145 - val_accuracy: 0.8621\n",
      "Epoch 17/20\n",
      "2500/2500 [==============================] - 24s 9ms/step - loss: 0.3449 - accuracy: 0.8824 - val_loss: 0.4082 - val_accuracy: 0.8626\n",
      "Epoch 18/20\n",
      "2500/2500 [==============================] - 22s 9ms/step - loss: 0.3349 - accuracy: 0.8850 - val_loss: 0.4000 - val_accuracy: 0.8680\n",
      "Epoch 19/20\n",
      "2500/2500 [==============================] - 22s 9ms/step - loss: 0.3241 - accuracy: 0.8884 - val_loss: 0.3982 - val_accuracy: 0.8685\n",
      "Epoch 20/20\n",
      "2500/2500 [==============================] - 22s 8ms/step - loss: 0.3174 - accuracy: 0.8913 - val_loss: 0.3971 - val_accuracy: 0.8684\n"
     ]
    }
   ],
   "source": [
    "history = model.fit(train_ds, epochs=20,\n",
    "                    validation_data=val_ds,\n",
    "                    callbacks=[early_stopping_cb])"
   ]
  },
  {
   "cell_type": "code",
   "execution_count": 42,
   "metadata": {},
   "outputs": [
    {
     "data": {
      "text/plain": [
       "<Figure size 500x300 with 0 Axes>"
      ]
     },
     "metadata": {},
     "output_type": "display_data"
    },
    {
     "data": {
      "image/png": "[encoded data removed]",
      "text/plain": [
       "<Figure size 640x480 with 2 Axes>"
      ]
     },
     "metadata": {},
     "output_type": "display_data"
    }
   ],
   "source": [
    "# plot the learning curves\n",
    "plt.figure(figsize=(5,3))\n",
    "fig, (ax1, ax2) = plt.subplots(2, 1, sharex=True)\n",
    "ax1.plot(history.history['loss'], marker='.')\n",
    "ax2.plot(history.history['accuracy'], marker='.', color='orange')\n",
    "\n",
    "ax1.set_ylabel('Loss')\n",
    "ax2.set_ylabel('Accuracy')\n",
    "plt.xlabel('Epochs')\n",
    "ax1.grid(True)\n",
    "ax2.grid(True)"
   ]
  },
  {
   "cell_type": "code",
   "execution_count": 43,
   "metadata": {},
   "outputs": [
    {
     "name": "stderr",
     "output_type": "stream",
     "text": [
      "Simulating: 100%|███████████████| 200/200 [00:01<00:00, 100.24it/s]\n"
     ]
    },
    {
     "name": "stdout",
     "output_type": "stream",
     "text": [
      "7/7 [==============================] - 1s 3ms/step\n"
     ]
    }
   ],
   "source": [
    "# unfortunately, we always have to pass an entire batch to the model predictor\n",
    "# then, appending the desired sequence at the end of the batch, we can get the prediction's\n",
    "# result by using index slicing on the numpy array\n",
    "test_set = df_to_tensor(simulation(n=200, game_type='simple-simple', save_json=False))\n",
    "test_set = quickdraw_dataset(test_set, shuffle_buffer_size=50)\n",
    "\n",
    "probas = model.predict(test_set)"
   ]
  },
  {
   "cell_type": "code",
   "execution_count": 44,
   "metadata": {},
   "outputs": [
    {
     "name": "stdout",
     "output_type": "stream",
     "text": [
      "Model saved succesfully.\n"
     ]
    }
   ],
   "source": [
    "save_model(model, 'models/1st_model')"
   ]
  },
  {
   "cell_type": "code",
   "execution_count": 19,
   "metadata": {},
   "outputs": [
    {
     "name": "stdout",
     "output_type": "stream",
     "text": [
      "Model succesfully loaded.\n"
     ]
    }
   ],
   "source": [
    "from tools.game_tools import *\n",
    "model = load_model('models/1st_model')"
   ]
  },
  {
   "cell_type": "code",
   "execution_count": 14,
   "metadata": {},
   "outputs": [],
   "source": [
    "# remember to always compile the model after loading it!\n",
    "optimizer = tf.keras.optimizers.SGD(learning_rate=5e-2, clipnorm=1.)\n",
    "model.compile(loss='sparse_categorical_crossentropy',\n",
    "              optimizer=optimizer,\n",
    "              metrics=['accuracy'])"
   ]
  },
  {
   "attachments": {},
   "cell_type": "markdown",
   "metadata": {},
   "source": [
    "Now let's test a simple match against this trained Recurrent Neural Network. We don't expect it to be very good, but maybe it learned something from the previous dataset."
   ]
  },
  {
   "cell_type": "code",
   "execution_count": 16,
   "metadata": {},
   "outputs": [
    {
     "name": "stdout",
     "output_type": "stream",
     "text": [
      "The WINNER is Recurry, RecurrentAI!!!\n",
      "+----------------------------------------------------------------+\n",
      "0  |     |     |     |     |     |     |     |\n",
      "   +-----+-----+-----+-----+-----+-----+-----+\n",
      "1  |  O  |     |     |     |     |     |     |\n",
      "   +-----+-----+-----+-----+-----+-----+-----+\n",
      "2  |  O  |     |     |     |     |     |     |\n",
      "   +-----+-----+-----+-----+-----+-----+-----+\n",
      "3  |  X  |  O  |  X  |     |     |     |     |\n",
      "   +-----+-----+-----+-----+-----+-----+-----+\n",
      "4  |  X  |  X  |  O  |     |  X  |     |     |\n",
      "   +-----+-----+-----+-----+-----+-----+-----+\n",
      "5  |  X  |  X  |  X  |  O  |  O  |  O  |  O  |\n",
      "   +-----+-----+-----+-----+-----+-----+-----+\n",
      "      0     1     2     3     4     5     6     \n"
     ]
    }
   ],
   "source": [
    "play_game = Game(game_type='user-rnn', verbose=True, pause=True, player1='John', player2='Recurry', model=model)\n",
    "play_game.play_game(mean_duration=21)"
   ]
  },
  {
   "attachments": {},
   "cell_type": "markdown",
   "metadata": {},
   "source": [
    "Now let's run a simulation with many games between the RNN player and the Random Player and see if the network has learned a strategy at least better than the random one.\\\n",
    "Then, repeat the same process also for the RNN player and the Simple one."
   ]
  },
  {
   "cell_type": "code",
   "execution_count": 48,
   "metadata": {},
   "outputs": [],
   "source": [
    "dataset = read_json('simulations/simulation_rnn-random-1_1000.json')"
   ]
  },
  {
   "cell_type": "code",
   "execution_count": 49,
   "metadata": {},
   "outputs": [],
   "source": [
    "first_move = dataset.groupby(dataset.index).first() # first row of each sequence (game)\n",
    "last_move = dataset.groupby(dataset.index).last()   # last row of each sequence (game)\n",
    "player_list = first_move['player'].unique()         # players' names"
   ]
  },
  {
   "cell_type": "code",
   "execution_count": 50,
   "metadata": {},
   "outputs": [
    {
     "name": "stdout",
     "output_type": "stream",
     "text": [
      "RecurrentAI_1 winrate =  0.741\n",
      "RandomAI_2 winrate =  0.259\n",
      "Starter winrate  =  0.557\n"
     ]
    }
   ],
   "source": [
    "for player in player_list:\n",
    "    print(f'{player} winrate = ', len(last_move[last_move['player'] == player]) / len(last_move))\n",
    "print(f'Starter winrate  = ', len(first_move[first_move['player'] == last_move['player']]) / len(last_move))"
   ]
  },
  {
   "cell_type": "code",
   "execution_count": 51,
   "metadata": {},
   "outputs": [
    {
     "name": "stdout",
     "output_type": "stream",
     "text": [
      "SimpleAI_2 winrate =  0.601\n",
      "RecurrentAI_1 winrate =  0.399\n",
      "Starter winrate  =  0.573\n"
     ]
    }
   ],
   "source": [
    "dataset = read_json('simulations/simulation_rnn-simple-1_1000.json')\n",
    "first_move = dataset.groupby(dataset.index).first() # first row of each sequence (game)\n",
    "last_move = dataset.groupby(dataset.index).last()   # last row of each sequence (game)\n",
    "player_list = first_move['player'].unique()         # players' names\n",
    "\n",
    "for player in player_list:\n",
    "    print(f'{player} winrate = ', len(last_move[last_move['player'] == player]) / len(last_move))\n",
    "print(f'Starter winrate  = ', len(first_move[first_move['player'] == last_move['player']]) / len(last_move))"
   ]
  },
  {
   "attachments": {},
   "cell_type": "markdown",
   "metadata": {},
   "source": [
    "Now it's time to train the network on another dataset: a dataset built with many games between the Simple player and the Random one: the goal is to make the RNN learn more specific winning moves made by the Simple player."
   ]
  },
  {
   "cell_type": "code",
   "execution_count": 52,
   "metadata": {},
   "outputs": [],
   "source": [
    "if not os.path.isfile('simulations/simulation_simple-random_100000.json'):\n",
    "    url = 'https://drive.google.com/uc?id=1skoFBoe62hGo6vuK5fxoybhIvabKD3u-'\n",
    "    output = 'simulations/simulation_simple-random_100000.json'\n",
    "    gdown.download(url, output, quiet=False)\n",
    "\n",
    "    dataset = read_json(output)"
   ]
  },
  {
   "cell_type": "code",
   "execution_count": 53,
   "metadata": {},
   "outputs": [],
   "source": [
    "dataset = df_to_tensor(dataset)"
   ]
  },
  {
   "cell_type": "code",
   "execution_count": 54,
   "metadata": {},
   "outputs": [],
   "source": [
    "dataset = quickdraw_dataset(dataset, shuffle_buffer_size=50)"
   ]
  },
  {
   "cell_type": "code",
   "execution_count": 55,
   "metadata": {},
   "outputs": [
    {
     "name": "stdout",
     "output_type": "stream",
     "text": [
      "(32, 17, 42)\n"
     ]
    }
   ],
   "source": [
    "# sequence of board states (for the 1st batch)\n",
    "for features, targets in dataset.take(1):\n",
    "    features = features.numpy()\n",
    "    shape = features.shape\n",
    "print(shape)"
   ]
  },
  {
   "cell_type": "code",
   "execution_count": 57,
   "metadata": {},
   "outputs": [
    {
     "name": "stdout",
     "output_type": "stream",
     "text": [
      "Mean duration of the games the RNN will be trained on:  17\n"
     ]
    }
   ],
   "source": [
    "# will be useful later for playing with the RNN\n",
    "mean_duration = shape[1]\n",
    "print('Mean duration of the games the RNN will be trained on: ', mean_duration)"
   ]
  },
  {
   "cell_type": "code",
   "execution_count": 58,
   "metadata": {},
   "outputs": [],
   "source": [
    "dataset_size = len(list(dataset))\n",
    "\n",
    "val_size = int(0.2 * dataset_size)\n",
    "val_ds = dataset.take(val_size)\n",
    "train_ds = dataset.skip(val_size)"
   ]
  },
  {
   "cell_type": "code",
   "execution_count": 59,
   "metadata": {},
   "outputs": [],
   "source": [
    "# same model as before\n",
    "model = create_model()\n",
    "early_stopping_cb = tf.keras.callbacks.EarlyStopping(\n",
    "    monitor='val_accuracy', patience=5, restore_best_weights=True\n",
    ")\n",
    "optimizer = tf.keras.optimizers.SGD(learning_rate=5e-2, clipnorm=1.)\n",
    "model.compile(loss='sparse_categorical_crossentropy',\n",
    "              optimizer=optimizer,\n",
    "              metrics=['accuracy'])"
   ]
  },
  {
   "cell_type": "code",
   "execution_count": 60,
   "metadata": {},
   "outputs": [
    {
     "name": "stdout",
     "output_type": "stream",
     "text": [
      "Epoch 1/20\n",
      "2500/2500 [==============================] - 23s 8ms/step - loss: 1.3372 - accuracy: 0.5106 - val_loss: 0.9891 - val_accuracy: 0.6579\n",
      "Epoch 2/20\n",
      "2500/2500 [==============================] - 18s 7ms/step - loss: 0.9076 - accuracy: 0.6877 - val_loss: 0.7849 - val_accuracy: 0.7329\n",
      "Epoch 3/20\n",
      "2500/2500 [==============================] - 18s 7ms/step - loss: 0.7624 - accuracy: 0.7402 - val_loss: 0.6923 - val_accuracy: 0.7625\n",
      "Epoch 4/20\n",
      "2500/2500 [==============================] - 19s 8ms/step - loss: 0.6847 - accuracy: 0.7677 - val_loss: 0.6324 - val_accuracy: 0.7846\n",
      "Epoch 5/20\n",
      "2500/2500 [==============================] - 18s 7ms/step - loss: 0.6276 - accuracy: 0.7865 - val_loss: 0.5842 - val_accuracy: 0.8037\n",
      "Epoch 6/20\n",
      "2500/2500 [==============================] - 19s 7ms/step - loss: 0.5848 - accuracy: 0.8015 - val_loss: 0.5621 - val_accuracy: 0.8110\n",
      "Epoch 7/20\n",
      "2500/2500 [==============================] - 19s 7ms/step - loss: 0.5513 - accuracy: 0.8135 - val_loss: 0.5343 - val_accuracy: 0.8206\n",
      "Epoch 8/20\n",
      "2500/2500 [==============================] - 19s 8ms/step - loss: 0.5263 - accuracy: 0.8221 - val_loss: 0.5129 - val_accuracy: 0.8299\n",
      "Epoch 9/20\n",
      "2500/2500 [==============================] - 19s 7ms/step - loss: 0.5016 - accuracy: 0.8315 - val_loss: 0.4966 - val_accuracy: 0.8345\n",
      "Epoch 10/20\n",
      "2500/2500 [==============================] - 19s 7ms/step - loss: 0.4787 - accuracy: 0.8383 - val_loss: 0.4868 - val_accuracy: 0.8397\n",
      "Epoch 11/20\n",
      "2500/2500 [==============================] - 19s 7ms/step - loss: 0.4642 - accuracy: 0.8451 - val_loss: 0.4741 - val_accuracy: 0.8447\n",
      "Epoch 12/20\n",
      "2500/2500 [==============================] - 19s 7ms/step - loss: 0.4479 - accuracy: 0.8493 - val_loss: 0.4686 - val_accuracy: 0.8454\n",
      "Epoch 13/20\n",
      "2500/2500 [==============================] - 20s 8ms/step - loss: 0.4353 - accuracy: 0.8540 - val_loss: 0.4504 - val_accuracy: 0.8508\n",
      "Epoch 14/20\n",
      "2500/2500 [==============================] - 19s 7ms/step - loss: 0.4210 - accuracy: 0.8574 - val_loss: 0.4417 - val_accuracy: 0.8542\n",
      "Epoch 15/20\n",
      "2500/2500 [==============================] - 20s 8ms/step - loss: 0.4095 - accuracy: 0.8619 - val_loss: 0.4309 - val_accuracy: 0.8587\n",
      "Epoch 16/20\n",
      "2500/2500 [==============================] - 20s 8ms/step - loss: 0.3962 - accuracy: 0.8658 - val_loss: 0.4370 - val_accuracy: 0.8565\n",
      "Epoch 17/20\n",
      "2500/2500 [==============================] - 20s 8ms/step - loss: 0.3884 - accuracy: 0.8685 - val_loss: 0.4273 - val_accuracy: 0.8605\n",
      "Epoch 18/20\n",
      "2500/2500 [==============================] - 20s 8ms/step - loss: 0.3798 - accuracy: 0.8715 - val_loss: 0.4208 - val_accuracy: 0.8601\n",
      "Epoch 19/20\n",
      "2500/2500 [==============================] - 20s 8ms/step - loss: 0.3712 - accuracy: 0.8744 - val_loss: 0.4136 - val_accuracy: 0.8634\n",
      "Epoch 20/20\n",
      "2500/2500 [==============================] - 21s 8ms/step - loss: 0.3635 - accuracy: 0.8768 - val_loss: 0.4153 - val_accuracy: 0.8658\n"
     ]
    }
   ],
   "source": [
    "history = model.fit(train_ds, epochs=20,\n",
    "                    validation_data=val_ds,\n",
    "                    callbacks=[early_stopping_cb])"
   ]
  },
  {
   "cell_type": "code",
   "execution_count": 61,
   "metadata": {},
   "outputs": [
    {
     "data": {
      "text/plain": [
       "<Figure size 500x300 with 0 Axes>"
      ]
     },
     "metadata": {},
     "output_type": "display_data"
    },
    {
     "data": {
      "image/png": "[encoded data removed]",
      "text/plain": [
       "<Figure size 640x480 with 2 Axes>"
      ]
     },
     "metadata": {},
     "output_type": "display_data"
    }
   ],
   "source": [
    "plt.figure(figsize=(5,3))\n",
    "fig, (ax1, ax2) = plt.subplots(2, 1, sharex=True)\n",
    "ax1.plot(history.history['loss'], marker='.')\n",
    "ax2.plot(history.history['accuracy'], marker='.', color='orange')\n",
    "\n",
    "ax1.set_ylabel('Loss')\n",
    "ax2.set_ylabel('Accuracy')\n",
    "plt.xlabel('Epochs')\n",
    "ax1.grid(True)\n",
    "ax2.grid(True)"
   ]
  },
  {
   "cell_type": "code",
   "execution_count": 62,
   "metadata": {},
   "outputs": [
    {
     "name": "stdout",
     "output_type": "stream",
     "text": [
      "Model saved succesfully.\n"
     ]
    }
   ],
   "source": [
    "save_model(model, 'models/2nd_model')"
   ]
  },
  {
   "cell_type": "code",
   "execution_count": 17,
   "metadata": {},
   "outputs": [],
   "source": [
    "# remember to always compile the model after loading it!\n",
    "optimizer = tf.keras.optimizers.SGD(learning_rate=5e-2, clipnorm=1.)\n",
    "model.compile(loss='sparse_categorical_crossentropy',\n",
    "              optimizer=optimizer,\n",
    "              metrics=['accuracy'])"
   ]
  },
  {
   "cell_type": "code",
   "execution_count": 18,
   "metadata": {},
   "outputs": [
    {
     "name": "stdout",
     "output_type": "stream",
     "text": [
      "The WINNER is Recurry, RecurrentAI!!!\n",
      "+----------------------------------------------------------------+\n",
      "0  |     |     |     |     |     |     |     |\n",
      "   +-----+-----+-----+-----+-----+-----+-----+\n",
      "1  |     |     |     |     |     |     |     |\n",
      "   +-----+-----+-----+-----+-----+-----+-----+\n",
      "2  |  O  |     |     |     |     |     |     |\n",
      "   +-----+-----+-----+-----+-----+-----+-----+\n",
      "3  |  X  |  O  |     |     |     |     |     |\n",
      "   +-----+-----+-----+-----+-----+-----+-----+\n",
      "4  |  X  |  O  |  O  |  O  |  X  |  O  |     |\n",
      "   +-----+-----+-----+-----+-----+-----+-----+\n",
      "5  |  X  |  X  |  X  |  O  |  O  |  X  |  X  |\n",
      "   +-----+-----+-----+-----+-----+-----+-----+\n",
      "      0     1     2     3     4     5     6     \n"
     ]
    }
   ],
   "source": [
    "play_game = Game(game_type='user-rnn', verbose=True, pause=True, player1='John', player2='Recurry', model=model)\n",
    "play_game.play_game(mean_duration=17)"
   ]
  },
  {
   "cell_type": "code",
   "execution_count": 65,
   "metadata": {},
   "outputs": [],
   "source": [
    "dataset = read_json('simulations/simulation_rnn-random-2_1000.json')"
   ]
  },
  {
   "cell_type": "code",
   "execution_count": 66,
   "metadata": {},
   "outputs": [],
   "source": [
    "first_move = dataset.groupby(dataset.index).first() # first row of each sequence (game)\n",
    "last_move = dataset.groupby(dataset.index).last()   # last row of each sequence (game)\n",
    "player_list = first_move['player'].unique()         # players' names"
   ]
  },
  {
   "cell_type": "code",
   "execution_count": 67,
   "metadata": {},
   "outputs": [
    {
     "name": "stdout",
     "output_type": "stream",
     "text": [
      "RandomAI_2 winrate =  0.068\n",
      "RecurrentAI_1 winrate =  0.932\n",
      "Starter winrate  =  0.541\n"
     ]
    }
   ],
   "source": [
    "for player in player_list:\n",
    "    print(f'{player} winrate = ', len(last_move[last_move['player'] == player]) / len(last_move))\n",
    "print(f'Starter winrate  = ', len(first_move[first_move['player'] == last_move['player']]) / len(last_move))"
   ]
  },
  {
   "cell_type": "code",
   "execution_count": 68,
   "metadata": {},
   "outputs": [
    {
     "name": "stdout",
     "output_type": "stream",
     "text": [
      "RecurrentAI_1 winrate =  0.513\n",
      "SimpleAI_2 winrate =  0.487\n",
      "Starter winrate  =  0.565\n"
     ]
    }
   ],
   "source": [
    "dataset = read_json('simulations/simulation_rnn-simple-2_1000.json')\n",
    "first_move = dataset.groupby(dataset.index).first() # first row of each sequence (game)\n",
    "last_move = dataset.groupby(dataset.index).last()   # last row of each sequence (game)\n",
    "player_list = first_move['player'].unique()         # players' names\n",
    "\n",
    "for player in player_list:\n",
    "    print(f'{player} winrate = ', len(last_move[last_move['player'] == player]) / len(last_move))\n",
    "print(f'Starter winrate  = ', len(first_move[first_move['player'] == last_move['player']]) / len(last_move))"
   ]
  },
  {
   "attachments": {},
   "cell_type": "markdown",
   "metadata": {},
   "source": [
    "The results on this second dataset are even better! We have obtained a player capable of outperforming the hard-coded startegy!\n",
    "## Conclusion\n",
    "Unfortunately, the available hardware for this project was not excellent, therefore I had to strongly limit the number of training instances, as well as the number of training epochs. At the same time, I could not do many attempts to tweak all the hyperparameters, since they were very time-consuming and very expensive in terms of computational power.\\\n",
    "However, the results I have obtained show a great potential for this recurrent approach to the game of Connect 4, since it was sufficient to give the RNN a dataset to make it learn a strategy that outperforms the random one.\\\n",
    "Furthermore, in the last part of the project, we discovered that we can train the RNN to learn and replicate the `SimplePLayer()` strategy, ending up being even better at the game.\\\n",
    "However, as mentioned also in the `player_tools.md` file, the RNN suffers from a problem associated to the difference between training sequences and on-line *playing* sequences: this issue makes the RNN's first few moves quite unintelligible from the point of view of a human player, since they are clearly not random but they also do not point towards winning the game.\\\n",
    "Despite being quite promising, I think that these results do not justify the usage of this kind of network in games, especially when compared to an algorithm of __Reinforcement Learning__ that is often able to outperform the human player.\\\n",
    "\\\n",
    "*__Possible Developments__*: of course one of the most interesting possible developments would be to incorporate the Reinforcement Learning approach, making the network train itself also while playing, and giving it a reward or a penalty (decreasing or increasing the cost function) for good or bad moves.\\\n",
    "Another possible improvement would be training the network on a much larger dataset (perhaps $10^6$ games) in order to make it learn from a wider variety of board states and take more consistent decisions.\\\n",
    "In fact even the best network we have obtained is pretty simple to defeat from a human perspective."
   ]
  }
 ],
 "metadata": {
  "kernelspec": {
   "display_name": "Python 3",
   "language": "python",
   "name": "python3"
  },
  "language_info": {
   "codemirror_mode": {
    "name": "ipython",
    "version": 3
   },
   "file_extension": ".py",
   "mimetype": "text/x-python",
   "name": "python",
   "nbconvert_exporter": "python",
   "pygments_lexer": "ipython3",
   "version": "3.11.3"
  },
  "orig_nbformat": 4
 },
 "nbformat": 4,
 "nbformat_minor": 2
}
